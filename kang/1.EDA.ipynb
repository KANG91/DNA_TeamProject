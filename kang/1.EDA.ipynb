{
 "cells": [
  {
   "cell_type": "markdown",
   "metadata": {},
   "source": [
    "## Santander product recommendation\n",
    "\n",
    "### 모든 칼럼들에 대한 value 및 EDA 전처리, EDA 방향 잡기"
   ]
  },
  {
   "cell_type": "markdown",
   "metadata": {},
   "source": [
    "About 'Primary customer'  \n",
    "http://www.rhythmsystems.com/blog/what-is-the-difference-between-a-primary-and-secondary-core-customer"
   ]
  },
  {
   "cell_type": "markdown",
   "metadata": {},
   "source": [
    "- fecha_dato(datetime) : 날짜 데이터(제대로 이해한게 맞다면 15-01-28 부터 16-05-28까지\n",
    "- ncodpers(id) : 고객 번호(고유값?)\n",
    "- ind_empleado(status_emplo) : 직원 상태\n",
    "> A : 재직중\n",
    "> B : 퇴사\n",
    "> F : fillial(자식의?)\n",
    "> N : 직원이 아님\n",
    "> P : pasive?\n",
    "- pais_residencia(residence) : 고객 거주지\n",
    "- sexo(sex) : 고객 성별\n",
    "- age(age) : 고객 나이\n",
    "- fecha_alta(become_fh) : 고객이 은행에 first holder가 된 날\n",
    "- ind_nuevo(new_or_not) : 새 고객인가 아닌가, 6개월 이내 등록했으면 새 고객\n",
    "- antiguedad(seniority) : 고객 서열(월단위)\n",
    "- indrel(pri_or_not) : \n",
    "> 1은 primary customer(구매의사가 충분한 고객?) \n",
    "> 99는 primary customer이다가 월말에는 primary customer가 아니게 됨\n",
    "- ult_fec_cli_1t : primary customer 로써 마지막 date\n",
    "- indrel_1mes(type_of_cus) : 월초의 고객 타입 \n",
    "> 1 : Primary customer\n",
    "> 2 : 공동 소유자\n",
    "> P : 잠재 고객\n",
    "> 3 : 이전 Primary \n",
    "> 4 : 이전 공동 소유자\n",
    "- tiprel_1mes(relation_of_cus) :월초의 고객 관계\n",
    "A : active\n",
    "I : inactive\n",
    "P : former customer\n",
    "R : Potential\n",
    "- indresi(resi_ind) : \n",
    "> S(Yes) or N(NO): 고객 거주지와 은행 위치가 **같은** 나라인가\n",
    "- indext(foreign_ind) : \n",
    "> S(Yes) or N(NO) : 외국인의 출생국가와 은행 위치가 **다른가**?\n",
    "- conyuemp(spouse) : 직원의 배우자 인가 아닌가 \n",
    "> 1일 경우 직원의 배우자\n",
    "- canal_entrada(?) : 고객이 조인하기 위해 사용되어진 채널?\n",
    "- indfall : 죽은 고객?\n",
    "- tipodom : 주소 타입\n",
    "- cod_prov :  고객 주소(Province code)\n",
    "- nomprov : province name\n",
    "- ind_actividad_clie\n",
    "> 1 : active customer\n",
    "> 0 : inactive customer\n",
    "- renta : gross income of the household(가정의 총 수입)\n",
    "- segmento :\n",
    "> 1 - VIP\n",
    "> 2 - individuals\n",
    "> 3 - college graduated\n",
    "- ind_ahor_fin_ult1\tSaving Account\n",
    "- ind_aval_fin_ult1\tGuarantees\n",
    "- ind_cco_fin_ult1\tCurrent Accounts\n",
    "- ind_cder_fin_ult1\tDerivada Account\n",
    "- ind_cno_fin_ult1\tPayroll Account\n",
    "- ind_ctju_fin_ult1\tJunior Account\n",
    "- ind_ctma_fin_ult1\tMás particular Account\n",
    "- ind_ctop_fin_ult1\tparticular Account\n",
    "- ind_ctpp_fin_ult1\tparticular Plus Account\n",
    "- ind_deco_fin_ult1\tShort-term deposits\n",
    "- ind_deme_fin_ult1\tMedium-term deposits\n",
    "- ind_dela_fin_ult1\tLong-term deposits\n",
    "- ind_ecue_fin_ult1\te-account\n",
    "- ind_fond_fin_ult1\tFunds\n",
    "- ind_hip_fin_ult1\tMortgage\n",
    "- ind_plan_fin_ult1\tPensions\n",
    "- ind_pres_fin_ult1\tLoans\n",
    "- ind_reca_fin_ult1\tTaxes\n",
    "- ind_tjcr_fin_ult1\tCredit Card\n",
    "- ind_valo_fin_ult1\tSecurities\n",
    "- ind_viv_fin_ult1\tHome Account\n",
    "- ind_nomina_ult1\tPayroll\n",
    "- ind_nom_pens_ult1\tPensions\n",
    "- ind_recibo_ult1\tDirect Debit"
   ]
  },
  {
   "cell_type": "markdown",
   "metadata": {},
   "source": [
    "- 스페인어로 된 columns name들을 영어로 바꾸는 건 어떨까"
   ]
  },
  {
   "cell_type": "code",
   "execution_count": 1,
   "metadata": {
    "collapsed": true
   },
   "outputs": [
    {
     "name": "stderr",
     "output_type": "stream",
     "text": [
      "C:\\Users\\ledes\\Anaconda3\\lib\\site-packages\\ipykernel_launcher.py:6: UserWarning: \n",
      "This call to matplotlib.use() has no effect because the backend has already\n",
      "been chosen; matplotlib.use() must be called *before* pylab, matplotlib.pyplot,\n",
      "or matplotlib.backends is imported for the first time.\n",
      "\n",
      "The backend was *originally* set to 'module://ipykernel.pylab.backend_inline' by the following code:\n",
      "  File \"C:\\Users\\ledes\\Anaconda3\\lib\\runpy.py\", line 193, in _run_module_as_main\n",
      "    \"__main__\", mod_spec)\n",
      "  File \"C:\\Users\\ledes\\Anaconda3\\lib\\runpy.py\", line 85, in _run_code\n",
      "    exec(code, run_globals)\n",
      "  File \"C:\\Users\\ledes\\Anaconda3\\lib\\site-packages\\ipykernel_launcher.py\", line 16, in <module>\n",
      "    app.launch_new_instance()\n",
      "  File \"C:\\Users\\ledes\\Anaconda3\\lib\\site-packages\\traitlets\\config\\application.py\", line 658, in launch_instance\n",
      "    app.start()\n",
      "  File \"C:\\Users\\ledes\\Anaconda3\\lib\\site-packages\\ipykernel\\kernelapp.py\", line 477, in start\n",
      "    ioloop.IOLoop.instance().start()\n",
      "  File \"C:\\Users\\ledes\\Anaconda3\\lib\\site-packages\\zmq\\eventloop\\ioloop.py\", line 177, in start\n",
      "    super(ZMQIOLoop, self).start()\n",
      "  File \"C:\\Users\\ledes\\Anaconda3\\lib\\site-packages\\tornado\\ioloop.py\", line 888, in start\n",
      "    handler_func(fd_obj, events)\n",
      "  File \"C:\\Users\\ledes\\Anaconda3\\lib\\site-packages\\tornado\\stack_context.py\", line 277, in null_wrapper\n",
      "    return fn(*args, **kwargs)\n",
      "  File \"C:\\Users\\ledes\\Anaconda3\\lib\\site-packages\\zmq\\eventloop\\zmqstream.py\", line 440, in _handle_events\n",
      "    self._handle_recv()\n",
      "  File \"C:\\Users\\ledes\\Anaconda3\\lib\\site-packages\\zmq\\eventloop\\zmqstream.py\", line 472, in _handle_recv\n",
      "    self._run_callback(callback, msg)\n",
      "  File \"C:\\Users\\ledes\\Anaconda3\\lib\\site-packages\\zmq\\eventloop\\zmqstream.py\", line 414, in _run_callback\n",
      "    callback(*args, **kwargs)\n",
      "  File \"C:\\Users\\ledes\\Anaconda3\\lib\\site-packages\\tornado\\stack_context.py\", line 277, in null_wrapper\n",
      "    return fn(*args, **kwargs)\n",
      "  File \"C:\\Users\\ledes\\Anaconda3\\lib\\site-packages\\ipykernel\\kernelbase.py\", line 283, in dispatcher\n",
      "    return self.dispatch_shell(stream, msg)\n",
      "  File \"C:\\Users\\ledes\\Anaconda3\\lib\\site-packages\\ipykernel\\kernelbase.py\", line 235, in dispatch_shell\n",
      "    handler(stream, idents, msg)\n",
      "  File \"C:\\Users\\ledes\\Anaconda3\\lib\\site-packages\\ipykernel\\kernelbase.py\", line 399, in execute_request\n",
      "    user_expressions, allow_stdin)\n",
      "  File \"C:\\Users\\ledes\\Anaconda3\\lib\\site-packages\\ipykernel\\ipkernel.py\", line 196, in do_execute\n",
      "    res = shell.run_cell(code, store_history=store_history, silent=silent)\n",
      "  File \"C:\\Users\\ledes\\Anaconda3\\lib\\site-packages\\ipykernel\\zmqshell.py\", line 533, in run_cell\n",
      "    return super(ZMQInteractiveShell, self).run_cell(*args, **kwargs)\n",
      "  File \"C:\\Users\\ledes\\Anaconda3\\lib\\site-packages\\IPython\\core\\interactiveshell.py\", line 2698, in run_cell\n",
      "    interactivity=interactivity, compiler=compiler, result=result)\n",
      "  File \"C:\\Users\\ledes\\Anaconda3\\lib\\site-packages\\IPython\\core\\interactiveshell.py\", line 2802, in run_ast_nodes\n",
      "    if self.run_code(code, result):\n",
      "  File \"C:\\Users\\ledes\\Anaconda3\\lib\\site-packages\\IPython\\core\\interactiveshell.py\", line 2862, in run_code\n",
      "    exec(code_obj, self.user_global_ns, self.user_ns)\n",
      "  File \"<ipython-input-1-3e5c9dd1348d>\", line 2, in <module>\n",
      "    import seaborn as sns\n",
      "  File \"C:\\Users\\ledes\\Anaconda3\\lib\\site-packages\\seaborn\\__init__.py\", line 6, in <module>\n",
      "    from .rcmod import *\n",
      "  File \"C:\\Users\\ledes\\Anaconda3\\lib\\site-packages\\seaborn\\rcmod.py\", line 8, in <module>\n",
      "    from . import palettes, _orig_rc_params\n",
      "  File \"C:\\Users\\ledes\\Anaconda3\\lib\\site-packages\\seaborn\\palettes.py\", line 12, in <module>\n",
      "    from .utils import desaturate, set_hls_values, get_color_cycle\n",
      "  File \"C:\\Users\\ledes\\Anaconda3\\lib\\site-packages\\seaborn\\utils.py\", line 11, in <module>\n",
      "    import matplotlib.pyplot as plt\n",
      "  File \"C:\\Users\\ledes\\Anaconda3\\lib\\site-packages\\matplotlib\\pyplot.py\", line 72, in <module>\n",
      "    from matplotlib.backends import pylab_setup\n",
      "  File \"C:\\Users\\ledes\\Anaconda3\\lib\\site-packages\\matplotlib\\backends\\__init__.py\", line 14, in <module>\n",
      "    line for line in traceback.format_stack()\n",
      "\n",
      "\n",
      "  \n",
      "C:\\Users\\ledes\\Anaconda3\\lib\\site-packages\\ipykernel_launcher.py:15: UserWarning: \n",
      "This call to matplotlib.use() has no effect because the backend has already\n",
      "been chosen; matplotlib.use() must be called *before* pylab, matplotlib.pyplot,\n",
      "or matplotlib.backends is imported for the first time.\n",
      "\n",
      "The backend was *originally* set to 'module://ipykernel.pylab.backend_inline' by the following code:\n",
      "  File \"C:\\Users\\ledes\\Anaconda3\\lib\\runpy.py\", line 193, in _run_module_as_main\n",
      "    \"__main__\", mod_spec)\n",
      "  File \"C:\\Users\\ledes\\Anaconda3\\lib\\runpy.py\", line 85, in _run_code\n",
      "    exec(code, run_globals)\n",
      "  File \"C:\\Users\\ledes\\Anaconda3\\lib\\site-packages\\ipykernel_launcher.py\", line 16, in <module>\n",
      "    app.launch_new_instance()\n",
      "  File \"C:\\Users\\ledes\\Anaconda3\\lib\\site-packages\\traitlets\\config\\application.py\", line 658, in launch_instance\n",
      "    app.start()\n",
      "  File \"C:\\Users\\ledes\\Anaconda3\\lib\\site-packages\\ipykernel\\kernelapp.py\", line 477, in start\n",
      "    ioloop.IOLoop.instance().start()\n",
      "  File \"C:\\Users\\ledes\\Anaconda3\\lib\\site-packages\\zmq\\eventloop\\ioloop.py\", line 177, in start\n",
      "    super(ZMQIOLoop, self).start()\n",
      "  File \"C:\\Users\\ledes\\Anaconda3\\lib\\site-packages\\tornado\\ioloop.py\", line 888, in start\n",
      "    handler_func(fd_obj, events)\n",
      "  File \"C:\\Users\\ledes\\Anaconda3\\lib\\site-packages\\tornado\\stack_context.py\", line 277, in null_wrapper\n",
      "    return fn(*args, **kwargs)\n",
      "  File \"C:\\Users\\ledes\\Anaconda3\\lib\\site-packages\\zmq\\eventloop\\zmqstream.py\", line 440, in _handle_events\n",
      "    self._handle_recv()\n",
      "  File \"C:\\Users\\ledes\\Anaconda3\\lib\\site-packages\\zmq\\eventloop\\zmqstream.py\", line 472, in _handle_recv\n",
      "    self._run_callback(callback, msg)\n",
      "  File \"C:\\Users\\ledes\\Anaconda3\\lib\\site-packages\\zmq\\eventloop\\zmqstream.py\", line 414, in _run_callback\n",
      "    callback(*args, **kwargs)\n",
      "  File \"C:\\Users\\ledes\\Anaconda3\\lib\\site-packages\\tornado\\stack_context.py\", line 277, in null_wrapper\n",
      "    return fn(*args, **kwargs)\n",
      "  File \"C:\\Users\\ledes\\Anaconda3\\lib\\site-packages\\ipykernel\\kernelbase.py\", line 283, in dispatcher\n",
      "    return self.dispatch_shell(stream, msg)\n",
      "  File \"C:\\Users\\ledes\\Anaconda3\\lib\\site-packages\\ipykernel\\kernelbase.py\", line 235, in dispatch_shell\n",
      "    handler(stream, idents, msg)\n",
      "  File \"C:\\Users\\ledes\\Anaconda3\\lib\\site-packages\\ipykernel\\kernelbase.py\", line 399, in execute_request\n",
      "    user_expressions, allow_stdin)\n",
      "  File \"C:\\Users\\ledes\\Anaconda3\\lib\\site-packages\\ipykernel\\ipkernel.py\", line 196, in do_execute\n",
      "    res = shell.run_cell(code, store_history=store_history, silent=silent)\n",
      "  File \"C:\\Users\\ledes\\Anaconda3\\lib\\site-packages\\ipykernel\\zmqshell.py\", line 533, in run_cell\n",
      "    return super(ZMQInteractiveShell, self).run_cell(*args, **kwargs)\n",
      "  File \"C:\\Users\\ledes\\Anaconda3\\lib\\site-packages\\IPython\\core\\interactiveshell.py\", line 2698, in run_cell\n",
      "    interactivity=interactivity, compiler=compiler, result=result)\n",
      "  File \"C:\\Users\\ledes\\Anaconda3\\lib\\site-packages\\IPython\\core\\interactiveshell.py\", line 2802, in run_ast_nodes\n",
      "    if self.run_code(code, result):\n",
      "  File \"C:\\Users\\ledes\\Anaconda3\\lib\\site-packages\\IPython\\core\\interactiveshell.py\", line 2862, in run_code\n",
      "    exec(code_obj, self.user_global_ns, self.user_ns)\n",
      "  File \"<ipython-input-1-3e5c9dd1348d>\", line 2, in <module>\n",
      "    import seaborn as sns\n",
      "  File \"C:\\Users\\ledes\\Anaconda3\\lib\\site-packages\\seaborn\\__init__.py\", line 6, in <module>\n",
      "    from .rcmod import *\n",
      "  File \"C:\\Users\\ledes\\Anaconda3\\lib\\site-packages\\seaborn\\rcmod.py\", line 8, in <module>\n",
      "    from . import palettes, _orig_rc_params\n",
      "  File \"C:\\Users\\ledes\\Anaconda3\\lib\\site-packages\\seaborn\\palettes.py\", line 12, in <module>\n",
      "    from .utils import desaturate, set_hls_values, get_color_cycle\n",
      "  File \"C:\\Users\\ledes\\Anaconda3\\lib\\site-packages\\seaborn\\utils.py\", line 11, in <module>\n",
      "    import matplotlib.pyplot as plt\n",
      "  File \"C:\\Users\\ledes\\Anaconda3\\lib\\site-packages\\matplotlib\\pyplot.py\", line 72, in <module>\n",
      "    from matplotlib.backends import pylab_setup\n",
      "  File \"C:\\Users\\ledes\\Anaconda3\\lib\\site-packages\\matplotlib\\backends\\__init__.py\", line 14, in <module>\n",
      "    line for line in traceback.format_stack()\n",
      "\n",
      "\n",
      "  from ipykernel import kernelapp as app\n"
     ]
    }
   ],
   "source": [
    "import pandas as pd\n",
    "import seaborn as sns\n",
    "import scipy as sp\n",
    "import sklearn as sk\n",
    "import matplotlib as mpl\n",
    "mpl.use('Agg')\n",
    "import matplotlib.pylab as plt\n",
    "from mpl_toolkits.mplot3d import Axes3D\n",
    "\n",
    "\n",
    "import numpy as np\n",
    "import scipy as sp\n",
    "import sklearn as sk\n",
    "\n",
    "mpl.use('Agg')\n",
    "\n",
    "%matplotlib inline\n",
    "\n",
    "sns.set()"
   ]
  },
  {
   "cell_type": "code",
   "execution_count": 3,
   "metadata": {
    "collapsed": true
   },
   "outputs": [
    {
     "name": "stderr",
     "output_type": "stream",
     "text": [
      "C:\\Users\\ledes\\Anaconda3\\lib\\site-packages\\IPython\\core\\interactiveshell.py:2698: DtypeWarning: Columns (5,8,11,15) have mixed types. Specify dtype option on import or set low_memory=False.\n",
      "  interactivity=interactivity, compiler=compiler, result=result)\n",
      "C:\\Users\\ledes\\Anaconda3\\lib\\site-packages\\IPython\\core\\interactiveshell.py:2698: DtypeWarning: Columns (15) have mixed types. Specify dtype option on import or set low_memory=False.\n",
      "  interactivity=interactivity, compiler=compiler, result=result)\n"
     ]
    }
   ],
   "source": [
    "#데이터 셋 불러오기\n",
    "train = pd.read_csv(\"train_ver2.csv\")\n",
    "test = pd.read_csv(\"test_ver2.csv\")"
   ]
  },
  {
   "cell_type": "code",
   "execution_count": 4,
   "metadata": {},
   "outputs": [
    {
     "name": "stdout",
     "output_type": "stream",
     "text": [
      "shape of train data :  (13647309, 48)\n",
      "shape of test data :  (929615, 24)\n"
     ]
    }
   ],
   "source": [
    "#데이터 column, row 파악\n",
    "print(\"shape of train data : \", train.shape)\n",
    "print(\"shape of test data : \", test.shape)"
   ]
  },
  {
   "cell_type": "markdown",
   "metadata": {},
   "source": [
    "### 칼럼별 Null 파악"
   ]
  },
  {
   "cell_type": "code",
   "execution_count": null,
   "metadata": {
    "collapsed": true
   },
   "outputs": [],
   "source": [
    "train.isnull().sum()"
   ]
  },
  {
   "cell_type": "markdown",
   "metadata": {},
   "source": [
    "데이터의 대부분이 null 값인 column = ** ult_fec_cli_1t, conyuemp**"
   ]
  },
  {
   "cell_type": "markdown",
   "metadata": {},
   "source": [
    "### 칼럼별 데이터 파악\n",
    "- 시각화가 가능한 EDA : 앞 100만개를 자른 부분을 통해 국소적인 부분만 판단\n",
    "- 시각화가 불가능한  EDA : 전체 데이터를 이용"
   ]
  },
  {
   "cell_type": "code",
   "execution_count": null,
   "metadata": {
    "collapsed": true,
    "scrolled": true
   },
   "outputs": [],
   "source": [
    "#전체 데이터 셋 이용한 데이터의 unique value  파악\n",
    "try :\n",
    "    for col in range(len(train.columns)) : \n",
    "        print(\"Number of unique value in {0}:{1}\".format(train.columns[col],len(train[train.columns[col]].unique())))\n",
    "except Exception as e:\n",
    "    print(e)\n",
    "    pass"
   ]
  },
  {
   "cell_type": "markdown",
   "metadata": {},
   "source": [
    "## fecha_dato"
   ]
  },
  {
   "cell_type": "code",
   "execution_count": null,
   "metadata": {
    "collapsed": true,
    "scrolled": true
   },
   "outputs": [],
   "source": [
    "train[\"fecha_dato\"].value_counts()"
   ]
  },
  {
   "cell_type": "markdown",
   "metadata": {},
   "source": [
    "#### Comment\n",
    "fecha_dato (date) : \n",
    "- 날짜 데이터, str 형태\n",
    "- pandas의 datetime으로 활용가능\n",
    "- ** 사실상 카테고리로 봐도 무방할 듯**"
   ]
  },
  {
   "cell_type": "markdown",
   "metadata": {},
   "source": [
    "## ncodpers"
   ]
  },
  {
   "cell_type": "code",
   "execution_count": null,
   "metadata": {
    "collapsed": true,
    "scrolled": true
   },
   "outputs": [],
   "source": [
    "train[\"ncodpers\"].value_counts()"
   ]
  },
  {
   "cell_type": "code",
   "execution_count": null,
   "metadata": {
    "collapsed": true
   },
   "outputs": [],
   "source": [
    "(train[\"ncodpers\"].value_counts()).max()"
   ]
  },
  {
   "cell_type": "markdown",
   "metadata": {},
   "source": [
    "#### Comment\n",
    "ncodpers(id) : \n",
    "- 고객 개개인의 id로 볼 수있는 는 unique한 값이 아닌 중복되는 값이 존재 -> EDA과정에서 살펴볼 필요가 있음.\n",
    "-  최대 17개까지 중복\n",
    "- int 형태"
   ]
  },
  {
   "cell_type": "markdown",
   "metadata": {},
   "source": [
    "## ind_empleado"
   ]
  },
  {
   "cell_type": "code",
   "execution_count": null,
   "metadata": {
    "collapsed": true
   },
   "outputs": [],
   "source": [
    "train[\"ind_empleado\"].value_counts()"
   ]
  },
  {
   "cell_type": "markdown",
   "metadata": {},
   "source": [
    "#### Comment\n",
    "ind_empleado(emplo_status) : \n",
    "- 칼럼 값들의 대부분이 N을 가지고 있음\n",
    "- str 형태인데 왜 int64라고 뜨지?\n",
    "- 이정도 차이면 직원인지 아닌지에 따라 0과 1로 나누어도 되지 않을까"
   ]
  },
  {
   "cell_type": "markdown",
   "metadata": {},
   "source": [
    "## pais_residencia"
   ]
  },
  {
   "cell_type": "code",
   "execution_count": null,
   "metadata": {
    "collapsed": true,
    "scrolled": true
   },
   "outputs": [],
   "source": [
    "train[\"pais_residencia\"].value_counts()"
   ]
  },
  {
   "cell_type": "markdown",
   "metadata": {},
   "source": [
    "#### Comment\n",
    "pais_residencia(nationality) :\n",
    "- 국적, CountryCode를 나타내는 듯\n",
    "- 대부분의 값이 ES, 이정도 차이면 스페인인지 아닌지에 따라 0과 1로 나누어도 되지 않을까\n",
    "- str 형태인데 왜 int64라고 뜨지?\n"
   ]
  },
  {
   "cell_type": "markdown",
   "metadata": {},
   "source": [
    "## sexo"
   ]
  },
  {
   "cell_type": "code",
   "execution_count": null,
   "metadata": {
    "collapsed": true
   },
   "outputs": [],
   "source": [
    "train[\"sexo\"].value_counts()"
   ]
  },
  {
   "cell_type": "markdown",
   "metadata": {},
   "source": [
    "#### Comment\n",
    "sexo(sex) :\n",
    "- V : 여성, H : 남성 -> 여성의 수가 130만명가량 많은 편\n",
    "- str형태인데 왜 int64라고 뜨지?\n"
   ]
  },
  {
   "cell_type": "markdown",
   "metadata": {},
   "source": [
    "## age"
   ]
  },
  {
   "cell_type": "code",
   "execution_count": null,
   "metadata": {
    "collapsed": true,
    "scrolled": true
   },
   "outputs": [],
   "source": [
    "train[\"age\"].value_counts()"
   ]
  },
  {
   "cell_type": "code",
   "execution_count": null,
   "metadata": {
    "collapsed": true,
    "scrolled": true
   },
   "outputs": [],
   "source": [
    "print(\"age의 null 개수 : \", train[\"age\"].isnull().sum())\n",
    "print(\"age의 value가 ' NA' 인 것의 개수 : \", len(train[train[\"age\"] == ' NA']))"
   ]
  },
  {
   "cell_type": "code",
   "execution_count": null,
   "metadata": {
    "collapsed": true
   },
   "outputs": [],
   "source": [
    "train[\"age\"].isnull().sum()"
   ]
  },
  {
   "cell_type": "code",
   "execution_count": null,
   "metadata": {
    "collapsed": true
   },
   "outputs": [],
   "source": [
    "def to_int(x) :\n",
    "    if x == \" NA\" :\n",
    "        result = None\n",
    "    else :\n",
    "        result = int(x)\n",
    "        \n",
    "    return result"
   ]
  },
  {
   "cell_type": "code",
   "execution_count": null,
   "metadata": {
    "collapsed": true,
    "scrolled": true
   },
   "outputs": [],
   "source": [
    "#value가 ' NA'인것을 제외한 후 int로 형 변환\n",
    "train[\"age\"] = train[\"age\"].apply(to_int)"
   ]
  },
  {
   "cell_type": "code",
   "execution_count": null,
   "metadata": {
    "collapsed": true,
    "scrolled": false
   },
   "outputs": [],
   "source": [
    "print(\"age의 null 개수 : \", train[\"age\"].isnull().sum())\n",
    "print(\"나이가 가장 많은 고객 : \", train[\"age\"].max())\n",
    "print(\"나이가 가장 어린 고객 : \", train[\"age\"].min())\n",
    "print(\"100세 이상인 고객 : \", len(train[train[\"age\"] >= 100]))\n",
    "print(\"15세 미만인 고객 : \", len(train[train[\"age\"] < 16]))"
   ]
  },
  {
   "cell_type": "markdown",
   "metadata": {},
   "source": [
    "#### Comment\n",
    "age(age) :\n",
    "- ' NA', null값으로는 인식되지 않지만, 값이 없는 수치들 발견  \n",
    "- to_int 함수를 제작\n",
    "> str 형태들을 int 형으로 형변환  \n",
    "> null값이나 마찬 가지인 ' NA' 들을 null 값으로 만들어줌  "
   ]
  },
  {
   "cell_type": "markdown",
   "metadata": {},
   "source": [
    "## fecha_alta"
   ]
  },
  {
   "cell_type": "code",
   "execution_count": null,
   "metadata": {
    "collapsed": true,
    "scrolled": true
   },
   "outputs": [],
   "source": [
    "train[\"fecha_alta\"].value_counts()"
   ]
  },
  {
   "cell_type": "code",
   "execution_count": null,
   "metadata": {
    "collapsed": true,
    "scrolled": false
   },
   "outputs": [],
   "source": [
    "#최초거래일이 가장 빠른 고객의 날짜\n",
    "pd.to_datetime(train[\"fecha_alta\"]).min()"
   ]
  },
  {
   "cell_type": "code",
   "execution_count": null,
   "metadata": {
    "collapsed": true,
    "scrolled": true
   },
   "outputs": [],
   "source": [
    "#최초거래일이 가장 최근인 고객의 날짜\n",
    "pd.to_datetime(train[\"fecha_alta\"]).max()"
   ]
  },
  {
   "cell_type": "markdown",
   "metadata": {},
   "source": [
    "#### Comment\n",
    "fecha_alta(become_cus) : \n",
    "- str형태의 날짜 데이터\n",
    "- fecha_dato와 함께 두 번째 날짜 데이터"
   ]
  },
  {
   "cell_type": "markdown",
   "metadata": {},
   "source": [
    "## ind_nuevo"
   ]
  },
  {
   "cell_type": "code",
   "execution_count": null,
   "metadata": {
    "collapsed": true,
    "scrolled": true
   },
   "outputs": [],
   "source": [
    "train[\"ind_nuevo\"].value_counts()"
   ]
  },
  {
   "cell_type": "markdown",
   "metadata": {},
   "source": [
    "#### Comment\n",
    "ind_nuevo(new_before_6) :\n",
    "- 0이 대부분 -> 대부분의 고객이 새 고객이 아님\n",
    "- 실수형 데이터"
   ]
  },
  {
   "cell_type": "markdown",
   "metadata": {},
   "source": [
    "## antiguedad"
   ]
  },
  {
   "cell_type": "code",
   "execution_count": null,
   "metadata": {
    "collapsed": true,
    "scrolled": true
   },
   "outputs": [],
   "source": [
    "train['antiguedad'].value_counts()"
   ]
  },
  {
   "cell_type": "code",
   "execution_count": null,
   "metadata": {
    "collapsed": true
   },
   "outputs": [],
   "source": [
    "def func_for_antiguedad(x) :\n",
    "    if x == '     NA' :\n",
    "        result = None\n",
    "    else :\n",
    "        result = int(x)\n",
    "        \n",
    "    return result"
   ]
  },
  {
   "cell_type": "code",
   "execution_count": null,
   "metadata": {
    "collapsed": true,
    "scrolled": true
   },
   "outputs": [],
   "source": [
    "train['antiguedad'] = train['antiguedad'].apply(func_for_antiguedad)"
   ]
  },
  {
   "cell_type": "markdown",
   "metadata": {},
   "source": [
    "#### Comment\n",
    "antiguedad(seniority) : \n",
    "- 공백이 있는 형태의 str 타입 \n",
    "- (-)가 있음을 발견(우선 방치)\n",
    "- ** numeric 전환 후, unique value 개수가 507 -> 259개로 감소('12'와  '     12' 같은 값들이 하나로 합쳐짐) **"
   ]
  },
  {
   "cell_type": "markdown",
   "metadata": {},
   "source": [
    "## indrel"
   ]
  },
  {
   "cell_type": "code",
   "execution_count": null,
   "metadata": {
    "collapsed": true
   },
   "outputs": [],
   "source": [
    "train[\"indrel\"].value_counts()"
   ]
  },
  {
   "cell_type": "markdown",
   "metadata": {},
   "source": [
    "#### Comment\n",
    "indrel(primary_or_not) : \n",
    "- 1 일 경우 월초 primary, 99 일 경우 월말에는 primary가 아님\n",
    "- 대부분이 월초 primary 상태\n"
   ]
  },
  {
   "cell_type": "markdown",
   "metadata": {},
   "source": [
    "## ult_fec_cli_1t"
   ]
  },
  {
   "cell_type": "code",
   "execution_count": null,
   "metadata": {
    "collapsed": true,
    "scrolled": true
   },
   "outputs": [],
   "source": [
    "train[\"ult_fec_cli_1t\"].value_counts()"
   ]
  },
  {
   "cell_type": "markdown",
   "metadata": {},
   "source": [
    "#### Comment\n",
    "ult_fec_cli_1t(last_primary) :\n",
    "- 마지막으로 primary customer 였던 날짜\n",
    "- 대부분이 null"
   ]
  },
  {
   "cell_type": "markdown",
   "metadata": {},
   "source": [
    "## indrel_1mes"
   ]
  },
  {
   "cell_type": "code",
   "execution_count": null,
   "metadata": {
    "collapsed": true
   },
   "outputs": [],
   "source": [
    "train.shape"
   ]
  },
  {
   "cell_type": "code",
   "execution_count": null,
   "metadata": {
    "collapsed": true,
    "scrolled": true
   },
   "outputs": [],
   "source": [
    "train[\"indrel_1mes\"].value_counts()"
   ]
  },
  {
   "cell_type": "code",
   "execution_count": null,
   "metadata": {
    "collapsed": true
   },
   "outputs": [],
   "source": [
    "#같은 값을 가져야 하지만, 타입이 달라 데이터가 분산되어 나옴 -> 통일\n",
    "# 'P'를 제외한 모든 값들을 int로 형 변환\n",
    "def func_for_indrel(x) :\n",
    "    number = \"0123456789\"\n",
    "    if type(x) == str :\n",
    "        if x[0] in number :\n",
    "            result = int(float(x))\n",
    "        else :\n",
    "            result = x\n",
    "    else :\n",
    "        result = x\n",
    "    \n",
    "    return result"
   ]
  },
  {
   "cell_type": "code",
   "execution_count": null,
   "metadata": {
    "collapsed": true,
    "scrolled": true
   },
   "outputs": [],
   "source": [
    "train[\"indrel_1mes\"] = train[\"indrel_1mes\"].apply(func_for_indrel)"
   ]
  },
  {
   "cell_type": "markdown",
   "metadata": {},
   "source": [
    "#### Comment\n",
    "indrel_1mes(type_of_cus) : \n",
    "- 같은 값이나, 서로 다른 타입으로 되어있던 값들을 하나의 값으로 통일 시켜줌\n",
    "- 1이 압도적으로 많음\n"
   ]
  },
  {
   "cell_type": "markdown",
   "metadata": {},
   "source": [
    "## tiprel_1mes"
   ]
  },
  {
   "cell_type": "code",
   "execution_count": null,
   "metadata": {
    "collapsed": true,
    "scrolled": true
   },
   "outputs": [],
   "source": [
    "train[\"tiprel_1mes\"].value_counts()"
   ]
  },
  {
   "cell_type": "markdown",
   "metadata": {},
   "source": [
    "#### Comment \n",
    "tiprel_1mes(relation_of_cus) : \n",
    "- 카테고리 설명에 없는 4개의 N 값 발견"
   ]
  },
  {
   "cell_type": "markdown",
   "metadata": {},
   "source": [
    "## indresi"
   ]
  },
  {
   "cell_type": "code",
   "execution_count": null,
   "metadata": {
    "collapsed": true
   },
   "outputs": [],
   "source": [
    "train[\"indresi\"].value_counts()"
   ]
  },
  {
   "cell_type": "code",
   "execution_count": null,
   "metadata": {
    "collapsed": true
   },
   "outputs": [],
   "source": [
    "train[\"indresi\"].isnull().sum()"
   ]
  },
  {
   "cell_type": "markdown",
   "metadata": {},
   "source": [
    "#### Comment\n",
    "indresi(same_country) : \n",
    "- 특이사항 없음"
   ]
  },
  {
   "cell_type": "markdown",
   "metadata": {},
   "source": [
    "## indext"
   ]
  },
  {
   "cell_type": "code",
   "execution_count": null,
   "metadata": {
    "collapsed": true
   },
   "outputs": [],
   "source": [
    "train[\"indext\"].value_counts()"
   ]
  },
  {
   "cell_type": "code",
   "execution_count": null,
   "metadata": {
    "collapsed": true,
    "scrolled": true
   },
   "outputs": [],
   "source": [
    "train[\"indext\"].isnull().sum()"
   ]
  },
  {
   "cell_type": "markdown",
   "metadata": {},
   "source": [
    "#### Comment\n",
    "- null 값이 27734로 동일한 칼럼이 많은 것을 발견"
   ]
  },
  {
   "cell_type": "code",
   "execution_count": null,
   "metadata": {
    "collapsed": true
   },
   "outputs": [],
   "source": [
    "#row별 null  개수를 확인...하려했으나 어찌된 일인지 이것도 수행하지 못해서 우선 패스\n",
    "null_row = train.apply(lambda x: len(train.columns) - x.count(), axis=1)"
   ]
  },
  {
   "cell_type": "markdown",
   "metadata": {},
   "source": [
    "## conyuemp"
   ]
  },
  {
   "cell_type": "code",
   "execution_count": 5,
   "metadata": {},
   "outputs": [
    {
     "data": {
      "text/plain": [
       "N    1791\n",
       "S      17\n",
       "Name: conyuemp, dtype: int64"
      ]
     },
     "execution_count": 5,
     "metadata": {},
     "output_type": "execute_result"
    }
   ],
   "source": [
    "train[\"conyuemp\"].value_counts()"
   ]
  },
  {
   "cell_type": "markdown",
   "metadata": {},
   "source": [
    "#### Comment\n",
    "conyuemp(spouse) : \n",
    "-  배우자 여부이나, 대부분이 null"
   ]
  },
  {
   "cell_type": "markdown",
   "metadata": {},
   "source": [
    "## canal_entrada"
   ]
  },
  {
   "cell_type": "code",
   "execution_count": 6,
   "metadata": {
    "scrolled": true
   },
   "outputs": [
    {
     "data": {
      "text/plain": [
       "KHE    4055270\n",
       "KAT    3268209\n",
       "KFC    3098360\n",
       "KHQ     591039\n",
       "KFA     409669\n",
       "KHK     241084\n",
       "KHM     183924\n",
       "KHD     116891\n",
       "KHN     116608\n",
       "KAS      86221\n",
       "RED      75607\n",
       "KAG      74295\n",
       "KAY      67350\n",
       "KAA      66656\n",
       "KAB      62381\n",
       "KAE      50764\n",
       "KCC      49308\n",
       "KBZ      46446\n",
       "KHL      45128\n",
       "KFD      44461\n",
       "KAI      37699\n",
       "KEY      35146\n",
       "KAW      34275\n",
       "KAR      32686\n",
       "KAZ      32186\n",
       "KAF      30559\n",
       "007      29063\n",
       "013      27139\n",
       "KCI      26546\n",
       "KAH      24875\n",
       "        ...   \n",
       "004        210\n",
       "KCQ        198\n",
       "KDN        197\n",
       "KCR        196\n",
       "KDH        191\n",
       "KCO        179\n",
       "KEE        175\n",
       "KCP        158\n",
       "K00        152\n",
       "KBE        147\n",
       "KEQ        146\n",
       "KFB        107\n",
       "KAV        107\n",
       "KCT        105\n",
       "KBX        102\n",
       "KBP         85\n",
       "KEM         68\n",
       "KCX         67\n",
       "KFV         67\n",
       "KBN         61\n",
       "KHA         51\n",
       "KGU         28\n",
       "KGC         28\n",
       "KDI         17\n",
       "KDB         17\n",
       "KGN         17\n",
       "025         11\n",
       "KDL         11\n",
       "KHS          5\n",
       "KHR          1\n",
       "Name: canal_entrada, Length: 162, dtype: int64"
      ]
     },
     "execution_count": 6,
     "metadata": {},
     "output_type": "execute_result"
    }
   ],
   "source": [
    "train[\"canal_entrada\"].value_counts()"
   ]
  },
  {
   "cell_type": "code",
   "execution_count": 9,
   "metadata": {
    "scrolled": true
   },
   "outputs": [
    {
     "data": {
      "text/plain": [
       "186126"
      ]
     },
     "execution_count": 9,
     "metadata": {},
     "output_type": "execute_result"
    }
   ],
   "source": [
    "train[\"canal_entrada\"].isnull().sum()"
   ]
  },
  {
   "cell_type": "markdown",
   "metadata": {},
   "source": [
    "#### Comment\n",
    "canal_entrada(channel) :\n",
    "- 고객이 은행에 접촉하게 된 계기, 코드에 대한 이해는 아직 찾지 못함"
   ]
  },
  {
   "cell_type": "markdown",
   "metadata": {},
   "source": [
    "## indfall"
   ]
  },
  {
   "cell_type": "code",
   "execution_count": 13,
   "metadata": {},
   "outputs": [
    {
     "data": {
      "text/plain": [
       "N    13584813\n",
       "S       34762\n",
       "Name: indfall, dtype: int64"
      ]
     },
     "execution_count": 13,
     "metadata": {},
     "output_type": "execute_result"
    }
   ],
   "source": [
    "train[\"indfall\"].value_counts()"
   ]
  },
  {
   "cell_type": "code",
   "execution_count": 14,
   "metadata": {},
   "outputs": [
    {
     "data": {
      "text/plain": [
       "27734"
      ]
     },
     "execution_count": 14,
     "metadata": {},
     "output_type": "execute_result"
    }
   ],
   "source": [
    "train[\"indfall\"].isnull().sum()"
   ]
  },
  {
   "cell_type": "markdown",
   "metadata": {},
   "source": [
    "#### Comment\n",
    "indfall(dead) : \n",
    "- 고객이 죽었나 살았나.\n",
    "- 살아있는 사람이 대부분"
   ]
  },
  {
   "cell_type": "markdown",
   "metadata": {},
   "source": [
    "## tipodom"
   ]
  },
  {
   "cell_type": "code",
   "execution_count": 16,
   "metadata": {},
   "outputs": [
    {
     "data": {
      "text/plain": [
       "1.0    13619574\n",
       "Name: tipodom, dtype: int64"
      ]
     },
     "execution_count": 16,
     "metadata": {},
     "output_type": "execute_result"
    }
   ],
   "source": [
    "train[\"tipodom\"].value_counts()"
   ]
  },
  {
   "cell_type": "code",
   "execution_count": 17,
   "metadata": {},
   "outputs": [
    {
     "data": {
      "text/plain": [
       "27735"
      ]
     },
     "execution_count": 17,
     "metadata": {},
     "output_type": "execute_result"
    }
   ],
   "source": [
    "train[\"tipodom\"].isnull().sum()"
   ]
  },
  {
   "cell_type": "markdown",
   "metadata": {},
   "source": [
    "#### Comment\n",
    "tipodom(address) : \n",
    "- primary의 주소 타입, 전부 1\n",
    "-  null값을 제외하고 전부 1, 어떻게 활용할까"
   ]
  },
  {
   "cell_type": "markdown",
   "metadata": {},
   "source": [
    "## cod_prov"
   ]
  },
  {
   "cell_type": "code",
   "execution_count": 21,
   "metadata": {},
   "outputs": [
    {
     "data": {
      "text/plain": [
       "28.0    4409600\n",
       "8.0     1275219\n",
       "46.0     682304\n",
       "41.0     605164\n",
       "15.0     429322\n",
       "30.0     396759\n",
       "29.0     367023\n",
       "50.0     342543\n",
       "3.0      313397\n",
       "11.0     294684\n",
       "36.0     280026\n",
       "33.0     265749\n",
       "47.0     238259\n",
       "35.0     235700\n",
       "6.0      192996\n",
       "48.0     185888\n",
       "45.0     183067\n",
       "18.0     178562\n",
       "37.0     164238\n",
       "39.0     155706\n",
       "14.0     144679\n",
       "10.0     129912\n",
       "7.0      124933\n",
       "21.0     122283\n",
       "13.0     119390\n",
       "2.0      114128\n",
       "12.0     104295\n",
       "43.0     100115\n",
       "9.0       97188\n",
       "17.0      90538\n",
       "31.0      88618\n",
       "26.0      85202\n",
       "27.0      84962\n",
       "32.0      84009\n",
       "24.0      83003\n",
       "25.0      79059\n",
       "20.0      71567\n",
       "38.0      70968\n",
       "19.0      64618\n",
       "23.0      64363\n",
       "4.0       60291\n",
       "16.0      57310\n",
       "49.0      50927\n",
       "34.0      49282\n",
       "40.0      42341\n",
       "22.0      40181\n",
       "5.0       38783\n",
       "1.0       37704\n",
       "44.0      22525\n",
       "42.0      17660\n",
       "52.0       9460\n",
       "51.0       7218\n",
       "Name: cod_prov, dtype: int64"
      ]
     },
     "execution_count": 21,
     "metadata": {},
     "output_type": "execute_result"
    }
   ],
   "source": [
    "train[\"cod_prov\"].value_counts()"
   ]
  },
  {
   "cell_type": "markdown",
   "metadata": {},
   "source": [
    "![santander_prov_code](C:\\Users\\ledes\\study\\DNA_TeamProject\\kang\\santander_prov_code.jpg)"
   ]
  }
 ],
 "metadata": {
  "kernelspec": {
   "display_name": "Python 3",
   "language": "python",
   "name": "python3"
  }
 },
 "nbformat": 4,
 "nbformat_minor": 2
}
