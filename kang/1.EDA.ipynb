{
 "cells": [
  {
   "cell_type": "markdown",
   "metadata": {},
   "source": [
    "## 두 번째 프로젝트, 'santander product recommendation'"
   ]
  },
  {
   "cell_type": "markdown",
   "metadata": {},
   "source": [
    "About 'Primary customer'  \n",
    "http://www.rhythmsystems.com/blog/what-is-the-difference-between-a-primary-and-secondary-core-customer"
   ]
  },
  {
   "cell_type": "markdown",
   "metadata": {},
   "source": [
    "- fecha_dato : 날짜 데이터(제대로 이해한게 맞다면 15-01-28 부터 16-05-28까지\n",
    "- ncodpers : 고객 번호(고유값?)\n",
    "- ind_empleado : 직원 상태\n",
    "> A : 재직중\n",
    "> B : 퇴사\n",
    "> F : fillial(자식의?)\n",
    "> N : 직원이 아님\n",
    "> P : pasive?\n",
    "- pais_residencia : 고객 거주지\n",
    "- sexo : 고객 성별\n",
    "- age : 고객 나이\n",
    "- fecha_alta : 고객이 은행에 first holder가 된 날\n",
    "- ind_nuevo : 새 고객인가 아닌가, 6개월 이내 등록했으면 새 고객\n",
    "- antiguedad : 고객 서열(월단위)\n",
    "- indrel : \n",
    "> 1은 primary customer(구매의사가 충분한 고객?) \n",
    "> 99는 primary customer이다가 월말에는 primary customer가 아니게 됨\n",
    "- ult_fec_cli_1t : primary customer 로써 마지막 date\n",
    "- indrel_1mes : 월초의 고객 타입 \n",
    "> 1 : Primary customer\n",
    "> 2 : 공동 소유자\n",
    "> P : 잠재 고객\n",
    "> 3 : 이전 Primary \n",
    "> 4 : 이전 공동 소유자\n",
    "- tiprel_1mes :월초의 고객 관계\n",
    "A : active\n",
    "I : inactive\n",
    "P : former customer\n",
    "R : Potential\n",
    "- indresi : \n",
    "> S(Yes) or N(NO): 고객 거주지와 은행 위치가 **같은** 나라인가\n",
    "- indext : \n",
    "> S(Yes) or N(NO) : 외국인의 출생국가와 은행 위치가 **다른가**?\n",
    "- conyuemp : 직원의 배우자 인가 아닌가 \n",
    "> 1일 경우 직원의 배우자\n",
    "- canal_entrada : 고객이 조인하기 위해 사용되어진 채널?\n",
    "- indfall : 죽은 고객?\n",
    "- tipodom : 주소 타입\n",
    "- cod_prov :  고객 주소(Province code)\n",
    "- nomprov : province name\n",
    "- ind_actividad_clie\n",
    "> 1 : active customer\n",
    "> 0 : inactive customer\n",
    "- renta : gross income of the household(가정의 총 수입)\n",
    "- segmento :\n",
    "> 1 - VIP\n",
    "> 2 - individuals\n",
    "> 3 - college graduated\n",
    "- ind_ahor_fin_ult1 : Saving Account"
   ]
  },
  {
   "cell_type": "markdown",
   "metadata": {},
   "source": [
    "- 스페인어로 된 columns name들을 영어로 바꾸는 건 어떨까"
   ]
  },
  {
   "cell_type": "code",
   "execution_count": 9,
   "metadata": {
    "collapsed": true
   },
   "outputs": [
    {
     "name": "stderr",
     "output_type": "stream",
     "text": [
      "C:\\Users\\ledes\\Anaconda3\\lib\\site-packages\\ipykernel_launcher.py:6: UserWarning: \n",
      "This call to matplotlib.use() has no effect because the backend has already\n",
      "been chosen; matplotlib.use() must be called *before* pylab, matplotlib.pyplot,\n",
      "or matplotlib.backends is imported for the first time.\n",
      "\n",
      "The backend was *originally* set to 'module://ipykernel.pylab.backend_inline' by the following code:\n",
      "  File \"C:\\Users\\ledes\\Anaconda3\\lib\\runpy.py\", line 193, in _run_module_as_main\n",
      "    \"__main__\", mod_spec)\n",
      "  File \"C:\\Users\\ledes\\Anaconda3\\lib\\runpy.py\", line 85, in _run_code\n",
      "    exec(code, run_globals)\n",
      "  File \"C:\\Users\\ledes\\Anaconda3\\lib\\site-packages\\ipykernel_launcher.py\", line 16, in <module>\n",
      "    app.launch_new_instance()\n",
      "  File \"C:\\Users\\ledes\\Anaconda3\\lib\\site-packages\\traitlets\\config\\application.py\", line 658, in launch_instance\n",
      "    app.start()\n",
      "  File \"C:\\Users\\ledes\\Anaconda3\\lib\\site-packages\\ipykernel\\kernelapp.py\", line 477, in start\n",
      "    ioloop.IOLoop.instance().start()\n",
      "  File \"C:\\Users\\ledes\\Anaconda3\\lib\\site-packages\\zmq\\eventloop\\ioloop.py\", line 177, in start\n",
      "    super(ZMQIOLoop, self).start()\n",
      "  File \"C:\\Users\\ledes\\Anaconda3\\lib\\site-packages\\tornado\\ioloop.py\", line 888, in start\n",
      "    handler_func(fd_obj, events)\n",
      "  File \"C:\\Users\\ledes\\Anaconda3\\lib\\site-packages\\tornado\\stack_context.py\", line 277, in null_wrapper\n",
      "    return fn(*args, **kwargs)\n",
      "  File \"C:\\Users\\ledes\\Anaconda3\\lib\\site-packages\\zmq\\eventloop\\zmqstream.py\", line 440, in _handle_events\n",
      "    self._handle_recv()\n",
      "  File \"C:\\Users\\ledes\\Anaconda3\\lib\\site-packages\\zmq\\eventloop\\zmqstream.py\", line 472, in _handle_recv\n",
      "    self._run_callback(callback, msg)\n",
      "  File \"C:\\Users\\ledes\\Anaconda3\\lib\\site-packages\\zmq\\eventloop\\zmqstream.py\", line 414, in _run_callback\n",
      "    callback(*args, **kwargs)\n",
      "  File \"C:\\Users\\ledes\\Anaconda3\\lib\\site-packages\\tornado\\stack_context.py\", line 277, in null_wrapper\n",
      "    return fn(*args, **kwargs)\n",
      "  File \"C:\\Users\\ledes\\Anaconda3\\lib\\site-packages\\ipykernel\\kernelbase.py\", line 283, in dispatcher\n",
      "    return self.dispatch_shell(stream, msg)\n",
      "  File \"C:\\Users\\ledes\\Anaconda3\\lib\\site-packages\\ipykernel\\kernelbase.py\", line 235, in dispatch_shell\n",
      "    handler(stream, idents, msg)\n",
      "  File \"C:\\Users\\ledes\\Anaconda3\\lib\\site-packages\\ipykernel\\kernelbase.py\", line 399, in execute_request\n",
      "    user_expressions, allow_stdin)\n",
      "  File \"C:\\Users\\ledes\\Anaconda3\\lib\\site-packages\\ipykernel\\ipkernel.py\", line 196, in do_execute\n",
      "    res = shell.run_cell(code, store_history=store_history, silent=silent)\n",
      "  File \"C:\\Users\\ledes\\Anaconda3\\lib\\site-packages\\ipykernel\\zmqshell.py\", line 533, in run_cell\n",
      "    return super(ZMQInteractiveShell, self).run_cell(*args, **kwargs)\n",
      "  File \"C:\\Users\\ledes\\Anaconda3\\lib\\site-packages\\IPython\\core\\interactiveshell.py\", line 2698, in run_cell\n",
      "    interactivity=interactivity, compiler=compiler, result=result)\n",
      "  File \"C:\\Users\\ledes\\Anaconda3\\lib\\site-packages\\IPython\\core\\interactiveshell.py\", line 2802, in run_ast_nodes\n",
      "    if self.run_code(code, result):\n",
      "  File \"C:\\Users\\ledes\\Anaconda3\\lib\\site-packages\\IPython\\core\\interactiveshell.py\", line 2862, in run_code\n",
      "    exec(code_obj, self.user_global_ns, self.user_ns)\n",
      "  File \"<ipython-input-9-3e5c9dd1348d>\", line 2, in <module>\n",
      "    import seaborn as sns\n",
      "  File \"C:\\Users\\ledes\\Anaconda3\\lib\\site-packages\\seaborn\\__init__.py\", line 6, in <module>\n",
      "    from .rcmod import *\n",
      "  File \"C:\\Users\\ledes\\Anaconda3\\lib\\site-packages\\seaborn\\rcmod.py\", line 8, in <module>\n",
      "    from . import palettes, _orig_rc_params\n",
      "  File \"C:\\Users\\ledes\\Anaconda3\\lib\\site-packages\\seaborn\\palettes.py\", line 12, in <module>\n",
      "    from .utils import desaturate, set_hls_values, get_color_cycle\n",
      "  File \"C:\\Users\\ledes\\Anaconda3\\lib\\site-packages\\seaborn\\utils.py\", line 11, in <module>\n",
      "    import matplotlib.pyplot as plt\n",
      "  File \"C:\\Users\\ledes\\Anaconda3\\lib\\site-packages\\matplotlib\\pyplot.py\", line 72, in <module>\n",
      "    from matplotlib.backends import pylab_setup\n",
      "  File \"C:\\Users\\ledes\\Anaconda3\\lib\\site-packages\\matplotlib\\backends\\__init__.py\", line 14, in <module>\n",
      "    line for line in traceback.format_stack()\n",
      "\n",
      "\n",
      "  \n",
      "C:\\Users\\ledes\\Anaconda3\\lib\\site-packages\\ipykernel_launcher.py:15: UserWarning: \n",
      "This call to matplotlib.use() has no effect because the backend has already\n",
      "been chosen; matplotlib.use() must be called *before* pylab, matplotlib.pyplot,\n",
      "or matplotlib.backends is imported for the first time.\n",
      "\n",
      "The backend was *originally* set to 'module://ipykernel.pylab.backend_inline' by the following code:\n",
      "  File \"C:\\Users\\ledes\\Anaconda3\\lib\\runpy.py\", line 193, in _run_module_as_main\n",
      "    \"__main__\", mod_spec)\n",
      "  File \"C:\\Users\\ledes\\Anaconda3\\lib\\runpy.py\", line 85, in _run_code\n",
      "    exec(code, run_globals)\n",
      "  File \"C:\\Users\\ledes\\Anaconda3\\lib\\site-packages\\ipykernel_launcher.py\", line 16, in <module>\n",
      "    app.launch_new_instance()\n",
      "  File \"C:\\Users\\ledes\\Anaconda3\\lib\\site-packages\\traitlets\\config\\application.py\", line 658, in launch_instance\n",
      "    app.start()\n",
      "  File \"C:\\Users\\ledes\\Anaconda3\\lib\\site-packages\\ipykernel\\kernelapp.py\", line 477, in start\n",
      "    ioloop.IOLoop.instance().start()\n",
      "  File \"C:\\Users\\ledes\\Anaconda3\\lib\\site-packages\\zmq\\eventloop\\ioloop.py\", line 177, in start\n",
      "    super(ZMQIOLoop, self).start()\n",
      "  File \"C:\\Users\\ledes\\Anaconda3\\lib\\site-packages\\tornado\\ioloop.py\", line 888, in start\n",
      "    handler_func(fd_obj, events)\n",
      "  File \"C:\\Users\\ledes\\Anaconda3\\lib\\site-packages\\tornado\\stack_context.py\", line 277, in null_wrapper\n",
      "    return fn(*args, **kwargs)\n",
      "  File \"C:\\Users\\ledes\\Anaconda3\\lib\\site-packages\\zmq\\eventloop\\zmqstream.py\", line 440, in _handle_events\n",
      "    self._handle_recv()\n",
      "  File \"C:\\Users\\ledes\\Anaconda3\\lib\\site-packages\\zmq\\eventloop\\zmqstream.py\", line 472, in _handle_recv\n",
      "    self._run_callback(callback, msg)\n",
      "  File \"C:\\Users\\ledes\\Anaconda3\\lib\\site-packages\\zmq\\eventloop\\zmqstream.py\", line 414, in _run_callback\n",
      "    callback(*args, **kwargs)\n",
      "  File \"C:\\Users\\ledes\\Anaconda3\\lib\\site-packages\\tornado\\stack_context.py\", line 277, in null_wrapper\n",
      "    return fn(*args, **kwargs)\n",
      "  File \"C:\\Users\\ledes\\Anaconda3\\lib\\site-packages\\ipykernel\\kernelbase.py\", line 283, in dispatcher\n",
      "    return self.dispatch_shell(stream, msg)\n",
      "  File \"C:\\Users\\ledes\\Anaconda3\\lib\\site-packages\\ipykernel\\kernelbase.py\", line 235, in dispatch_shell\n",
      "    handler(stream, idents, msg)\n",
      "  File \"C:\\Users\\ledes\\Anaconda3\\lib\\site-packages\\ipykernel\\kernelbase.py\", line 399, in execute_request\n",
      "    user_expressions, allow_stdin)\n",
      "  File \"C:\\Users\\ledes\\Anaconda3\\lib\\site-packages\\ipykernel\\ipkernel.py\", line 196, in do_execute\n",
      "    res = shell.run_cell(code, store_history=store_history, silent=silent)\n",
      "  File \"C:\\Users\\ledes\\Anaconda3\\lib\\site-packages\\ipykernel\\zmqshell.py\", line 533, in run_cell\n",
      "    return super(ZMQInteractiveShell, self).run_cell(*args, **kwargs)\n",
      "  File \"C:\\Users\\ledes\\Anaconda3\\lib\\site-packages\\IPython\\core\\interactiveshell.py\", line 2698, in run_cell\n",
      "    interactivity=interactivity, compiler=compiler, result=result)\n",
      "  File \"C:\\Users\\ledes\\Anaconda3\\lib\\site-packages\\IPython\\core\\interactiveshell.py\", line 2802, in run_ast_nodes\n",
      "    if self.run_code(code, result):\n",
      "  File \"C:\\Users\\ledes\\Anaconda3\\lib\\site-packages\\IPython\\core\\interactiveshell.py\", line 2862, in run_code\n",
      "    exec(code_obj, self.user_global_ns, self.user_ns)\n",
      "  File \"<ipython-input-9-3e5c9dd1348d>\", line 2, in <module>\n",
      "    import seaborn as sns\n",
      "  File \"C:\\Users\\ledes\\Anaconda3\\lib\\site-packages\\seaborn\\__init__.py\", line 6, in <module>\n",
      "    from .rcmod import *\n",
      "  File \"C:\\Users\\ledes\\Anaconda3\\lib\\site-packages\\seaborn\\rcmod.py\", line 8, in <module>\n",
      "    from . import palettes, _orig_rc_params\n",
      "  File \"C:\\Users\\ledes\\Anaconda3\\lib\\site-packages\\seaborn\\palettes.py\", line 12, in <module>\n",
      "    from .utils import desaturate, set_hls_values, get_color_cycle\n",
      "  File \"C:\\Users\\ledes\\Anaconda3\\lib\\site-packages\\seaborn\\utils.py\", line 11, in <module>\n",
      "    import matplotlib.pyplot as plt\n",
      "  File \"C:\\Users\\ledes\\Anaconda3\\lib\\site-packages\\matplotlib\\pyplot.py\", line 72, in <module>\n",
      "    from matplotlib.backends import pylab_setup\n",
      "  File \"C:\\Users\\ledes\\Anaconda3\\lib\\site-packages\\matplotlib\\backends\\__init__.py\", line 14, in <module>\n",
      "    line for line in traceback.format_stack()\n",
      "\n",
      "\n",
      "  from ipykernel import kernelapp as app\n"
     ]
    }
   ],
   "source": [
    "import pandas as pd\n",
    "import seaborn as sns\n",
    "import scipy as sp\n",
    "import sklearn as sk\n",
    "import matplotlib as mpl\n",
    "mpl.use('Agg')\n",
    "import matplotlib.pylab as plt\n",
    "from mpl_toolkits.mplot3d import Axes3D\n",
    "\n",
    "\n",
    "import numpy as np\n",
    "import scipy as sp\n",
    "import sklearn as sk\n",
    "\n",
    "mpl.use('Agg')\n",
    "\n",
    "%matplotlib inline\n",
    "\n",
    "sns.set()"
   ]
  },
  {
   "cell_type": "code",
   "execution_count": null,
   "metadata": {
    "collapsed": true
   },
   "outputs": [],
   "source": [
    "train = pd.read_csv(\"train_ver2.csv\")\n",
    "test = pd.read_csv(\"test_ver2.csv\")"
   ]
  },
  {
   "cell_type": "code",
   "execution_count": 95,
   "metadata": {},
   "outputs": [
    {
     "name": "stdout",
     "output_type": "stream",
     "text": [
      "shape of train data :  (13647309, 48)\n",
      "shape of test data :  (929615, 24)\n"
     ]
    }
   ],
   "source": [
    "print(\"shape of train data : \", train.shape)\n",
    "print(\"shape of test data : \", test.shape)"
   ]
  },
  {
   "cell_type": "code",
   "execution_count": 18,
   "metadata": {},
   "outputs": [],
   "source": [
    "train_1 = train.iloc[ :1000000 , :]\n",
    "train_2 = train.iloc[1000001 : 2000000, :]"
   ]
  },
  {
   "cell_type": "code",
   "execution_count": 90,
   "metadata": {
    "scrolled": true
   },
   "outputs": [
    {
     "name": "stdout",
     "output_type": "stream",
     "text": [
      "<class 'pandas.core.frame.DataFrame'>\n",
      "RangeIndex: 1000000 entries, 0 to 999999\n",
      "Data columns (total 48 columns):\n",
      "fecha_dato               1000000 non-null object\n",
      "ncodpers                 1000000 non-null int64\n",
      "ind_empleado             989218 non-null object\n",
      "pais_residencia          989218 non-null object\n",
      "sexo                     989214 non-null object\n",
      "age                      1000000 non-null object\n",
      "fecha_alta               989218 non-null object\n",
      "ind_nuevo                989218 non-null float64\n",
      "antiguedad               1000000 non-null object\n",
      "indrel                   989218 non-null float64\n",
      "ult_fec_cli_1t           1101 non-null object\n",
      "indrel_1mes              989218 non-null object\n",
      "tiprel_1mes              989218 non-null object\n",
      "indresi                  989218 non-null object\n",
      "indext                   989218 non-null object\n",
      "conyuemp                 178 non-null object\n",
      "canal_entrada            989139 non-null object\n",
      "indfall                  989218 non-null object\n",
      "tipodom                  989218 non-null float64\n",
      "cod_prov                 982266 non-null float64\n",
      "nomprov                  982266 non-null object\n",
      "ind_actividad_cliente    989218 non-null float64\n",
      "renta                    824817 non-null float64\n",
      "segmento                 989105 non-null object\n",
      "ind_ahor_fin_ult1        1000000 non-null int64\n",
      "ind_aval_fin_ult1        1000000 non-null int64\n",
      "ind_cco_fin_ult1         1000000 non-null int64\n",
      "ind_cder_fin_ult1        1000000 non-null int64\n",
      "ind_cno_fin_ult1         1000000 non-null int64\n",
      "ind_ctju_fin_ult1        1000000 non-null int64\n",
      "ind_ctma_fin_ult1        1000000 non-null int64\n",
      "ind_ctop_fin_ult1        1000000 non-null int64\n",
      "ind_ctpp_fin_ult1        1000000 non-null int64\n",
      "ind_deco_fin_ult1        1000000 non-null int64\n",
      "ind_deme_fin_ult1        1000000 non-null int64\n",
      "ind_dela_fin_ult1        1000000 non-null int64\n",
      "ind_ecue_fin_ult1        1000000 non-null int64\n",
      "ind_fond_fin_ult1        1000000 non-null int64\n",
      "ind_hip_fin_ult1         1000000 non-null int64\n",
      "ind_plan_fin_ult1        1000000 non-null int64\n",
      "ind_pres_fin_ult1        1000000 non-null int64\n",
      "ind_reca_fin_ult1        1000000 non-null int64\n",
      "ind_tjcr_fin_ult1        1000000 non-null int64\n",
      "ind_valo_fin_ult1        1000000 non-null int64\n",
      "ind_viv_fin_ult1         1000000 non-null int64\n",
      "ind_nomina_ult1          994598 non-null float64\n",
      "ind_nom_pens_ult1        994598 non-null float64\n",
      "ind_recibo_ult1          1000000 non-null int64\n",
      "dtypes: float64(8), int64(23), object(17)\n",
      "memory usage: 366.2+ MB\n"
     ]
    }
   ],
   "source": [
    "train_1.info()"
   ]
  },
  {
   "cell_type": "markdown",
   "metadata": {},
   "source": [
    "### Columns 별 Null 확인"
   ]
  },
  {
   "cell_type": "code",
   "execution_count": 94,
   "metadata": {},
   "outputs": [
    {
     "name": "stdout",
     "output_type": "stream",
     "text": [
      "Number of null in fecha_dato: 0\n",
      "Number of null in ncodpers: 0\n",
      "Number of null in ind_empleado: 27734\n",
      "Number of null in pais_residencia: 27734\n",
      "Number of null in sexo: 27804\n",
      "Number of null in age: 0\n",
      "Number of null in fecha_alta: 27734\n",
      "Number of null in ind_nuevo: 27734\n",
      "Number of null in antiguedad: 0\n",
      "Number of null in indrel: 27734\n",
      "Number of null in ult_fec_cli_1t: 13622516\n",
      "Number of null in indrel_1mes: 149781\n",
      "Number of null in tiprel_1mes: 149781\n",
      "Number of null in indresi: 27734\n",
      "Number of null in indext: 27734\n",
      "Number of null in conyuemp: 13645501\n",
      "Number of null in canal_entrada: 186126\n",
      "Number of null in indfall: 27734\n",
      "Number of null in tipodom: 27735\n",
      "Number of null in cod_prov: 93591\n",
      "Number of null in nomprov: 93591\n",
      "Number of null in ind_actividad_cliente: 27734\n",
      "Number of null in renta: 2794375\n",
      "Number of null in segmento: 189368\n",
      "Number of null in ind_ahor_fin_ult1: 0\n",
      "Number of null in ind_aval_fin_ult1: 0\n",
      "Number of null in ind_cco_fin_ult1: 0\n",
      "Number of null in ind_cder_fin_ult1: 0\n",
      "Number of null in ind_cno_fin_ult1: 0\n",
      "Number of null in ind_ctju_fin_ult1: 0\n",
      "Number of null in ind_ctma_fin_ult1: 0\n",
      "Number of null in ind_ctop_fin_ult1: 0\n",
      "Number of null in ind_ctpp_fin_ult1: 0\n",
      "Number of null in ind_deco_fin_ult1: 0\n",
      "Number of null in ind_deme_fin_ult1: 0\n",
      "Number of null in ind_dela_fin_ult1: 0\n",
      "Number of null in ind_ecue_fin_ult1: 0\n",
      "Number of null in ind_fond_fin_ult1: 0\n",
      "Number of null in ind_hip_fin_ult1: 0\n",
      "Number of null in ind_plan_fin_ult1: 0\n",
      "Number of null in ind_pres_fin_ult1: 0\n",
      "Number of null in ind_reca_fin_ult1: 0\n",
      "Number of null in ind_tjcr_fin_ult1: 0\n",
      "Number of null in ind_valo_fin_ult1: 0\n",
      "Number of null in ind_viv_fin_ult1: 0\n",
      "Number of null in ind_nomina_ult1: 16063\n",
      "Number of null in ind_nom_pens_ult1: 16063\n",
      "Number of null in ind_recibo_ult1: 0\n"
     ]
    }
   ],
   "source": [
    "#전체 데이터 셋 이용\n",
    "try :\n",
    "    for col in range(len(train.columns)) : \n",
    "        print(\"Number of null in \" + train.columns[col] + \":\", train[train.columns[col]].isnull().sum() )\n",
    "except AttributeError as AE :\n",
    "    print(AE)\n",
    "    pass"
   ]
  },
  {
   "cell_type": "markdown",
   "metadata": {},
   "source": [
    "데이터의 대부분이 null 값인 column = ** ult_fec_cli_1t, conyuemp**"
   ]
  },
  {
   "cell_type": "code",
   "execution_count": null,
   "metadata": {
    "collapsed": true
   },
   "outputs": [],
   "source": []
  }
 ],
 "metadata": {
  "kernelspec": {
   "display_name": "Python 3",
   "language": "python",
   "name": "python3"
  },
  "language_info": {
   "codemirror_mode": {
    "name": "ipython",
    "version": 3
   },
   "file_extension": ".py",
   "mimetype": "text/x-python",
   "name": "python",
   "nbconvert_exporter": "python",
   "pygments_lexer": "ipython3",
   "version": "3.6.3"
  }
 },
 "nbformat": 4,
 "nbformat_minor": 2
}
