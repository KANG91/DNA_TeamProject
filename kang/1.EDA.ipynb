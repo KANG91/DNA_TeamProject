{
 "cells": [
  {
   "cell_type": "markdown",
   "metadata": {},
   "source": [
    "## Santander product recommendation\n",
    "\n",
    "### 모든 칼럼들에 대한 value 및 EDA 전처리, EDA 방향 잡기"
   ]
  },
  {
   "cell_type": "markdown",
   "metadata": {},
   "source": [
    "About 'Primary customer'  \n",
    "http://www.rhythmsystems.com/blog/what-is-the-difference-between-a-primary-and-secondary-core-customer"
   ]
  },
  {
   "cell_type": "markdown",
   "metadata": {},
   "source": [
    "- fecha_dato(datetime) : 날짜 데이터(제대로 이해한게 맞다면 15-01-28 부터 16-05-28까지\n",
    "- ncodpers(id) : 고객 번호(고유값?)\n",
    "- ind_empleado(status_emplo) : 직원 상태\n",
    "> A : 재직중\n",
    "> B : 퇴사\n",
    "> F : fillial(자식의?)\n",
    "> N : 직원이 아님\n",
    "> P : pasive?\n",
    "- pais_residencia(residence) : 고객 거주지\n",
    "- sexo(sex) : 고객 성별\n",
    "- age(age) : 고객 나이\n",
    "- fecha_alta(become_fh) : 고객이 은행에 first holder가 된 날\n",
    "- ind_nuevo(new_or_not) : 새 고객인가 아닌가, 6개월 이내 등록했으면 새 고객\n",
    "- antiguedad(seniority) : 고객 서열(월단위)\n",
    "- indrel(pri_or_not) : \n",
    "> 1은 primary customer(구매의사가 충분한 고객?) \n",
    "> 99는 primary customer이다가 월말에는 primary customer가 아니게 됨\n",
    "- ult_fec_cli_1t : primary customer 로써 마지막 date\n",
    "- indrel_1mes(type_of_cus) : 월초의 고객 타입 \n",
    "> 1 : Primary customer\n",
    "> 2 : 공동 소유자\n",
    "> P : 잠재 고객\n",
    "> 3 : 이전 Primary \n",
    "> 4 : 이전 공동 소유자\n",
    "- tiprel_1mes(relation_of_cus) :월초의 고객 관계\n",
    "A : active\n",
    "I : inactive\n",
    "P : former customer\n",
    "R : Potential\n",
    "- indresi(resi_ind) : \n",
    "> S(Yes) or N(NO): 고객 거주지와 은행 위치가 **같은** 나라인가\n",
    "- indext(foreign_ind) : \n",
    "> S(Yes) or N(NO) : 외국인의 출생국가와 은행 위치가 **다른가**?\n",
    "- conyuemp(spouse) : 직원의 배우자 인가 아닌가 \n",
    "> 1일 경우 직원의 배우자\n",
    "- canal_entrada(?) : 고객이 조인하기 위해 사용되어진 채널?\n",
    "- indfall : 죽은 고객?\n",
    "- tipodom : 주소 타입\n",
    "- cod_prov :  고객 주소(Province code)\n",
    "- nomprov : province name\n",
    "- ind_actividad_clie\n",
    "> 1 : active customer\n",
    "> 0 : inactive customer\n",
    "- renta : gross income of the household(가정의 총 수입)\n",
    "- segmento :\n",
    "> 1 - VIP\n",
    "> 2 - individuals\n",
    "> 3 - college graduated\n",
    "- ind_ahor_fin_ult1\tSaving Account\n",
    "- ind_aval_fin_ult1\tGuarantees\n",
    "- ind_cco_fin_ult1\tCurrent Accounts\n",
    "- ind_cder_fin_ult1\tDerivada Account\n",
    "- ind_cno_fin_ult1\tPayroll Account\n",
    "- ind_ctju_fin_ult1\tJunior Account\n",
    "- ind_ctma_fin_ult1\tMás particular Account\n",
    "- ind_ctop_fin_ult1\tparticular Account\n",
    "- ind_ctpp_fin_ult1\tparticular Plus Account\n",
    "- ind_deco_fin_ult1\tShort-term deposits\n",
    "- ind_deme_fin_ult1\tMedium-term deposits\n",
    "- ind_dela_fin_ult1\tLong-term deposits\n",
    "- ind_ecue_fin_ult1\te-account\n",
    "- ind_fond_fin_ult1\tFunds\n",
    "- ind_hip_fin_ult1\tMortgage\n",
    "- ind_plan_fin_ult1\tPensions\n",
    "- ind_pres_fin_ult1\tLoans\n",
    "- ind_reca_fin_ult1\tTaxes\n",
    "- ind_tjcr_fin_ult1\tCredit Card\n",
    "- ind_valo_fin_ult1\tSecurities\n",
    "- ind_viv_fin_ult1\tHome Account\n",
    "- ind_nomina_ult1\tPayroll\n",
    "- ind_nom_pens_ult1\tPensions\n",
    "- ind_recibo_ult1\tDirect Debit"
   ]
  },
  {
   "cell_type": "markdown",
   "metadata": {},
   "source": [
    "- 스페인어로 된 columns name들을 영어로 바꾸는 건 어떨까"
   ]
  },
  {
   "cell_type": "code",
   "execution_count": 1,
   "metadata": {
    "collapsed": true
   },
   "outputs": [
    {
     "name": "stderr",
     "output_type": "stream",
     "text": [
      "C:\\Users\\ledes\\Anaconda3\\lib\\site-packages\\ipykernel_launcher.py:6: UserWarning: \n",
      "This call to matplotlib.use() has no effect because the backend has already\n",
      "been chosen; matplotlib.use() must be called *before* pylab, matplotlib.pyplot,\n",
      "or matplotlib.backends is imported for the first time.\n",
      "\n",
      "The backend was *originally* set to 'module://ipykernel.pylab.backend_inline' by the following code:\n",
      "  File \"C:\\Users\\ledes\\Anaconda3\\lib\\runpy.py\", line 193, in _run_module_as_main\n",
      "    \"__main__\", mod_spec)\n",
      "  File \"C:\\Users\\ledes\\Anaconda3\\lib\\runpy.py\", line 85, in _run_code\n",
      "    exec(code, run_globals)\n",
      "  File \"C:\\Users\\ledes\\Anaconda3\\lib\\site-packages\\ipykernel_launcher.py\", line 16, in <module>\n",
      "    app.launch_new_instance()\n",
      "  File \"C:\\Users\\ledes\\Anaconda3\\lib\\site-packages\\traitlets\\config\\application.py\", line 658, in launch_instance\n",
      "    app.start()\n",
      "  File \"C:\\Users\\ledes\\Anaconda3\\lib\\site-packages\\ipykernel\\kernelapp.py\", line 477, in start\n",
      "    ioloop.IOLoop.instance().start()\n",
      "  File \"C:\\Users\\ledes\\Anaconda3\\lib\\site-packages\\zmq\\eventloop\\ioloop.py\", line 177, in start\n",
      "    super(ZMQIOLoop, self).start()\n",
      "  File \"C:\\Users\\ledes\\Anaconda3\\lib\\site-packages\\tornado\\ioloop.py\", line 888, in start\n",
      "    handler_func(fd_obj, events)\n",
      "  File \"C:\\Users\\ledes\\Anaconda3\\lib\\site-packages\\tornado\\stack_context.py\", line 277, in null_wrapper\n",
      "    return fn(*args, **kwargs)\n",
      "  File \"C:\\Users\\ledes\\Anaconda3\\lib\\site-packages\\zmq\\eventloop\\zmqstream.py\", line 440, in _handle_events\n",
      "    self._handle_recv()\n",
      "  File \"C:\\Users\\ledes\\Anaconda3\\lib\\site-packages\\zmq\\eventloop\\zmqstream.py\", line 472, in _handle_recv\n",
      "    self._run_callback(callback, msg)\n",
      "  File \"C:\\Users\\ledes\\Anaconda3\\lib\\site-packages\\zmq\\eventloop\\zmqstream.py\", line 414, in _run_callback\n",
      "    callback(*args, **kwargs)\n",
      "  File \"C:\\Users\\ledes\\Anaconda3\\lib\\site-packages\\tornado\\stack_context.py\", line 277, in null_wrapper\n",
      "    return fn(*args, **kwargs)\n",
      "  File \"C:\\Users\\ledes\\Anaconda3\\lib\\site-packages\\ipykernel\\kernelbase.py\", line 283, in dispatcher\n",
      "    return self.dispatch_shell(stream, msg)\n",
      "  File \"C:\\Users\\ledes\\Anaconda3\\lib\\site-packages\\ipykernel\\kernelbase.py\", line 235, in dispatch_shell\n",
      "    handler(stream, idents, msg)\n",
      "  File \"C:\\Users\\ledes\\Anaconda3\\lib\\site-packages\\ipykernel\\kernelbase.py\", line 399, in execute_request\n",
      "    user_expressions, allow_stdin)\n",
      "  File \"C:\\Users\\ledes\\Anaconda3\\lib\\site-packages\\ipykernel\\ipkernel.py\", line 196, in do_execute\n",
      "    res = shell.run_cell(code, store_history=store_history, silent=silent)\n",
      "  File \"C:\\Users\\ledes\\Anaconda3\\lib\\site-packages\\ipykernel\\zmqshell.py\", line 533, in run_cell\n",
      "    return super(ZMQInteractiveShell, self).run_cell(*args, **kwargs)\n",
      "  File \"C:\\Users\\ledes\\Anaconda3\\lib\\site-packages\\IPython\\core\\interactiveshell.py\", line 2698, in run_cell\n",
      "    interactivity=interactivity, compiler=compiler, result=result)\n",
      "  File \"C:\\Users\\ledes\\Anaconda3\\lib\\site-packages\\IPython\\core\\interactiveshell.py\", line 2802, in run_ast_nodes\n",
      "    if self.run_code(code, result):\n",
      "  File \"C:\\Users\\ledes\\Anaconda3\\lib\\site-packages\\IPython\\core\\interactiveshell.py\", line 2862, in run_code\n",
      "    exec(code_obj, self.user_global_ns, self.user_ns)\n",
      "  File \"<ipython-input-1-3e5c9dd1348d>\", line 2, in <module>\n",
      "    import seaborn as sns\n",
      "  File \"C:\\Users\\ledes\\Anaconda3\\lib\\site-packages\\seaborn\\__init__.py\", line 6, in <module>\n",
      "    from .rcmod import *\n",
      "  File \"C:\\Users\\ledes\\Anaconda3\\lib\\site-packages\\seaborn\\rcmod.py\", line 8, in <module>\n",
      "    from . import palettes, _orig_rc_params\n",
      "  File \"C:\\Users\\ledes\\Anaconda3\\lib\\site-packages\\seaborn\\palettes.py\", line 12, in <module>\n",
      "    from .utils import desaturate, set_hls_values, get_color_cycle\n",
      "  File \"C:\\Users\\ledes\\Anaconda3\\lib\\site-packages\\seaborn\\utils.py\", line 11, in <module>\n",
      "    import matplotlib.pyplot as plt\n",
      "  File \"C:\\Users\\ledes\\Anaconda3\\lib\\site-packages\\matplotlib\\pyplot.py\", line 72, in <module>\n",
      "    from matplotlib.backends import pylab_setup\n",
      "  File \"C:\\Users\\ledes\\Anaconda3\\lib\\site-packages\\matplotlib\\backends\\__init__.py\", line 14, in <module>\n",
      "    line for line in traceback.format_stack()\n",
      "\n",
      "\n",
      "  \n",
      "C:\\Users\\ledes\\Anaconda3\\lib\\site-packages\\ipykernel_launcher.py:15: UserWarning: \n",
      "This call to matplotlib.use() has no effect because the backend has already\n",
      "been chosen; matplotlib.use() must be called *before* pylab, matplotlib.pyplot,\n",
      "or matplotlib.backends is imported for the first time.\n",
      "\n",
      "The backend was *originally* set to 'module://ipykernel.pylab.backend_inline' by the following code:\n",
      "  File \"C:\\Users\\ledes\\Anaconda3\\lib\\runpy.py\", line 193, in _run_module_as_main\n",
      "    \"__main__\", mod_spec)\n",
      "  File \"C:\\Users\\ledes\\Anaconda3\\lib\\runpy.py\", line 85, in _run_code\n",
      "    exec(code, run_globals)\n",
      "  File \"C:\\Users\\ledes\\Anaconda3\\lib\\site-packages\\ipykernel_launcher.py\", line 16, in <module>\n",
      "    app.launch_new_instance()\n",
      "  File \"C:\\Users\\ledes\\Anaconda3\\lib\\site-packages\\traitlets\\config\\application.py\", line 658, in launch_instance\n",
      "    app.start()\n",
      "  File \"C:\\Users\\ledes\\Anaconda3\\lib\\site-packages\\ipykernel\\kernelapp.py\", line 477, in start\n",
      "    ioloop.IOLoop.instance().start()\n",
      "  File \"C:\\Users\\ledes\\Anaconda3\\lib\\site-packages\\zmq\\eventloop\\ioloop.py\", line 177, in start\n",
      "    super(ZMQIOLoop, self).start()\n",
      "  File \"C:\\Users\\ledes\\Anaconda3\\lib\\site-packages\\tornado\\ioloop.py\", line 888, in start\n",
      "    handler_func(fd_obj, events)\n",
      "  File \"C:\\Users\\ledes\\Anaconda3\\lib\\site-packages\\tornado\\stack_context.py\", line 277, in null_wrapper\n",
      "    return fn(*args, **kwargs)\n",
      "  File \"C:\\Users\\ledes\\Anaconda3\\lib\\site-packages\\zmq\\eventloop\\zmqstream.py\", line 440, in _handle_events\n",
      "    self._handle_recv()\n",
      "  File \"C:\\Users\\ledes\\Anaconda3\\lib\\site-packages\\zmq\\eventloop\\zmqstream.py\", line 472, in _handle_recv\n",
      "    self._run_callback(callback, msg)\n",
      "  File \"C:\\Users\\ledes\\Anaconda3\\lib\\site-packages\\zmq\\eventloop\\zmqstream.py\", line 414, in _run_callback\n",
      "    callback(*args, **kwargs)\n",
      "  File \"C:\\Users\\ledes\\Anaconda3\\lib\\site-packages\\tornado\\stack_context.py\", line 277, in null_wrapper\n",
      "    return fn(*args, **kwargs)\n",
      "  File \"C:\\Users\\ledes\\Anaconda3\\lib\\site-packages\\ipykernel\\kernelbase.py\", line 283, in dispatcher\n",
      "    return self.dispatch_shell(stream, msg)\n",
      "  File \"C:\\Users\\ledes\\Anaconda3\\lib\\site-packages\\ipykernel\\kernelbase.py\", line 235, in dispatch_shell\n",
      "    handler(stream, idents, msg)\n",
      "  File \"C:\\Users\\ledes\\Anaconda3\\lib\\site-packages\\ipykernel\\kernelbase.py\", line 399, in execute_request\n",
      "    user_expressions, allow_stdin)\n",
      "  File \"C:\\Users\\ledes\\Anaconda3\\lib\\site-packages\\ipykernel\\ipkernel.py\", line 196, in do_execute\n",
      "    res = shell.run_cell(code, store_history=store_history, silent=silent)\n",
      "  File \"C:\\Users\\ledes\\Anaconda3\\lib\\site-packages\\ipykernel\\zmqshell.py\", line 533, in run_cell\n",
      "    return super(ZMQInteractiveShell, self).run_cell(*args, **kwargs)\n",
      "  File \"C:\\Users\\ledes\\Anaconda3\\lib\\site-packages\\IPython\\core\\interactiveshell.py\", line 2698, in run_cell\n",
      "    interactivity=interactivity, compiler=compiler, result=result)\n",
      "  File \"C:\\Users\\ledes\\Anaconda3\\lib\\site-packages\\IPython\\core\\interactiveshell.py\", line 2802, in run_ast_nodes\n",
      "    if self.run_code(code, result):\n",
      "  File \"C:\\Users\\ledes\\Anaconda3\\lib\\site-packages\\IPython\\core\\interactiveshell.py\", line 2862, in run_code\n",
      "    exec(code_obj, self.user_global_ns, self.user_ns)\n",
      "  File \"<ipython-input-1-3e5c9dd1348d>\", line 2, in <module>\n",
      "    import seaborn as sns\n",
      "  File \"C:\\Users\\ledes\\Anaconda3\\lib\\site-packages\\seaborn\\__init__.py\", line 6, in <module>\n",
      "    from .rcmod import *\n",
      "  File \"C:\\Users\\ledes\\Anaconda3\\lib\\site-packages\\seaborn\\rcmod.py\", line 8, in <module>\n",
      "    from . import palettes, _orig_rc_params\n",
      "  File \"C:\\Users\\ledes\\Anaconda3\\lib\\site-packages\\seaborn\\palettes.py\", line 12, in <module>\n",
      "    from .utils import desaturate, set_hls_values, get_color_cycle\n",
      "  File \"C:\\Users\\ledes\\Anaconda3\\lib\\site-packages\\seaborn\\utils.py\", line 11, in <module>\n",
      "    import matplotlib.pyplot as plt\n",
      "  File \"C:\\Users\\ledes\\Anaconda3\\lib\\site-packages\\matplotlib\\pyplot.py\", line 72, in <module>\n",
      "    from matplotlib.backends import pylab_setup\n",
      "  File \"C:\\Users\\ledes\\Anaconda3\\lib\\site-packages\\matplotlib\\backends\\__init__.py\", line 14, in <module>\n",
      "    line for line in traceback.format_stack()\n",
      "\n",
      "\n",
      "  from ipykernel import kernelapp as app\n"
     ]
    }
   ],
   "source": [
    "import pandas as pd\n",
    "import seaborn as sns\n",
    "import scipy as sp\n",
    "import sklearn as sk\n",
    "import matplotlib as mpl\n",
    "mpl.use('Agg')\n",
    "import matplotlib.pylab as plt\n",
    "from mpl_toolkits.mplot3d import Axes3D\n",
    "\n",
    "\n",
    "import numpy as np\n",
    "import scipy as sp\n",
    "import sklearn as sk\n",
    "\n",
    "mpl.use('Agg')\n",
    "\n",
    "%matplotlib inline\n",
    "\n",
    "sns.set()"
   ]
  },
  {
   "cell_type": "code",
   "execution_count": 2,
   "metadata": {
    "collapsed": true
   },
   "outputs": [
    {
     "name": "stderr",
     "output_type": "stream",
     "text": [
      "C:\\Users\\ledes\\Anaconda3\\lib\\site-packages\\IPython\\core\\interactiveshell.py:2698: DtypeWarning: Columns (5,8,11,15) have mixed types. Specify dtype option on import or set low_memory=False.\n",
      "  interactivity=interactivity, compiler=compiler, result=result)\n",
      "C:\\Users\\ledes\\Anaconda3\\lib\\site-packages\\IPython\\core\\interactiveshell.py:2698: DtypeWarning: Columns (15) have mixed types. Specify dtype option on import or set low_memory=False.\n",
      "  interactivity=interactivity, compiler=compiler, result=result)\n"
     ]
    }
   ],
   "source": [
    "#데이터 셋 불러오기\n",
    "train = pd.read_csv(\"train_ver2.csv\")\n",
    "test = pd.read_csv(\"test_ver2.csv\")"
   ]
  },
  {
   "cell_type": "code",
   "execution_count": 3,
   "metadata": {
    "collapsed": true
   },
   "outputs": [],
   "source": [
    "#데이터 셋 100만개 단위로 쪼개기\n",
    "train_1 = train.iloc[ :1000000 , :]\n",
    "# train_2 = train.iloc[1000001 : 2000000, :]"
   ]
  },
  {
   "cell_type": "code",
   "execution_count": 95,
   "metadata": {},
   "outputs": [
    {
     "name": "stdout",
     "output_type": "stream",
     "text": [
      "shape of train data :  (13647309, 48)\n",
      "shape of test data :  (929615, 24)\n"
     ]
    }
   ],
   "source": [
    "#데이터 column, row 파악\n",
    "print(\"shape of train data : \", train.shape)\n",
    "print(\"shape of test data : \", test.shape)"
   ]
  },
  {
   "cell_type": "code",
   "execution_count": 90,
   "metadata": {
    "scrolled": true
   },
   "outputs": [
    {
     "name": "stdout",
     "output_type": "stream",
     "text": [
      "<class 'pandas.core.frame.DataFrame'>\n",
      "RangeIndex: 1000000 entries, 0 to 999999\n",
      "Data columns (total 48 columns):\n",
      "fecha_dato               1000000 non-null object\n",
      "ncodpers                 1000000 non-null int64\n",
      "ind_empleado             989218 non-null object\n",
      "pais_residencia          989218 non-null object\n",
      "sexo                     989214 non-null object\n",
      "age                      1000000 non-null object\n",
      "fecha_alta               989218 non-null object\n",
      "ind_nuevo                989218 non-null float64\n",
      "antiguedad               1000000 non-null object\n",
      "indrel                   989218 non-null float64\n",
      "ult_fec_cli_1t           1101 non-null object\n",
      "indrel_1mes              989218 non-null object\n",
      "tiprel_1mes              989218 non-null object\n",
      "indresi                  989218 non-null object\n",
      "indext                   989218 non-null object\n",
      "conyuemp                 178 non-null object\n",
      "canal_entrada            989139 non-null object\n",
      "indfall                  989218 non-null object\n",
      "tipodom                  989218 non-null float64\n",
      "cod_prov                 982266 non-null float64\n",
      "nomprov                  982266 non-null object\n",
      "ind_actividad_cliente    989218 non-null float64\n",
      "renta                    824817 non-null float64\n",
      "segmento                 989105 non-null object\n",
      "ind_ahor_fin_ult1        1000000 non-null int64\n",
      "ind_aval_fin_ult1        1000000 non-null int64\n",
      "ind_cco_fin_ult1         1000000 non-null int64\n",
      "ind_cder_fin_ult1        1000000 non-null int64\n",
      "ind_cno_fin_ult1         1000000 non-null int64\n",
      "ind_ctju_fin_ult1        1000000 non-null int64\n",
      "ind_ctma_fin_ult1        1000000 non-null int64\n",
      "ind_ctop_fin_ult1        1000000 non-null int64\n",
      "ind_ctpp_fin_ult1        1000000 non-null int64\n",
      "ind_deco_fin_ult1        1000000 non-null int64\n",
      "ind_deme_fin_ult1        1000000 non-null int64\n",
      "ind_dela_fin_ult1        1000000 non-null int64\n",
      "ind_ecue_fin_ult1        1000000 non-null int64\n",
      "ind_fond_fin_ult1        1000000 non-null int64\n",
      "ind_hip_fin_ult1         1000000 non-null int64\n",
      "ind_plan_fin_ult1        1000000 non-null int64\n",
      "ind_pres_fin_ult1        1000000 non-null int64\n",
      "ind_reca_fin_ult1        1000000 non-null int64\n",
      "ind_tjcr_fin_ult1        1000000 non-null int64\n",
      "ind_valo_fin_ult1        1000000 non-null int64\n",
      "ind_viv_fin_ult1         1000000 non-null int64\n",
      "ind_nomina_ult1          994598 non-null float64\n",
      "ind_nom_pens_ult1        994598 non-null float64\n",
      "ind_recibo_ult1          1000000 non-null int64\n",
      "dtypes: float64(8), int64(23), object(17)\n",
      "memory usage: 366.2+ MB\n"
     ]
    }
   ],
   "source": [
    "train_1.info()"
   ]
  },
  {
   "cell_type": "markdown",
   "metadata": {},
   "source": [
    "### 칼럼별 Null 파악"
   ]
  },
  {
   "cell_type": "code",
   "execution_count": 94,
   "metadata": {
    "scrolled": true
   },
   "outputs": [
    {
     "name": "stdout",
     "output_type": "stream",
     "text": [
      "Number of null in fecha_dato: 0\n",
      "Number of null in ncodpers: 0\n",
      "Number of null in ind_empleado: 27734\n",
      "Number of null in pais_residencia: 27734\n",
      "Number of null in sexo: 27804\n",
      "Number of null in age: 0\n",
      "Number of null in fecha_alta: 27734\n",
      "Number of null in ind_nuevo: 27734\n",
      "Number of null in antiguedad: 0\n",
      "Number of null in indrel: 27734\n",
      "Number of null in ult_fec_cli_1t: 13622516\n",
      "Number of null in indrel_1mes: 149781\n",
      "Number of null in tiprel_1mes: 149781\n",
      "Number of null in indresi: 27734\n",
      "Number of null in indext: 27734\n",
      "Number of null in conyuemp: 13645501\n",
      "Number of null in canal_entrada: 186126\n",
      "Number of null in indfall: 27734\n",
      "Number of null in tipodom: 27735\n",
      "Number of null in cod_prov: 93591\n",
      "Number of null in nomprov: 93591\n",
      "Number of null in ind_actividad_cliente: 27734\n",
      "Number of null in renta: 2794375\n",
      "Number of null in segmento: 189368\n",
      "Number of null in ind_ahor_fin_ult1: 0\n",
      "Number of null in ind_aval_fin_ult1: 0\n",
      "Number of null in ind_cco_fin_ult1: 0\n",
      "Number of null in ind_cder_fin_ult1: 0\n",
      "Number of null in ind_cno_fin_ult1: 0\n",
      "Number of null in ind_ctju_fin_ult1: 0\n",
      "Number of null in ind_ctma_fin_ult1: 0\n",
      "Number of null in ind_ctop_fin_ult1: 0\n",
      "Number of null in ind_ctpp_fin_ult1: 0\n",
      "Number of null in ind_deco_fin_ult1: 0\n",
      "Number of null in ind_deme_fin_ult1: 0\n",
      "Number of null in ind_dela_fin_ult1: 0\n",
      "Number of null in ind_ecue_fin_ult1: 0\n",
      "Number of null in ind_fond_fin_ult1: 0\n",
      "Number of null in ind_hip_fin_ult1: 0\n",
      "Number of null in ind_plan_fin_ult1: 0\n",
      "Number of null in ind_pres_fin_ult1: 0\n",
      "Number of null in ind_reca_fin_ult1: 0\n",
      "Number of null in ind_tjcr_fin_ult1: 0\n",
      "Number of null in ind_valo_fin_ult1: 0\n",
      "Number of null in ind_viv_fin_ult1: 0\n",
      "Number of null in ind_nomina_ult1: 16063\n",
      "Number of null in ind_nom_pens_ult1: 16063\n",
      "Number of null in ind_recibo_ult1: 0\n"
     ]
    }
   ],
   "source": [
    "#전체 데이터 셋 이용\n",
    "try :\n",
    "    for col in range(len(train.columns)) : \n",
    "        print(\"Number of null in \" + train.columns[col] + \":\", train[train.columns[col]].isnull().sum() )\n",
    "except AttributeError as AE :\n",
    "    print(AE)\n",
    "    pass"
   ]
  },
  {
   "cell_type": "markdown",
   "metadata": {},
   "source": [
    "데이터의 대부분이 null 값인 column = ** ult_fec_cli_1t, conyuemp**"
   ]
  },
  {
   "cell_type": "markdown",
   "metadata": {},
   "source": [
    "### 칼럼별 데이터 파악\n",
    "- 시각화가 가능한 EDA : 앞 100만개를 자른 부분을 통해 국소적인 부분만 판단\n",
    "- 시각화가 불가능한  EDA : 전체 데이터를 이용"
   ]
  },
  {
   "cell_type": "code",
   "execution_count": 117,
   "metadata": {
    "scrolled": true
   },
   "outputs": [
    {
     "name": "stdout",
     "output_type": "stream",
     "text": [
      "Number of unique value in fecha_dato:17\n",
      "Number of unique value in ncodpers:956645\n",
      "Number of unique value in ind_empleado:6\n",
      "Number of unique value in pais_residencia:119\n",
      "Number of unique value in sexo:3\n",
      "Number of unique value in age:235\n",
      "Number of unique value in fecha_alta:6757\n",
      "Number of unique value in ind_nuevo:3\n",
      "Number of unique value in antiguedad:507\n",
      "Number of unique value in indrel:3\n",
      "Number of unique value in ult_fec_cli_1t:224\n",
      "Number of unique value in indrel_1mes:14\n",
      "Number of unique value in tiprel_1mes:6\n",
      "Number of unique value in indresi:3\n",
      "Number of unique value in indext:3\n",
      "Number of unique value in conyuemp:3\n",
      "Number of unique value in canal_entrada:163\n",
      "Number of unique value in indfall:3\n",
      "Number of unique value in tipodom:2\n",
      "Number of unique value in cod_prov:53\n",
      "Number of unique value in nomprov:53\n",
      "Number of unique value in ind_actividad_cliente:3\n",
      "Number of unique value in renta:520995\n",
      "Number of unique value in segmento:4\n",
      "Number of unique value in ind_ahor_fin_ult1:2\n",
      "Number of unique value in ind_aval_fin_ult1:2\n",
      "Number of unique value in ind_cco_fin_ult1:2\n",
      "Number of unique value in ind_cder_fin_ult1:2\n",
      "Number of unique value in ind_cno_fin_ult1:2\n",
      "Number of unique value in ind_ctju_fin_ult1:2\n",
      "Number of unique value in ind_ctma_fin_ult1:2\n",
      "Number of unique value in ind_ctop_fin_ult1:2\n",
      "Number of unique value in ind_ctpp_fin_ult1:2\n",
      "Number of unique value in ind_deco_fin_ult1:2\n",
      "Number of unique value in ind_deme_fin_ult1:2\n",
      "Number of unique value in ind_dela_fin_ult1:2\n",
      "Number of unique value in ind_ecue_fin_ult1:2\n",
      "Number of unique value in ind_fond_fin_ult1:2\n",
      "Number of unique value in ind_hip_fin_ult1:2\n",
      "Number of unique value in ind_plan_fin_ult1:2\n",
      "Number of unique value in ind_pres_fin_ult1:2\n",
      "Number of unique value in ind_reca_fin_ult1:2\n",
      "Number of unique value in ind_tjcr_fin_ult1:2\n",
      "Number of unique value in ind_valo_fin_ult1:2\n",
      "Number of unique value in ind_viv_fin_ult1:2\n",
      "Number of unique value in ind_nomina_ult1:3\n",
      "Number of unique value in ind_nom_pens_ult1:3\n",
      "Number of unique value in ind_recibo_ult1:2\n"
     ]
    }
   ],
   "source": [
    "#전체 데이터 셋 이용한 데이터의 unique value  파악\n",
    "try :\n",
    "    for col in range(len(train.columns)) : \n",
    "        print(\"Number of unique value in {0}:{1}\".format(train.columns[col],len(train[train.columns[col]].unique())))\n",
    "except Exception as e:\n",
    "    print(e)\n",
    "    pass"
   ]
  },
  {
   "cell_type": "markdown",
   "metadata": {},
   "source": [
    "### fecha_dato"
   ]
  },
  {
   "cell_type": "code",
   "execution_count": 62,
   "metadata": {
    "scrolled": true
   },
   "outputs": [
    {
     "data": {
      "text/plain": [
       "2016-05-28    931453\n",
       "2016-04-28    928274\n",
       "2016-03-28    925076\n",
       "2016-02-28    920904\n",
       "2016-01-28    916269\n",
       "2015-12-28    912021\n",
       "2015-11-28    906109\n",
       "2015-10-28    892251\n",
       "2015-09-28    865440\n",
       "2015-08-28    843201\n",
       "2015-07-28    829817\n",
       "2015-06-28    632110\n",
       "2015-05-28    631957\n",
       "2015-04-28    630367\n",
       "2015-03-28    629209\n",
       "2015-02-28    627394\n",
       "2015-01-28    625457\n",
       "Name: fecha_dato, dtype: int64"
      ]
     },
     "execution_count": 62,
     "metadata": {},
     "output_type": "execute_result"
    }
   ],
   "source": [
    "train[\"fecha_dato\"].value_counts()"
   ]
  },
  {
   "cell_type": "markdown",
   "metadata": {},
   "source": [
    "#### Comment\n",
    "fecha_dato (date) : \n",
    "- 날짜 데이터, str 형태\n",
    "- pandas의 datetime으로 활용가능\n",
    "- 사실상 카테고리로 봐도 무방할 듯"
   ]
  },
  {
   "cell_type": "markdown",
   "metadata": {},
   "source": [
    "### ncodpers"
   ]
  },
  {
   "cell_type": "code",
   "execution_count": 16,
   "metadata": {
    "scrolled": true
   },
   "outputs": [
    {
     "data": {
      "text/plain": [
       "32752      17\n",
       "1273696    17\n",
       "1224536    17\n",
       "1199940    17\n",
       "1208128    17\n",
       "1150780    17\n",
       "1158968    17\n",
       "1117996    17\n",
       "1126184    17\n",
       "1134372    17\n",
       "1142560    17\n",
       "1085212    17\n",
       "1093400    17\n",
       "1101588    17\n",
       "1109776    17\n",
       "1052428    17\n",
       "1068804    17\n",
       "1076992    17\n",
       "511476     17\n",
       "478692     17\n",
       "429532     17\n",
       "1216348    17\n",
       "1298292    17\n",
       "1298293    17\n",
       "1281916    17\n",
       "863403     17\n",
       "871591     17\n",
       "879779     17\n",
       "797835     17\n",
       "806023     17\n",
       "           ..\n",
       "1552552     1\n",
       "1294656     1\n",
       "1549574     1\n",
       "1552012     1\n",
       "1181550     1\n",
       "1402308     1\n",
       "1212249     1\n",
       "750260      1\n",
       "1441293     1\n",
       "1549400     1\n",
       "1477022     1\n",
       "1544365     1\n",
       "1516202     1\n",
       "1552553     1\n",
       "1420428     1\n",
       "1542208     1\n",
       "1526182     1\n",
       "1548821     1\n",
       "1023450     1\n",
       "1363915     1\n",
       "1550404     1\n",
       "1550297     1\n",
       "1468385     1\n",
       "1437091     1\n",
       "1534863     1\n",
       "1549150     1\n",
       "1543059     1\n",
       "1535935     1\n",
       "1551255     1\n",
       "1489485     1\n",
       "Name: ncodpers, Length: 956645, dtype: int64"
      ]
     },
     "execution_count": 16,
     "metadata": {},
     "output_type": "execute_result"
    }
   ],
   "source": [
    "train[\"ncodpers\"].value_counts()"
   ]
  },
  {
   "cell_type": "code",
   "execution_count": 19,
   "metadata": {},
   "outputs": [
    {
     "data": {
      "text/plain": [
       "17"
      ]
     },
     "execution_count": 19,
     "metadata": {},
     "output_type": "execute_result"
    }
   ],
   "source": [
    "(train[\"ncodpers\"].value_counts()).max()"
   ]
  },
  {
   "cell_type": "markdown",
   "metadata": {},
   "source": [
    "#### Comment\n",
    "ncodpers(id) : \n",
    "- 고객 개개인의 id로 볼 수있는 는 unique한 값이 아닌 중복되는 값이 존재 -> EDA과정에서 살펴볼 필요가 있음.\n",
    "-  최대 17개까지 중복\n",
    "- int 형태"
   ]
  },
  {
   "cell_type": "markdown",
   "metadata": {},
   "source": [
    "### ind_empleado"
   ]
  },
  {
   "cell_type": "code",
   "execution_count": 4,
   "metadata": {},
   "outputs": [
    {
     "data": {
      "text/plain": [
       "N    13610977\n",
       "B        3566\n",
       "F        2523\n",
       "A        2492\n",
       "S          17\n",
       "Name: ind_empleado, dtype: int64"
      ]
     },
     "execution_count": 4,
     "metadata": {},
     "output_type": "execute_result"
    }
   ],
   "source": [
    "train[\"ind_empleado\"].value_counts()"
   ]
  },
  {
   "cell_type": "markdown",
   "metadata": {},
   "source": [
    "#### Comment\n",
    "ind_empleado(emplo_status) : \n",
    "- 칼럼 값들의 대부분이 N을 가지고 있음\n",
    "- str 형태인데 왜 int64라고 뜨지?"
   ]
  },
  {
   "cell_type": "markdown",
   "metadata": {},
   "source": [
    "### pais_residencia"
   ]
  },
  {
   "cell_type": "code",
   "execution_count": 6,
   "metadata": {
    "scrolled": true
   },
   "outputs": [
    {
     "data": {
      "text/plain": [
       "ES    13553710\n",
       "FR        5161\n",
       "AR        4835\n",
       "DE        4625\n",
       "GB        4605\n",
       "US        3651\n",
       "CO        3526\n",
       "IT        2947\n",
       "RO        2931\n",
       "MX        2573\n",
       "BR        2351\n",
       "VE        2331\n",
       "EC        2169\n",
       "CH        1995\n",
       "BE        1526\n",
       "BO        1514\n",
       "PY        1430\n",
       "PT        1419\n",
       "CL         989\n",
       "PE         900\n",
       "RU         769\n",
       "CU         758\n",
       "NL         757\n",
       "SE         603\n",
       "PL         599\n",
       "CN         563\n",
       "UY         510\n",
       "UA         493\n",
       "AT         476\n",
       "BG         476\n",
       "        ...   \n",
       "GW          34\n",
       "MZ          34\n",
       "RS          34\n",
       "BA          34\n",
       "OM          22\n",
       "GM          17\n",
       "KH          17\n",
       "ML          17\n",
       "GE          17\n",
       "KW          17\n",
       "IS          17\n",
       "TN          17\n",
       "LY          17\n",
       "MM          17\n",
       "CD          17\n",
       "AL          17\n",
       "CF          17\n",
       "SL          17\n",
       "TG          17\n",
       "LV          17\n",
       "GH          17\n",
       "KZ          17\n",
       "LB          17\n",
       "GI          17\n",
       "BZ          17\n",
       "ZW          11\n",
       "JM          11\n",
       "DJ          11\n",
       "BM           6\n",
       "MT           2\n",
       "Name: pais_residencia, Length: 118, dtype: int64"
      ]
     },
     "execution_count": 6,
     "metadata": {},
     "output_type": "execute_result"
    }
   ],
   "source": [
    "train[\"pais_residencia\"].value_counts()"
   ]
  },
  {
   "cell_type": "markdown",
   "metadata": {},
   "source": [
    "#### Comment\n",
    "pais_residencia(nationality) :\n",
    "- 국적, CountryCode를 나타내는 듯\n",
    "- 대부분의 값이 ES\n",
    "- str 형태인데 왜 int64라고 뜨지?"
   ]
  },
  {
   "cell_type": "markdown",
   "metadata": {},
   "source": [
    "### sexo"
   ]
  },
  {
   "cell_type": "code",
   "execution_count": 8,
   "metadata": {},
   "outputs": [
    {
     "data": {
      "text/plain": [
       "V    7424252\n",
       "H    6195253\n",
       "Name: sexo, dtype: int64"
      ]
     },
     "execution_count": 8,
     "metadata": {},
     "output_type": "execute_result"
    }
   ],
   "source": [
    "train[\"sexo\"].value_counts()"
   ]
  },
  {
   "cell_type": "code",
   "execution_count": 15,
   "metadata": {},
   "outputs": [
    {
     "data": {
      "text/plain": [
       "str"
      ]
     },
     "execution_count": 15,
     "metadata": {},
     "output_type": "execute_result"
    }
   ],
   "source": [
    "type(train[\"sexo\"][0])"
   ]
  },
  {
   "cell_type": "markdown",
   "metadata": {},
   "source": [
    "#### Comment\n",
    "sexo(sex) :\n",
    "- V : 여성, H : 남성 -> 여성의 수가 130만명가량 많은 편\n",
    "- str형태인데 왜 int64라고 뜨지?\n"
   ]
  },
  {
   "cell_type": "markdown",
   "metadata": {},
   "source": [
    "### age"
   ]
  },
  {
   "cell_type": "code",
   "execution_count": 22,
   "metadata": {
    "scrolled": true
   },
   "outputs": [
    {
     "data": {
      "text/plain": [
       "23     542682\n",
       "24     527526\n",
       "22     524620\n",
       "21     500941\n",
       "20     370847\n",
       "25     345664\n",
       "26     250641\n",
       " 23    237202\n",
       "43     231501\n",
       "44     229359\n",
       "42     227626\n",
       "45     224073\n",
       "41     221432\n",
       "46     214320\n",
       " 22    211694\n",
       " 24    207259\n",
       "40     205668\n",
       "47     204715\n",
       "27     203881\n",
       "48     194513\n",
       "39     186583\n",
       "49     179384\n",
       " 21    175047\n",
       "28     174169\n",
       "50     169287\n",
       "38     166836\n",
       "51     159013\n",
       "37     154889\n",
       "52     152009\n",
       "29     149706\n",
       "        ...  \n",
       "107       439\n",
       "103       419\n",
       "  3       415\n",
       "108       384\n",
       "105       307\n",
       "104       307\n",
       "110       218\n",
       "109       205\n",
       "111       203\n",
       "106       192\n",
       "107       155\n",
       "112       140\n",
       "  2       130\n",
       "113        93\n",
       "108        72\n",
       "109        60\n",
       "116        51\n",
       "111        49\n",
       "112        48\n",
       "115        43\n",
       "110        43\n",
       "115        39\n",
       "113        24\n",
       "114        22\n",
       "117        14\n",
       "116        12\n",
       "127         8\n",
       "163         8\n",
       "126         3\n",
       "164         3\n",
       "Name: age, Length: 235, dtype: int64"
      ]
     },
     "execution_count": 22,
     "metadata": {},
     "output_type": "execute_result"
    }
   ],
   "source": [
    "train[\"age\"].value_counts()"
   ]
  },
  {
   "cell_type": "code",
   "execution_count": 25,
   "metadata": {
    "scrolled": true
   },
   "outputs": [
    {
     "name": "stdout",
     "output_type": "stream",
     "text": [
      "age의 null 개수 :  0\n",
      "age의 value가 ' NA' 인 것의 개수 :  27734\n"
     ]
    }
   ],
   "source": [
    "print(\"age의 null 개수 : \", train[\"age\"].isnull().sum())\n",
    "print(\"age의 value가 ' NA' 인 것의 개수 : \", len(train[train[\"age\"] == ' NA']))"
   ]
  },
  {
   "cell_type": "code",
   "execution_count": 53,
   "metadata": {
    "collapsed": true
   },
   "outputs": [],
   "source": [
    "def to_int(x) :\n",
    "    if x == \" NA\" :\n",
    "        pass\n",
    "    else :\n",
    "        return int(x)"
   ]
  },
  {
   "cell_type": "code",
   "execution_count": 119,
   "metadata": {
    "collapsed": true
   },
   "outputs": [],
   "source": [
    "def to_int2(x) :\n",
    "    if type(x) == str :\n",
    "        pass\n",
    "    else :\n",
    "        return int(x)"
   ]
  },
  {
   "cell_type": "code",
   "execution_count": 123,
   "metadata": {},
   "outputs": [
    {
     "ename": "ValueError",
     "evalue": "invalid literal for int() with base 10: 'NaN'",
     "output_type": "error",
     "traceback": [
      "\u001b[1;31m---------------------------------------------------------------------------\u001b[0m",
      "\u001b[1;31mValueError\u001b[0m                                Traceback (most recent call last)",
      "\u001b[1;32m<ipython-input-123-57db5a42c8e1>\u001b[0m in \u001b[0;36m<module>\u001b[1;34m()\u001b[0m\n\u001b[1;32m----> 1\u001b[1;33m \u001b[0mint\u001b[0m\u001b[1;33m(\u001b[0m\u001b[1;34m\"NaN\"\u001b[0m\u001b[1;33m)\u001b[0m\u001b[1;33m\u001b[0m\u001b[0m\n\u001b[0m",
      "\u001b[1;31mValueError\u001b[0m: invalid literal for int() with base 10: 'NaN'"
     ]
    }
   ],
   "source": [
    "int(\"NaN\")"
   ]
  },
  {
   "cell_type": "code",
   "execution_count": 120,
   "metadata": {
    "collapsed": true
   },
   "outputs": [
    {
     "ename": "ValueError",
     "evalue": "cannot convert float NaN to integer",
     "output_type": "error",
     "traceback": [
      "\u001b[1;31m---------------------------------------------------------------------------\u001b[0m",
      "\u001b[1;31mValueError\u001b[0m                                Traceback (most recent call last)",
      "\u001b[1;32m<ipython-input-120-00f2f6befd61>\u001b[0m in \u001b[0;36m<module>\u001b[1;34m()\u001b[0m\n\u001b[1;32m----> 1\u001b[1;33m \u001b[0mtrain\u001b[0m\u001b[1;33m[\u001b[0m\u001b[1;34m\"age\"\u001b[0m\u001b[1;33m]\u001b[0m\u001b[1;33m.\u001b[0m\u001b[0mapply\u001b[0m\u001b[1;33m(\u001b[0m\u001b[0mto_int2\u001b[0m\u001b[1;33m)\u001b[0m\u001b[1;33m\u001b[0m\u001b[0m\n\u001b[0m",
      "\u001b[1;32m~\\Anaconda3\\lib\\site-packages\\pandas\\core\\series.py\u001b[0m in \u001b[0;36mapply\u001b[1;34m(self, func, convert_dtype, args, **kwds)\u001b[0m\n\u001b[0;32m   2549\u001b[0m             \u001b[1;32melse\u001b[0m\u001b[1;33m:\u001b[0m\u001b[1;33m\u001b[0m\u001b[0m\n\u001b[0;32m   2550\u001b[0m                 \u001b[0mvalues\u001b[0m \u001b[1;33m=\u001b[0m \u001b[0mself\u001b[0m\u001b[1;33m.\u001b[0m\u001b[0masobject\u001b[0m\u001b[1;33m\u001b[0m\u001b[0m\n\u001b[1;32m-> 2551\u001b[1;33m                 \u001b[0mmapped\u001b[0m \u001b[1;33m=\u001b[0m \u001b[0mlib\u001b[0m\u001b[1;33m.\u001b[0m\u001b[0mmap_infer\u001b[0m\u001b[1;33m(\u001b[0m\u001b[0mvalues\u001b[0m\u001b[1;33m,\u001b[0m \u001b[0mf\u001b[0m\u001b[1;33m,\u001b[0m \u001b[0mconvert\u001b[0m\u001b[1;33m=\u001b[0m\u001b[0mconvert_dtype\u001b[0m\u001b[1;33m)\u001b[0m\u001b[1;33m\u001b[0m\u001b[0m\n\u001b[0m\u001b[0;32m   2552\u001b[0m \u001b[1;33m\u001b[0m\u001b[0m\n\u001b[0;32m   2553\u001b[0m         \u001b[1;32mif\u001b[0m \u001b[0mlen\u001b[0m\u001b[1;33m(\u001b[0m\u001b[0mmapped\u001b[0m\u001b[1;33m)\u001b[0m \u001b[1;32mand\u001b[0m \u001b[0misinstance\u001b[0m\u001b[1;33m(\u001b[0m\u001b[0mmapped\u001b[0m\u001b[1;33m[\u001b[0m\u001b[1;36m0\u001b[0m\u001b[1;33m]\u001b[0m\u001b[1;33m,\u001b[0m \u001b[0mSeries\u001b[0m\u001b[1;33m)\u001b[0m\u001b[1;33m:\u001b[0m\u001b[1;33m\u001b[0m\u001b[0m\n",
      "\u001b[1;32mpandas/_libs/src/inference.pyx\u001b[0m in \u001b[0;36mpandas._libs.lib.map_infer\u001b[1;34m()\u001b[0m\n",
      "\u001b[1;32m<ipython-input-119-a2451dd9aaa8>\u001b[0m in \u001b[0;36mto_int2\u001b[1;34m(x)\u001b[0m\n\u001b[0;32m      3\u001b[0m         \u001b[1;32mpass\u001b[0m\u001b[1;33m\u001b[0m\u001b[0m\n\u001b[0;32m      4\u001b[0m     \u001b[1;32melse\u001b[0m \u001b[1;33m:\u001b[0m\u001b[1;33m\u001b[0m\u001b[0m\n\u001b[1;32m----> 5\u001b[1;33m         \u001b[1;32mreturn\u001b[0m \u001b[0mint\u001b[0m\u001b[1;33m(\u001b[0m\u001b[0mx\u001b[0m\u001b[1;33m)\u001b[0m\u001b[1;33m\u001b[0m\u001b[0m\n\u001b[0m",
      "\u001b[1;31mValueError\u001b[0m: cannot convert float NaN to integer"
     ]
    }
   ],
   "source": [
    "train[\"age\"].apply(to_int2)"
   ]
  },
  {
   "cell_type": "code",
   "execution_count": 59,
   "metadata": {
    "collapsed": true,
    "scrolled": true
   },
   "outputs": [],
   "source": [
    "#value가 ' NA'인것을 제외한 후 int로 형 변환\n",
    "train[\"age\"] = train[\"age\"].apply(to_int)"
   ]
  },
  {
   "cell_type": "code",
   "execution_count": 61,
   "metadata": {},
   "outputs": [
    {
     "name": "stdout",
     "output_type": "stream",
     "text": [
      "age의 null 개수 :  27734\n",
      "나이가 가장 많은 고객 :  164.0\n",
      "나이가 가장 어린 고객 :  2.0\n",
      "100세 이상인 고객 :  15919\n",
      "15세 미만인 고객 :  95084\n"
     ]
    }
   ],
   "source": [
    "print(\"age의 null 개수 : \", train[\"age\"].isnull().sum())\n",
    "print(\"나이가 가장 많은 고객 : \", train[\"age\"].max())\n",
    "print(\"나이가 가장 어린 고객 : \", train[\"age\"].min())\n",
    "print(\"100세 이상인 고객 : \", len(train[train[\"age\"] >= 100]))\n",
    "print(\"15세 미만인 고객 : \", len(train[train[\"age\"] < 16]))"
   ]
  },
  {
   "cell_type": "markdown",
   "metadata": {},
   "source": [
    "#### Comment\n",
    "age(age) :\n",
    "- ' NA', null값으로는 인식되지 않지만, 값이 없는 수치들 발견  \n",
    "- to_int 함수를 제작\n",
    "> str 형태들을 int 형으로 형변환\n",
    "> null값이나 마찬 가지인 ' NA' 들을 null 값으로 만들어줌"
   ]
  },
  {
   "cell_type": "markdown",
   "metadata": {},
   "source": [
    "### fecha_alta"
   ]
  },
  {
   "cell_type": "code",
   "execution_count": 63,
   "metadata": {
    "scrolled": true
   },
   "outputs": [
    {
     "data": {
      "text/plain": [
       "2014-07-28    57389\n",
       "2014-10-03    54287\n",
       "2014-08-04    45746\n",
       "2013-10-14    40804\n",
       "2013-08-03    33414\n",
       "2012-08-06    26223\n",
       "2014-07-21    26027\n",
       "2012-08-03    25409\n",
       "2012-08-02    25004\n",
       "2013-10-11    24751\n",
       "2013-08-10    23766\n",
       "2012-08-01    22935\n",
       "2014-09-17    22810\n",
       "2014-08-06    22756\n",
       "2014-09-24    22696\n",
       "2014-07-30    22695\n",
       "2012-08-09    22433\n",
       "2013-07-22    22309\n",
       "2012-08-07    22052\n",
       "2012-07-24    21840\n",
       "2014-09-23    21422\n",
       "2012-07-30    20591\n",
       "2013-10-10    20241\n",
       "2013-10-28    20089\n",
       "2013-10-09    19954\n",
       "2012-10-01    19920\n",
       "2012-07-31    19902\n",
       "2012-08-10    19676\n",
       "2015-07-25    19638\n",
       "2012-07-19    19610\n",
       "              ...  \n",
       "2012-07-21       11\n",
       "2014-03-30       11\n",
       "2011-06-25       11\n",
       "2014-03-16       11\n",
       "2012-08-26       11\n",
       "2005-07-31       11\n",
       "2011-05-29       11\n",
       "2013-08-17       11\n",
       "1995-04-23       11\n",
       "1995-04-29       11\n",
       "2014-05-11       11\n",
       "2011-04-30       11\n",
       "2011-11-20       11\n",
       "2012-04-21       11\n",
       "2011-09-11       11\n",
       "2014-06-29       11\n",
       "2013-09-07       11\n",
       "2014-12-25       11\n",
       "2013-11-01       11\n",
       "2012-09-30       11\n",
       "2012-06-02       11\n",
       "2013-06-15       11\n",
       "2013-10-12       11\n",
       "2010-07-17       11\n",
       "2012-08-11       11\n",
       "2010-10-31       11\n",
       "2015-05-31        9\n",
       "2014-05-01        7\n",
       "2009-12-25        4\n",
       "2010-07-04        4\n",
       "Name: fecha_alta, Length: 6756, dtype: int64"
      ]
     },
     "execution_count": 63,
     "metadata": {},
     "output_type": "execute_result"
    }
   ],
   "source": [
    "train[\"fecha_alta\"].value_counts()"
   ]
  },
  {
   "cell_type": "code",
   "execution_count": 89,
   "metadata": {
    "scrolled": true
   },
   "outputs": [
    {
     "data": {
      "text/plain": [
       "Timestamp('1995-01-16 00:00:00')"
      ]
     },
     "execution_count": 89,
     "metadata": {},
     "output_type": "execute_result"
    }
   ],
   "source": [
    "pd.to_datetime(train[\"fecha_alta\"]).min()"
   ]
  },
  {
   "cell_type": "code",
   "execution_count": 90,
   "metadata": {
    "scrolled": true
   },
   "outputs": [
    {
     "data": {
      "text/plain": [
       "Timestamp('2016-05-31 00:00:00')"
      ]
     },
     "execution_count": 90,
     "metadata": {},
     "output_type": "execute_result"
    }
   ],
   "source": [
    "pd.to_datetime(train[\"fecha_alta\"]).max()"
   ]
  },
  {
   "cell_type": "markdown",
   "metadata": {},
   "source": [
    "#### Comment\n",
    "fecha_alta(become_cus) : \n",
    "- str형태의 날짜 데이터\n",
    "- fecha_dato와 함께 두 번째 날짜 데이터"
   ]
  },
  {
   "cell_type": "markdown",
   "metadata": {},
   "source": [
    "### ind_nuevo"
   ]
  },
  {
   "cell_type": "code",
   "execution_count": 91,
   "metadata": {},
   "outputs": [
    {
     "data": {
      "text/plain": [
       "0.0    12808368\n",
       "1.0      811207\n",
       "Name: ind_nuevo, dtype: int64"
      ]
     },
     "execution_count": 91,
     "metadata": {},
     "output_type": "execute_result"
    }
   ],
   "source": [
    "train[\"ind_nuevo\"].value_counts()"
   ]
  },
  {
   "cell_type": "markdown",
   "metadata": {},
   "source": [
    "#### Comment\n",
    "ind_nuevo(new_before_6) :\n",
    "- 0이 대부분 -> 대부분의 고객이 새 고객이 아님\n",
    "- 실수형 데이터"
   ]
  },
  {
   "cell_type": "markdown",
   "metadata": {},
   "source": [
    "### antiguedad"
   ]
  },
  {
   "cell_type": "code",
   "execution_count": 93,
   "metadata": {
    "scrolled": true
   },
   "outputs": [
    {
     "data": {
      "text/plain": [
       "0          134335\n",
       "1          130681\n",
       "12         130589\n",
       "3          125789\n",
       "2          125133\n",
       "5          122246\n",
       "     21    118544\n",
       "4          117501\n",
       "14         112959\n",
       "     12    112571\n",
       "6          111329\n",
       "17         109770\n",
       "16         109440\n",
       "7          109156\n",
       "15         108838\n",
       "13         107487\n",
       "24         104439\n",
       "10         104434\n",
       "18         104287\n",
       "26         103378\n",
       "     10    101731\n",
       "25          99037\n",
       "8           98171\n",
       "27          96927\n",
       "28          96575\n",
       "23          96281\n",
       "21          96251\n",
       "19          96000\n",
       "     33     95100\n",
       "38          93861\n",
       "            ...  \n",
       "    238      2948\n",
       "    215      2904\n",
       "    228      2876\n",
       "    203      2510\n",
       "    236      2378\n",
       "248          2271\n",
       "    230      2258\n",
       "    241      1980\n",
       "    226      1967\n",
       "      1      1898\n",
       "    233      1863\n",
       "    240      1854\n",
       "249          1777\n",
       "250          1512\n",
       "    227      1356\n",
       "    242      1148\n",
       "251          1071\n",
       "    239       872\n",
       "    243       713\n",
       "252           676\n",
       "    246       507\n",
       "    244       450\n",
       "253           416\n",
       "    245       360\n",
       "254           261\n",
       "255           179\n",
       "      0       149\n",
       "256           102\n",
       "-999999        26\n",
       "-999999        12\n",
       "Name: antiguedad, Length: 507, dtype: int64"
      ]
     },
     "execution_count": 93,
     "metadata": {},
     "output_type": "execute_result"
    }
   ],
   "source": [
    "train['antiguedad'].value_counts()"
   ]
  },
  {
   "cell_type": "markdown",
   "metadata": {},
   "source": [
    "#### Comment\n",
    "antiguedad : \n",
    "- 고객 연공서열\n",
    "- (-)가 있음을 발견.\n",
    "-  str 형태"
   ]
  },
  {
   "cell_type": "markdown",
   "metadata": {},
   "source": [
    "### indrel"
   ]
  },
  {
   "cell_type": "code",
   "execution_count": 98,
   "metadata": {},
   "outputs": [
    {
     "data": {
      "text/plain": [
       "1.0     13594782\n",
       "99.0       24793\n",
       "Name: indrel, dtype: int64"
      ]
     },
     "execution_count": 98,
     "metadata": {},
     "output_type": "execute_result"
    }
   ],
   "source": [
    "train[\"indrel\"].value_counts()"
   ]
  },
  {
   "cell_type": "markdown",
   "metadata": {},
   "source": [
    "#### Comment\n",
    "indrel(primary_or_not) : \n",
    "- 1 일 경우 월초 primary, 99 일 경우 월말에는 primary가 아님\n",
    "- 대부분이 월초 primary 상태\n"
   ]
  },
  {
   "cell_type": "markdown",
   "metadata": {},
   "source": [
    "### ult_fec_cli_1t"
   ]
  },
  {
   "cell_type": "code",
   "execution_count": 99,
   "metadata": {
    "scrolled": true
   },
   "outputs": [
    {
     "data": {
      "text/plain": [
       "2015-12-24    763\n",
       "2015-12-28    521\n",
       "2015-07-09    443\n",
       "2015-07-06    405\n",
       "2015-07-01    401\n",
       "2015-07-21    391\n",
       "2015-07-07    340\n",
       "2015-07-17    330\n",
       "2015-07-10    320\n",
       "2015-07-28    311\n",
       "2015-07-24    299\n",
       "2015-07-20    295\n",
       "2015-07-22    275\n",
       "2015-07-15    273\n",
       "2015-07-03    262\n",
       "2015-07-29    255\n",
       "2015-07-13    229\n",
       "2015-07-30    224\n",
       "2015-07-23    206\n",
       "2015-12-21    206\n",
       "2015-07-27    203\n",
       "2015-07-14    196\n",
       "2015-07-08    175\n",
       "2015-12-17    172\n",
       "2016-01-19    169\n",
       "2016-01-05    167\n",
       "2015-07-02    166\n",
       "2015-12-16    158\n",
       "2015-07-16    147\n",
       "2015-12-18    139\n",
       "             ... \n",
       "2015-08-05     65\n",
       "2015-12-07     64\n",
       "2016-02-18     64\n",
       "2016-04-20     63\n",
       "2015-08-25     63\n",
       "2016-04-22     62\n",
       "2015-08-12     62\n",
       "2015-11-26     61\n",
       "2015-09-03     61\n",
       "2015-08-21     61\n",
       "2016-05-05     61\n",
       "2015-08-24     61\n",
       "2015-08-07     59\n",
       "2016-03-03     59\n",
       "2015-08-18     59\n",
       "2015-08-20     59\n",
       "2016-04-07     58\n",
       "2016-04-14     57\n",
       "2015-09-21     57\n",
       "2016-03-07     55\n",
       "2016-05-13     55\n",
       "2015-11-06     54\n",
       "2015-08-14     51\n",
       "2016-03-24     49\n",
       "2016-03-23     46\n",
       "2015-08-19     44\n",
       "2016-04-28     44\n",
       "2015-08-06     41\n",
       "2016-01-04     34\n",
       "2015-12-23     27\n",
       "Name: ult_fec_cli_1t, Length: 223, dtype: int64"
      ]
     },
     "execution_count": 99,
     "metadata": {},
     "output_type": "execute_result"
    }
   ],
   "source": [
    "train[\"ult_fec_cli_1t\"].value_counts()"
   ]
  },
  {
   "cell_type": "code",
   "execution_count": 111,
   "metadata": {},
   "outputs": [
    {
     "data": {
      "text/plain": [
       "13622516"
      ]
     },
     "execution_count": 111,
     "metadata": {},
     "output_type": "execute_result"
    }
   ],
   "source": [
    "train[\"ult_fec_cli_1t\"].isnull().sum()"
   ]
  },
  {
   "cell_type": "markdown",
   "metadata": {},
   "source": [
    "#### Comment\n",
    "ult_fec_cli_1t(last_primary) :\n",
    "- 마지막으로 primary customer 였던 날짜\n",
    "- 대부분이 null 값인만큼 유의미할 수도 있음"
   ]
  },
  {
   "cell_type": "markdown",
   "metadata": {},
   "source": [
    "### indrel_1mes"
   ]
  },
  {
   "cell_type": "code",
   "execution_count": 112,
   "metadata": {},
   "outputs": [
    {
     "data": {
      "text/plain": [
       "1.0    7277607\n",
       "1.0    4017746\n",
       "1      2195328\n",
       "3.0       1804\n",
       "3.0       1409\n",
       "3         1137\n",
       "P          874\n",
       "2          483\n",
       "2.0        479\n",
       "2.0        355\n",
       "4.0        143\n",
       "4.0         93\n",
       "4           70\n",
       "Name: indrel_1mes, dtype: int64"
      ]
     },
     "execution_count": 112,
     "metadata": {},
     "output_type": "execute_result"
    }
   ],
   "source": [
    "train[\"indrel_1mes\"].value_counts()"
   ]
  },
  {
   "cell_type": "code",
   "execution_count": 113,
   "metadata": {},
   "outputs": [
    {
     "data": {
      "text/plain": [
       "149781"
      ]
     },
     "execution_count": 113,
     "metadata": {},
     "output_type": "execute_result"
    }
   ],
   "source": [
    "train[\"indrel_1mes\"].isnull().sum()"
   ]
  },
  {
   "cell_type": "code",
   "execution_count": null,
   "metadata": {
    "collapsed": true
   },
   "outputs": [],
   "source": [
    "#같은 값을 가져야 하지만, 타입이 달라 데이터가 분산되어 나옴 -> 통일\n",
    "# 'P'를 제외한 모든 값들을 int로 형 변환"
   ]
  }
 ],
 "metadata": {
  "kernelspec": {
   "display_name": "Python 3",
   "language": "python",
   "name": "python3"
  },
  "language_info": {
   "codemirror_mode": {
    "name": "ipython",
    "version": 3
   },
   "file_extension": ".py",
   "mimetype": "text/x-python",
   "name": "python",
   "nbconvert_exporter": "python",
   "pygments_lexer": "ipython3",
   "version": "3.6.3"
  }
 },
 "nbformat": 4,
 "nbformat_minor": 2
}
