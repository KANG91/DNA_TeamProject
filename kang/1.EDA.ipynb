{
 "cells": [
  {
   "cell_type": "markdown",
   "metadata": {},
   "source": [
    "## Santander product recommendation\n",
    "\n",
    "### 모든 칼럼들에 대한 value 및 EDA 전처리, EDA 방향 잡기"
   ]
  },
  {
   "cell_type": "markdown",
   "metadata": {},
   "source": [
    "About 'Primary customer'  \n",
    "http://www.rhythmsystems.com/blog/what-is-the-difference-between-a-primary-and-secondary-core-customer"
   ]
  },
  {
   "cell_type": "markdown",
   "metadata": {},
   "source": [
    "- fecha_dato(datetime) : 날짜 데이터(제대로 이해한게 맞다면 15-01-28 부터 16-05-28까지\n",
    "- ncodpers(id) : 고객 번호(고유값?)\n",
    "- ind_empleado(status_emplo) : 직원 상태\n",
    "> A : 재직중\n",
    "> B : 퇴사\n",
    "> F : fillial(자식의?)\n",
    "> N : 직원이 아님\n",
    "> P : pasive?\n",
    "- pais_residencia(residence) : 고객 거주지\n",
    "- sexo(sex) : 고객 성별\n",
    "- age(age) : 고객 나이\n",
    "- fecha_alta(become_fh) : 고객이 은행에 first holder가 된 날\n",
    "- ind_nuevo(new_or_not) : 새 고객인가 아닌가, 6개월 이내 등록했으면 새 고객\n",
    "- antiguedad(seniority) : 고객 서열(월단위)\n",
    "- indrel(pri_or_not) : \n",
    "> 1은 primary customer(구매의사가 충분한 고객?) \n",
    "> 99는 primary customer이다가 월말에는 primary customer가 아니게 됨\n",
    "- ult_fec_cli_1t : primary customer 로써 마지막 date\n",
    "- indrel_1mes(type_of_cus) : 월초의 고객 타입 \n",
    "> 1 : Primary customer\n",
    "> 2 : 공동 소유자\n",
    "> P : 잠재 고객\n",
    "> 3 : 이전 Primary \n",
    "> 4 : 이전 공동 소유자\n",
    "- tiprel_1mes(relation_of_cus) :월초의 고객 관계\n",
    "A : active\n",
    "I : inactive\n",
    "P : former customer\n",
    "R : Potential\n",
    "- indresi(resi_ind) : \n",
    "> S(Yes) or N(NO): 고객 거주지와 은행 위치가 **같은** 나라인가\n",
    "- indext(foreign_ind) : \n",
    "> S(Yes) or N(NO) : 외국인의 출생국가와 은행 위치가 **다른가**?\n",
    "- conyuemp(spouse) : 직원의 배우자 인가 아닌가 \n",
    "> 1일 경우 직원의 배우자\n",
    "- canal_entrada(?) : 고객이 조인하기 위해 사용되어진 채널?\n",
    "- indfall : 죽은 고객?\n",
    "- tipodom : 주소 타입\n",
    "- cod_prov :  고객 주소(Province code)\n",
    "- nomprov : province name\n",
    "- ind_actividad_clie\n",
    "> 1 : active customer\n",
    "> 0 : inactive customer\n",
    "- renta : gross income of the household(가정의 총 수입)\n",
    "- segmento :\n",
    "> 1 - VIP\n",
    "> 2 - individuals\n",
    "> 3 - college graduated\n",
    "- ind_ahor_fin_ult1\tSaving Account\n",
    "- ind_aval_fin_ult1\tGuarantees\n",
    "- ind_cco_fin_ult1\tCurrent Accounts\n",
    "- ind_cder_fin_ult1\tDerivada Account\n",
    "- ind_cno_fin_ult1\tPayroll Account\n",
    "- ind_ctju_fin_ult1\tJunior Account\n",
    "- ind_ctma_fin_ult1\tMás particular Account\n",
    "- ind_ctop_fin_ult1\tparticular Account\n",
    "- ind_ctpp_fin_ult1\tparticular Plus Account\n",
    "- ind_deco_fin_ult1\tShort-term deposits\n",
    "- ind_deme_fin_ult1\tMedium-term deposits\n",
    "- ind_dela_fin_ult1\tLong-term deposits\n",
    "- ind_ecue_fin_ult1\te-account\n",
    "- ind_fond_fin_ult1\tFunds\n",
    "- ind_hip_fin_ult1\tMortgage\n",
    "- ind_plan_fin_ult1\tPensions\n",
    "- ind_pres_fin_ult1\tLoans\n",
    "- ind_reca_fin_ult1\tTaxes\n",
    "- ind_tjcr_fin_ult1\tCredit Card\n",
    "- ind_valo_fin_ult1\tSecurities\n",
    "- ind_viv_fin_ult1\tHome Account\n",
    "- ind_nomina_ult1\tPayroll\n",
    "- ind_nom_pens_ult1\tPensions\n",
    "- ind_recibo_ult1\tDirect Debit"
   ]
  },
  {
   "cell_type": "markdown",
   "metadata": {},
   "source": [
    "- 스페인어로 된 columns name들을 영어로 바꾸는 건 어떨까"
   ]
  },
  {
   "cell_type": "code",
   "execution_count": 1,
   "metadata": {},
   "outputs": [
    {
     "name": "stderr",
     "output_type": "stream",
     "text": [
      "C:\\Users\\ledes\\Anaconda3\\lib\\site-packages\\ipykernel_launcher.py:6: UserWarning: \n",
      "This call to matplotlib.use() has no effect because the backend has already\n",
      "been chosen; matplotlib.use() must be called *before* pylab, matplotlib.pyplot,\n",
      "or matplotlib.backends is imported for the first time.\n",
      "\n",
      "The backend was *originally* set to 'module://ipykernel.pylab.backend_inline' by the following code:\n",
      "  File \"C:\\Users\\ledes\\Anaconda3\\lib\\runpy.py\", line 193, in _run_module_as_main\n",
      "    \"__main__\", mod_spec)\n",
      "  File \"C:\\Users\\ledes\\Anaconda3\\lib\\runpy.py\", line 85, in _run_code\n",
      "    exec(code, run_globals)\n",
      "  File \"C:\\Users\\ledes\\Anaconda3\\lib\\site-packages\\ipykernel_launcher.py\", line 16, in <module>\n",
      "    app.launch_new_instance()\n",
      "  File \"C:\\Users\\ledes\\Anaconda3\\lib\\site-packages\\traitlets\\config\\application.py\", line 658, in launch_instance\n",
      "    app.start()\n",
      "  File \"C:\\Users\\ledes\\Anaconda3\\lib\\site-packages\\ipykernel\\kernelapp.py\", line 477, in start\n",
      "    ioloop.IOLoop.instance().start()\n",
      "  File \"C:\\Users\\ledes\\Anaconda3\\lib\\site-packages\\zmq\\eventloop\\ioloop.py\", line 177, in start\n",
      "    super(ZMQIOLoop, self).start()\n",
      "  File \"C:\\Users\\ledes\\Anaconda3\\lib\\site-packages\\tornado\\ioloop.py\", line 888, in start\n",
      "    handler_func(fd_obj, events)\n",
      "  File \"C:\\Users\\ledes\\Anaconda3\\lib\\site-packages\\tornado\\stack_context.py\", line 277, in null_wrapper\n",
      "    return fn(*args, **kwargs)\n",
      "  File \"C:\\Users\\ledes\\Anaconda3\\lib\\site-packages\\zmq\\eventloop\\zmqstream.py\", line 440, in _handle_events\n",
      "    self._handle_recv()\n",
      "  File \"C:\\Users\\ledes\\Anaconda3\\lib\\site-packages\\zmq\\eventloop\\zmqstream.py\", line 472, in _handle_recv\n",
      "    self._run_callback(callback, msg)\n",
      "  File \"C:\\Users\\ledes\\Anaconda3\\lib\\site-packages\\zmq\\eventloop\\zmqstream.py\", line 414, in _run_callback\n",
      "    callback(*args, **kwargs)\n",
      "  File \"C:\\Users\\ledes\\Anaconda3\\lib\\site-packages\\tornado\\stack_context.py\", line 277, in null_wrapper\n",
      "    return fn(*args, **kwargs)\n",
      "  File \"C:\\Users\\ledes\\Anaconda3\\lib\\site-packages\\ipykernel\\kernelbase.py\", line 283, in dispatcher\n",
      "    return self.dispatch_shell(stream, msg)\n",
      "  File \"C:\\Users\\ledes\\Anaconda3\\lib\\site-packages\\ipykernel\\kernelbase.py\", line 235, in dispatch_shell\n",
      "    handler(stream, idents, msg)\n",
      "  File \"C:\\Users\\ledes\\Anaconda3\\lib\\site-packages\\ipykernel\\kernelbase.py\", line 399, in execute_request\n",
      "    user_expressions, allow_stdin)\n",
      "  File \"C:\\Users\\ledes\\Anaconda3\\lib\\site-packages\\ipykernel\\ipkernel.py\", line 196, in do_execute\n",
      "    res = shell.run_cell(code, store_history=store_history, silent=silent)\n",
      "  File \"C:\\Users\\ledes\\Anaconda3\\lib\\site-packages\\ipykernel\\zmqshell.py\", line 533, in run_cell\n",
      "    return super(ZMQInteractiveShell, self).run_cell(*args, **kwargs)\n",
      "  File \"C:\\Users\\ledes\\Anaconda3\\lib\\site-packages\\IPython\\core\\interactiveshell.py\", line 2698, in run_cell\n",
      "    interactivity=interactivity, compiler=compiler, result=result)\n",
      "  File \"C:\\Users\\ledes\\Anaconda3\\lib\\site-packages\\IPython\\core\\interactiveshell.py\", line 2802, in run_ast_nodes\n",
      "    if self.run_code(code, result):\n",
      "  File \"C:\\Users\\ledes\\Anaconda3\\lib\\site-packages\\IPython\\core\\interactiveshell.py\", line 2862, in run_code\n",
      "    exec(code_obj, self.user_global_ns, self.user_ns)\n",
      "  File \"<ipython-input-1-3e5c9dd1348d>\", line 2, in <module>\n",
      "    import seaborn as sns\n",
      "  File \"C:\\Users\\ledes\\Anaconda3\\lib\\site-packages\\seaborn\\__init__.py\", line 6, in <module>\n",
      "    from .rcmod import *\n",
      "  File \"C:\\Users\\ledes\\Anaconda3\\lib\\site-packages\\seaborn\\rcmod.py\", line 8, in <module>\n",
      "    from . import palettes, _orig_rc_params\n",
      "  File \"C:\\Users\\ledes\\Anaconda3\\lib\\site-packages\\seaborn\\palettes.py\", line 12, in <module>\n",
      "    from .utils import desaturate, set_hls_values, get_color_cycle\n",
      "  File \"C:\\Users\\ledes\\Anaconda3\\lib\\site-packages\\seaborn\\utils.py\", line 11, in <module>\n",
      "    import matplotlib.pyplot as plt\n",
      "  File \"C:\\Users\\ledes\\Anaconda3\\lib\\site-packages\\matplotlib\\pyplot.py\", line 72, in <module>\n",
      "    from matplotlib.backends import pylab_setup\n",
      "  File \"C:\\Users\\ledes\\Anaconda3\\lib\\site-packages\\matplotlib\\backends\\__init__.py\", line 14, in <module>\n",
      "    line for line in traceback.format_stack()\n",
      "\n",
      "\n",
      "  \n",
      "C:\\Users\\ledes\\Anaconda3\\lib\\site-packages\\ipykernel_launcher.py:15: UserWarning: \n",
      "This call to matplotlib.use() has no effect because the backend has already\n",
      "been chosen; matplotlib.use() must be called *before* pylab, matplotlib.pyplot,\n",
      "or matplotlib.backends is imported for the first time.\n",
      "\n",
      "The backend was *originally* set to 'module://ipykernel.pylab.backend_inline' by the following code:\n",
      "  File \"C:\\Users\\ledes\\Anaconda3\\lib\\runpy.py\", line 193, in _run_module_as_main\n",
      "    \"__main__\", mod_spec)\n",
      "  File \"C:\\Users\\ledes\\Anaconda3\\lib\\runpy.py\", line 85, in _run_code\n",
      "    exec(code, run_globals)\n",
      "  File \"C:\\Users\\ledes\\Anaconda3\\lib\\site-packages\\ipykernel_launcher.py\", line 16, in <module>\n",
      "    app.launch_new_instance()\n",
      "  File \"C:\\Users\\ledes\\Anaconda3\\lib\\site-packages\\traitlets\\config\\application.py\", line 658, in launch_instance\n",
      "    app.start()\n",
      "  File \"C:\\Users\\ledes\\Anaconda3\\lib\\site-packages\\ipykernel\\kernelapp.py\", line 477, in start\n",
      "    ioloop.IOLoop.instance().start()\n",
      "  File \"C:\\Users\\ledes\\Anaconda3\\lib\\site-packages\\zmq\\eventloop\\ioloop.py\", line 177, in start\n",
      "    super(ZMQIOLoop, self).start()\n",
      "  File \"C:\\Users\\ledes\\Anaconda3\\lib\\site-packages\\tornado\\ioloop.py\", line 888, in start\n",
      "    handler_func(fd_obj, events)\n",
      "  File \"C:\\Users\\ledes\\Anaconda3\\lib\\site-packages\\tornado\\stack_context.py\", line 277, in null_wrapper\n",
      "    return fn(*args, **kwargs)\n",
      "  File \"C:\\Users\\ledes\\Anaconda3\\lib\\site-packages\\zmq\\eventloop\\zmqstream.py\", line 440, in _handle_events\n",
      "    self._handle_recv()\n",
      "  File \"C:\\Users\\ledes\\Anaconda3\\lib\\site-packages\\zmq\\eventloop\\zmqstream.py\", line 472, in _handle_recv\n",
      "    self._run_callback(callback, msg)\n",
      "  File \"C:\\Users\\ledes\\Anaconda3\\lib\\site-packages\\zmq\\eventloop\\zmqstream.py\", line 414, in _run_callback\n",
      "    callback(*args, **kwargs)\n",
      "  File \"C:\\Users\\ledes\\Anaconda3\\lib\\site-packages\\tornado\\stack_context.py\", line 277, in null_wrapper\n",
      "    return fn(*args, **kwargs)\n",
      "  File \"C:\\Users\\ledes\\Anaconda3\\lib\\site-packages\\ipykernel\\kernelbase.py\", line 283, in dispatcher\n",
      "    return self.dispatch_shell(stream, msg)\n",
      "  File \"C:\\Users\\ledes\\Anaconda3\\lib\\site-packages\\ipykernel\\kernelbase.py\", line 235, in dispatch_shell\n",
      "    handler(stream, idents, msg)\n",
      "  File \"C:\\Users\\ledes\\Anaconda3\\lib\\site-packages\\ipykernel\\kernelbase.py\", line 399, in execute_request\n",
      "    user_expressions, allow_stdin)\n",
      "  File \"C:\\Users\\ledes\\Anaconda3\\lib\\site-packages\\ipykernel\\ipkernel.py\", line 196, in do_execute\n",
      "    res = shell.run_cell(code, store_history=store_history, silent=silent)\n",
      "  File \"C:\\Users\\ledes\\Anaconda3\\lib\\site-packages\\ipykernel\\zmqshell.py\", line 533, in run_cell\n",
      "    return super(ZMQInteractiveShell, self).run_cell(*args, **kwargs)\n",
      "  File \"C:\\Users\\ledes\\Anaconda3\\lib\\site-packages\\IPython\\core\\interactiveshell.py\", line 2698, in run_cell\n",
      "    interactivity=interactivity, compiler=compiler, result=result)\n",
      "  File \"C:\\Users\\ledes\\Anaconda3\\lib\\site-packages\\IPython\\core\\interactiveshell.py\", line 2802, in run_ast_nodes\n",
      "    if self.run_code(code, result):\n",
      "  File \"C:\\Users\\ledes\\Anaconda3\\lib\\site-packages\\IPython\\core\\interactiveshell.py\", line 2862, in run_code\n",
      "    exec(code_obj, self.user_global_ns, self.user_ns)\n",
      "  File \"<ipython-input-1-3e5c9dd1348d>\", line 2, in <module>\n",
      "    import seaborn as sns\n",
      "  File \"C:\\Users\\ledes\\Anaconda3\\lib\\site-packages\\seaborn\\__init__.py\", line 6, in <module>\n",
      "    from .rcmod import *\n",
      "  File \"C:\\Users\\ledes\\Anaconda3\\lib\\site-packages\\seaborn\\rcmod.py\", line 8, in <module>\n",
      "    from . import palettes, _orig_rc_params\n",
      "  File \"C:\\Users\\ledes\\Anaconda3\\lib\\site-packages\\seaborn\\palettes.py\", line 12, in <module>\n",
      "    from .utils import desaturate, set_hls_values, get_color_cycle\n",
      "  File \"C:\\Users\\ledes\\Anaconda3\\lib\\site-packages\\seaborn\\utils.py\", line 11, in <module>\n",
      "    import matplotlib.pyplot as plt\n",
      "  File \"C:\\Users\\ledes\\Anaconda3\\lib\\site-packages\\matplotlib\\pyplot.py\", line 72, in <module>\n",
      "    from matplotlib.backends import pylab_setup\n",
      "  File \"C:\\Users\\ledes\\Anaconda3\\lib\\site-packages\\matplotlib\\backends\\__init__.py\", line 14, in <module>\n",
      "    line for line in traceback.format_stack()\n",
      "\n",
      "\n",
      "  from ipykernel import kernelapp as app\n"
     ]
    }
   ],
   "source": [
    "import pandas as pd\n",
    "import seaborn as sns\n",
    "import scipy as sp\n",
    "import sklearn as sk\n",
    "import matplotlib as mpl\n",
    "mpl.use('Agg')\n",
    "import matplotlib.pylab as plt\n",
    "from mpl_toolkits.mplot3d import Axes3D\n",
    "\n",
    "\n",
    "import numpy as np\n",
    "import scipy as sp\n",
    "import sklearn as sk\n",
    "\n",
    "mpl.use('Agg')\n",
    "\n",
    "%matplotlib inline\n",
    "\n",
    "sns.set()"
   ]
  },
  {
   "cell_type": "code",
   "execution_count": 2,
   "metadata": {},
   "outputs": [
    {
     "name": "stderr",
     "output_type": "stream",
     "text": [
      "C:\\Users\\ledes\\Anaconda3\\lib\\site-packages\\IPython\\core\\interactiveshell.py:2698: DtypeWarning: Columns (5,8,11,15) have mixed types. Specify dtype option on import or set low_memory=False.\n",
      "  interactivity=interactivity, compiler=compiler, result=result)\n",
      "C:\\Users\\ledes\\Anaconda3\\lib\\site-packages\\IPython\\core\\interactiveshell.py:2698: DtypeWarning: Columns (15) have mixed types. Specify dtype option on import or set low_memory=False.\n",
      "  interactivity=interactivity, compiler=compiler, result=result)\n"
     ]
    }
   ],
   "source": [
    "#데이터 셋 불러오기\n",
    "train = pd.read_csv(\"train_ver2.csv\")\n",
    "test = pd.read_csv(\"test_ver2.csv\")"
   ]
  },
  {
   "cell_type": "code",
   "execution_count": 3,
   "metadata": {},
   "outputs": [
    {
     "name": "stdout",
     "output_type": "stream",
     "text": [
      "shape of train data :  (13647309, 48)\n",
      "shape of test data :  (929615, 24)\n"
     ]
    }
   ],
   "source": [
    "#데이터 column, row 파악\n",
    "print(\"shape of train data : \", train.shape)\n",
    "print(\"shape of test data : \", test.shape)"
   ]
  },
  {
   "cell_type": "markdown",
   "metadata": {},
   "source": [
    "### 칼럼별 Null 파악"
   ]
  },
  {
   "cell_type": "code",
   "execution_count": 4,
   "metadata": {},
   "outputs": [
    {
     "data": {
      "text/plain": [
       "fecha_dato                      0\n",
       "ncodpers                        0\n",
       "ind_empleado                27734\n",
       "pais_residencia             27734\n",
       "sexo                        27804\n",
       "age                             0\n",
       "fecha_alta                  27734\n",
       "ind_nuevo                   27734\n",
       "antiguedad                      0\n",
       "indrel                      27734\n",
       "ult_fec_cli_1t           13622516\n",
       "indrel_1mes                149781\n",
       "tiprel_1mes                149781\n",
       "indresi                     27734\n",
       "indext                      27734\n",
       "conyuemp                 13645501\n",
       "canal_entrada              186126\n",
       "indfall                     27734\n",
       "tipodom                     27735\n",
       "cod_prov                    93591\n",
       "nomprov                     93591\n",
       "ind_actividad_cliente       27734\n",
       "renta                     2794375\n",
       "segmento                   189368\n",
       "ind_ahor_fin_ult1               0\n",
       "ind_aval_fin_ult1               0\n",
       "ind_cco_fin_ult1                0\n",
       "ind_cder_fin_ult1               0\n",
       "ind_cno_fin_ult1                0\n",
       "ind_ctju_fin_ult1               0\n",
       "ind_ctma_fin_ult1               0\n",
       "ind_ctop_fin_ult1               0\n",
       "ind_ctpp_fin_ult1               0\n",
       "ind_deco_fin_ult1               0\n",
       "ind_deme_fin_ult1               0\n",
       "ind_dela_fin_ult1               0\n",
       "ind_ecue_fin_ult1               0\n",
       "ind_fond_fin_ult1               0\n",
       "ind_hip_fin_ult1                0\n",
       "ind_plan_fin_ult1               0\n",
       "ind_pres_fin_ult1               0\n",
       "ind_reca_fin_ult1               0\n",
       "ind_tjcr_fin_ult1               0\n",
       "ind_valo_fin_ult1               0\n",
       "ind_viv_fin_ult1                0\n",
       "ind_nomina_ult1             16063\n",
       "ind_nom_pens_ult1           16063\n",
       "ind_recibo_ult1                 0\n",
       "dtype: int64"
      ]
     },
     "execution_count": 4,
     "metadata": {},
     "output_type": "execute_result"
    }
   ],
   "source": [
    "train.isnull().sum()"
   ]
  },
  {
   "cell_type": "markdown",
   "metadata": {},
   "source": [
    "데이터의 대부분이 null 값인 column = ** ult_fec_cli_1t, conyuemp**"
   ]
  },
  {
   "cell_type": "markdown",
   "metadata": {},
   "source": [
    "### 칼럼별 데이터 파악\n",
    "- 시각화가 가능한 EDA : 앞 100만개를 자른 부분을 통해 국소적인 부분만 판단\n",
    "- 시각화가 불가능한  EDA : 전체 데이터를 이용"
   ]
  },
  {
   "cell_type": "code",
   "execution_count": 5,
   "metadata": {
    "scrolled": true
   },
   "outputs": [
    {
     "name": "stdout",
     "output_type": "stream",
     "text": [
      "Number of unique value in fecha_dato:17\n",
      "Number of unique value in ncodpers:956645\n",
      "Number of unique value in ind_empleado:6\n",
      "Number of unique value in pais_residencia:119\n",
      "Number of unique value in sexo:3\n",
      "Number of unique value in age:235\n",
      "Number of unique value in fecha_alta:6757\n",
      "Number of unique value in ind_nuevo:3\n",
      "Number of unique value in antiguedad:507\n",
      "Number of unique value in indrel:3\n",
      "Number of unique value in ult_fec_cli_1t:224\n",
      "Number of unique value in indrel_1mes:14\n",
      "Number of unique value in tiprel_1mes:6\n",
      "Number of unique value in indresi:3\n",
      "Number of unique value in indext:3\n",
      "Number of unique value in conyuemp:3\n",
      "Number of unique value in canal_entrada:163\n",
      "Number of unique value in indfall:3\n",
      "Number of unique value in tipodom:2\n",
      "Number of unique value in cod_prov:53\n",
      "Number of unique value in nomprov:53\n",
      "Number of unique value in ind_actividad_cliente:3\n",
      "Number of unique value in renta:520995\n",
      "Number of unique value in segmento:4\n",
      "Number of unique value in ind_ahor_fin_ult1:2\n",
      "Number of unique value in ind_aval_fin_ult1:2\n",
      "Number of unique value in ind_cco_fin_ult1:2\n",
      "Number of unique value in ind_cder_fin_ult1:2\n",
      "Number of unique value in ind_cno_fin_ult1:2\n",
      "Number of unique value in ind_ctju_fin_ult1:2\n",
      "Number of unique value in ind_ctma_fin_ult1:2\n",
      "Number of unique value in ind_ctop_fin_ult1:2\n",
      "Number of unique value in ind_ctpp_fin_ult1:2\n",
      "Number of unique value in ind_deco_fin_ult1:2\n",
      "Number of unique value in ind_deme_fin_ult1:2\n",
      "Number of unique value in ind_dela_fin_ult1:2\n",
      "Number of unique value in ind_ecue_fin_ult1:2\n",
      "Number of unique value in ind_fond_fin_ult1:2\n",
      "Number of unique value in ind_hip_fin_ult1:2\n",
      "Number of unique value in ind_plan_fin_ult1:2\n",
      "Number of unique value in ind_pres_fin_ult1:2\n",
      "Number of unique value in ind_reca_fin_ult1:2\n",
      "Number of unique value in ind_tjcr_fin_ult1:2\n",
      "Number of unique value in ind_valo_fin_ult1:2\n",
      "Number of unique value in ind_viv_fin_ult1:2\n",
      "Number of unique value in ind_nomina_ult1:3\n",
      "Number of unique value in ind_nom_pens_ult1:3\n",
      "Number of unique value in ind_recibo_ult1:2\n"
     ]
    }
   ],
   "source": [
    "#전체 데이터 셋 이용한 데이터의 unique value  파악\n",
    "try :\n",
    "    for col in range(len(train.columns)) : \n",
    "        print(\"Number of unique value in {0}:{1}\".format(train.columns[col],len(train[train.columns[col]].unique())))\n",
    "except Exception as e:\n",
    "    print(e)\n",
    "    pass"
   ]
  },
  {
   "cell_type": "markdown",
   "metadata": {},
   "source": [
    "## fecha_dato"
   ]
  },
  {
   "cell_type": "code",
   "execution_count": 6,
   "metadata": {
    "scrolled": true
   },
   "outputs": [
    {
     "data": {
      "text/plain": [
       "2016-05-28    931453\n",
       "2016-04-28    928274\n",
       "2016-03-28    925076\n",
       "2016-02-28    920904\n",
       "2016-01-28    916269\n",
       "2015-12-28    912021\n",
       "2015-11-28    906109\n",
       "2015-10-28    892251\n",
       "2015-09-28    865440\n",
       "2015-08-28    843201\n",
       "2015-07-28    829817\n",
       "2015-06-28    632110\n",
       "2015-05-28    631957\n",
       "2015-04-28    630367\n",
       "2015-03-28    629209\n",
       "2015-02-28    627394\n",
       "2015-01-28    625457\n",
       "Name: fecha_dato, dtype: int64"
      ]
     },
     "execution_count": 6,
     "metadata": {},
     "output_type": "execute_result"
    }
   ],
   "source": [
    "train[\"fecha_dato\"].value_counts()"
   ]
  },
  {
   "cell_type": "markdown",
   "metadata": {},
   "source": [
    "#### Comment\n",
    "fecha_dato (date) : \n",
    "- 날짜 데이터, str 형태\n",
    "- pandas의 datetime으로 활용가능\n",
    "- ** 사실상 카테고리로 봐도 무방할 듯**"
   ]
  },
  {
   "cell_type": "markdown",
   "metadata": {},
   "source": [
    "## ncodpers"
   ]
  },
  {
   "cell_type": "code",
   "execution_count": 7,
   "metadata": {
    "scrolled": true
   },
   "outputs": [
    {
     "data": {
      "text/plain": [
       "32752      17\n",
       "1273696    17\n",
       "1224536    17\n",
       "1199940    17\n",
       "1208128    17\n",
       "1150780    17\n",
       "1158968    17\n",
       "1117996    17\n",
       "1126184    17\n",
       "1134372    17\n",
       "1142560    17\n",
       "1085212    17\n",
       "1093400    17\n",
       "1101588    17\n",
       "1109776    17\n",
       "1052428    17\n",
       "1068804    17\n",
       "1076992    17\n",
       "511476     17\n",
       "478692     17\n",
       "429532     17\n",
       "1216348    17\n",
       "1298292    17\n",
       "1298293    17\n",
       "1281916    17\n",
       "863403     17\n",
       "871591     17\n",
       "879779     17\n",
       "797835     17\n",
       "806023     17\n",
       "           ..\n",
       "1552552     1\n",
       "1294656     1\n",
       "1549574     1\n",
       "1552012     1\n",
       "1181550     1\n",
       "1402308     1\n",
       "1212249     1\n",
       "750260      1\n",
       "1441293     1\n",
       "1549400     1\n",
       "1477022     1\n",
       "1544365     1\n",
       "1516202     1\n",
       "1552553     1\n",
       "1420428     1\n",
       "1542208     1\n",
       "1526182     1\n",
       "1548821     1\n",
       "1023450     1\n",
       "1363915     1\n",
       "1550404     1\n",
       "1550297     1\n",
       "1468385     1\n",
       "1437091     1\n",
       "1534863     1\n",
       "1549150     1\n",
       "1543059     1\n",
       "1535935     1\n",
       "1551255     1\n",
       "1489485     1\n",
       "Name: ncodpers, Length: 956645, dtype: int64"
      ]
     },
     "execution_count": 7,
     "metadata": {},
     "output_type": "execute_result"
    }
   ],
   "source": [
    "train[\"ncodpers\"].value_counts()"
   ]
  },
  {
   "cell_type": "code",
   "execution_count": 8,
   "metadata": {},
   "outputs": [
    {
     "data": {
      "text/plain": [
       "17"
      ]
     },
     "execution_count": 8,
     "metadata": {},
     "output_type": "execute_result"
    }
   ],
   "source": [
    "(train[\"ncodpers\"].value_counts()).max()"
   ]
  },
  {
   "cell_type": "markdown",
   "metadata": {},
   "source": [
    "#### Comment\n",
    "ncodpers(id) : \n",
    "- 고객 개개인의 id로 볼 수있는 는 unique한 값이 아닌 중복되는 값이 존재 -> EDA과정에서 살펴볼 필요가 있음.\n",
    "-  최대 17개까지 중복\n",
    "- int 형태"
   ]
  },
  {
   "cell_type": "markdown",
   "metadata": {},
   "source": [
    "## ind_empleado"
   ]
  },
  {
   "cell_type": "code",
   "execution_count": 9,
   "metadata": {},
   "outputs": [
    {
     "data": {
      "text/plain": [
       "N    13610977\n",
       "B        3566\n",
       "F        2523\n",
       "A        2492\n",
       "S          17\n",
       "Name: ind_empleado, dtype: int64"
      ]
     },
     "execution_count": 9,
     "metadata": {},
     "output_type": "execute_result"
    }
   ],
   "source": [
    "train[\"ind_empleado\"].value_counts()"
   ]
  },
  {
   "cell_type": "markdown",
   "metadata": {},
   "source": [
    "#### Comment\n",
    "ind_empleado(emplo_status) : \n",
    "- 칼럼 값들의 대부분이 N을 가지고 있음\n",
    "- str 형태인데 왜 int64라고 뜨지?\n",
    "- 이정도 차이면 직원인지 아닌지에 따라 0과 1로 나누어도 되지 않을까"
   ]
  },
  {
   "cell_type": "markdown",
   "metadata": {},
   "source": [
    "## pais_residencia"
   ]
  },
  {
   "cell_type": "code",
   "execution_count": 10,
   "metadata": {
    "scrolled": true
   },
   "outputs": [
    {
     "data": {
      "text/plain": [
       "ES    13553710\n",
       "FR        5161\n",
       "AR        4835\n",
       "DE        4625\n",
       "GB        4605\n",
       "US        3651\n",
       "CO        3526\n",
       "IT        2947\n",
       "RO        2931\n",
       "MX        2573\n",
       "BR        2351\n",
       "VE        2331\n",
       "EC        2169\n",
       "CH        1995\n",
       "BE        1526\n",
       "BO        1514\n",
       "PY        1430\n",
       "PT        1419\n",
       "CL         989\n",
       "PE         900\n",
       "RU         769\n",
       "CU         758\n",
       "NL         757\n",
       "SE         603\n",
       "PL         599\n",
       "CN         563\n",
       "UY         510\n",
       "UA         493\n",
       "BG         476\n",
       "AT         476\n",
       "        ...   \n",
       "GW          34\n",
       "PH          34\n",
       "CG          34\n",
       "ET          34\n",
       "OM          22\n",
       "KH          17\n",
       "LY          17\n",
       "BZ          17\n",
       "MM          17\n",
       "SL          17\n",
       "CF          17\n",
       "AL          17\n",
       "GH          17\n",
       "LV          17\n",
       "KZ          17\n",
       "LB          17\n",
       "TG          17\n",
       "CD          17\n",
       "TN          17\n",
       "GI          17\n",
       "GE          17\n",
       "KW          17\n",
       "GM          17\n",
       "IS          17\n",
       "ML          17\n",
       "JM          11\n",
       "ZW          11\n",
       "DJ          11\n",
       "BM           6\n",
       "MT           2\n",
       "Name: pais_residencia, Length: 118, dtype: int64"
      ]
     },
     "execution_count": 10,
     "metadata": {},
     "output_type": "execute_result"
    }
   ],
   "source": [
    "train[\"pais_residencia\"].value_counts()"
   ]
  },
  {
   "cell_type": "markdown",
   "metadata": {},
   "source": [
    "#### Comment\n",
    "pais_residencia(nationality) :\n",
    "- 국적, CountryCode를 나타내는 듯\n",
    "- 대부분의 값이 ES, 이정도 차이면 스페인인지 아닌지에 따라 0과 1로 나누어도 되지 않을까\n",
    "- str 형태인데 왜 int64라고 뜨지?\n"
   ]
  },
  {
   "cell_type": "markdown",
   "metadata": {},
   "source": [
    "## sexo"
   ]
  },
  {
   "cell_type": "code",
   "execution_count": 11,
   "metadata": {},
   "outputs": [
    {
     "data": {
      "text/plain": [
       "V    7424252\n",
       "H    6195253\n",
       "Name: sexo, dtype: int64"
      ]
     },
     "execution_count": 11,
     "metadata": {},
     "output_type": "execute_result"
    }
   ],
   "source": [
    "train[\"sexo\"].value_counts()"
   ]
  },
  {
   "cell_type": "markdown",
   "metadata": {},
   "source": [
    "#### Comment\n",
    "sexo(sex) :\n",
    "- V : 여성, H : 남성 -> 여성의 수가 130만명가량 많은 편\n",
    "- str형태인데 왜 int64라고 뜨지?\n"
   ]
  },
  {
   "cell_type": "markdown",
   "metadata": {},
   "source": [
    "## age"
   ]
  },
  {
   "cell_type": "code",
   "execution_count": 12,
   "metadata": {
    "scrolled": true
   },
   "outputs": [
    {
     "data": {
      "text/plain": [
       "23     542682\n",
       "24     527526\n",
       "22     524620\n",
       "21     500941\n",
       "20     370847\n",
       "25     345664\n",
       "26     250641\n",
       " 23    237202\n",
       "43     231501\n",
       "44     229359\n",
       "42     227626\n",
       "45     224073\n",
       "41     221432\n",
       "46     214320\n",
       " 22    211694\n",
       " 24    207259\n",
       "40     205668\n",
       "47     204715\n",
       "27     203881\n",
       "48     194513\n",
       "39     186583\n",
       "49     179384\n",
       " 21    175047\n",
       "28     174169\n",
       "50     169287\n",
       "38     166836\n",
       "51     159013\n",
       "37     154889\n",
       "52     152009\n",
       "29     149706\n",
       "        ...  \n",
       "107       439\n",
       "103       419\n",
       "  3       415\n",
       "108       384\n",
       "104       307\n",
       "105       307\n",
       "110       218\n",
       "109       205\n",
       "111       203\n",
       "106       192\n",
       "107       155\n",
       "112       140\n",
       "  2       130\n",
       "113        93\n",
       "108        72\n",
       "109        60\n",
       "116        51\n",
       "111        49\n",
       "112        48\n",
       "110        43\n",
       "115        43\n",
       "115        39\n",
       "113        24\n",
       "114        22\n",
       "117        14\n",
       "116        12\n",
       "163         8\n",
       "127         8\n",
       "164         3\n",
       "126         3\n",
       "Name: age, Length: 235, dtype: int64"
      ]
     },
     "execution_count": 12,
     "metadata": {},
     "output_type": "execute_result"
    }
   ],
   "source": [
    "train[\"age\"].value_counts()"
   ]
  },
  {
   "cell_type": "code",
   "execution_count": 13,
   "metadata": {
    "scrolled": true
   },
   "outputs": [
    {
     "name": "stdout",
     "output_type": "stream",
     "text": [
      "age의 null 개수 :  0\n",
      "age의 value가 ' NA' 인 것의 개수 :  27734\n"
     ]
    }
   ],
   "source": [
    "print(\"age의 null 개수 : \", train[\"age\"].isnull().sum())\n",
    "print(\"age의 value가 ' NA' 인 것의 개수 : \", len(train[train[\"age\"] == ' NA']))"
   ]
  },
  {
   "cell_type": "code",
   "execution_count": 14,
   "metadata": {},
   "outputs": [
    {
     "data": {
      "text/plain": [
       "0"
      ]
     },
     "execution_count": 14,
     "metadata": {},
     "output_type": "execute_result"
    }
   ],
   "source": [
    "train[\"age\"].isnull().sum()"
   ]
  },
  {
   "cell_type": "code",
   "execution_count": 15,
   "metadata": {
    "collapsed": true
   },
   "outputs": [],
   "source": [
    "def to_int(x) :\n",
    "    if x == \" NA\" :\n",
    "        result = None\n",
    "    else :\n",
    "        result = int(x)\n",
    "        \n",
    "    return result"
   ]
  },
  {
   "cell_type": "code",
   "execution_count": 16,
   "metadata": {
    "collapsed": true,
    "scrolled": true
   },
   "outputs": [],
   "source": [
    "#value가 ' NA'인것을 제외한 후 int로 형 변환\n",
    "train[\"age\"] = train[\"age\"].apply(to_int)"
   ]
  },
  {
   "cell_type": "code",
   "execution_count": 17,
   "metadata": {
    "scrolled": false
   },
   "outputs": [
    {
     "name": "stdout",
     "output_type": "stream",
     "text": [
      "age의 null 개수 :  27734\n",
      "나이가 가장 많은 고객 :  164.0\n",
      "나이가 가장 어린 고객 :  2.0\n",
      "100세 이상인 고객 :  15919\n",
      "15세 미만인 고객 :  95084\n"
     ]
    }
   ],
   "source": [
    "print(\"age의 null 개수 : \", train[\"age\"].isnull().sum())\n",
    "print(\"나이가 가장 많은 고객 : \", train[\"age\"].max())\n",
    "print(\"나이가 가장 어린 고객 : \", train[\"age\"].min())\n",
    "print(\"100세 이상인 고객 : \", len(train[train[\"age\"] >= 100]))\n",
    "print(\"15세 미만인 고객 : \", len(train[train[\"age\"] < 16]))"
   ]
  },
  {
   "cell_type": "markdown",
   "metadata": {},
   "source": [
    "#### Comment\n",
    "age(age) :\n",
    "- ' NA', null값으로는 인식되지 않지만, 값이 없는 수치들 발견  \n",
    "- to_int 함수를 제작\n",
    "> str 형태들을 int 형으로 형변환  \n",
    "> null값이나 마찬 가지인 ' NA' 들을 null 값으로 만들어줌  "
   ]
  },
  {
   "cell_type": "markdown",
   "metadata": {},
   "source": [
    "## fecha_alta"
   ]
  },
  {
   "cell_type": "code",
   "execution_count": 18,
   "metadata": {
    "scrolled": true
   },
   "outputs": [
    {
     "data": {
      "text/plain": [
       "2014-07-28    57389\n",
       "2014-10-03    54287\n",
       "2014-08-04    45746\n",
       "2013-10-14    40804\n",
       "2013-08-03    33414\n",
       "2012-08-06    26223\n",
       "2014-07-21    26027\n",
       "2012-08-03    25409\n",
       "2012-08-02    25004\n",
       "2013-10-11    24751\n",
       "2013-08-10    23766\n",
       "2012-08-01    22935\n",
       "2014-09-17    22810\n",
       "2014-08-06    22756\n",
       "2014-09-24    22696\n",
       "2014-07-30    22695\n",
       "2012-08-09    22433\n",
       "2013-07-22    22309\n",
       "2012-08-07    22052\n",
       "2012-07-24    21840\n",
       "2014-09-23    21422\n",
       "2012-07-30    20591\n",
       "2013-10-10    20241\n",
       "2013-10-28    20089\n",
       "2013-10-09    19954\n",
       "2012-10-01    19920\n",
       "2012-07-31    19902\n",
       "2012-08-10    19676\n",
       "2015-07-25    19638\n",
       "2012-07-19    19610\n",
       "              ...  \n",
       "2011-04-30       11\n",
       "2005-07-31       11\n",
       "2011-09-11       11\n",
       "2014-05-11       11\n",
       "2012-04-29       11\n",
       "2010-10-09       11\n",
       "2012-04-01       11\n",
       "2014-06-29       11\n",
       "2013-08-17       11\n",
       "2014-08-10       11\n",
       "2011-11-20       11\n",
       "2013-03-09       11\n",
       "2010-07-17       11\n",
       "2012-07-14       11\n",
       "2011-05-29       11\n",
       "2014-04-27       11\n",
       "2012-09-30       11\n",
       "2013-05-11       11\n",
       "2010-10-31       11\n",
       "2000-04-23       11\n",
       "2012-08-19       11\n",
       "2012-06-02       11\n",
       "2012-08-26       11\n",
       "2014-12-25       11\n",
       "2012-04-21       11\n",
       "1997-09-09       11\n",
       "2015-05-31        9\n",
       "2014-05-01        7\n",
       "2009-12-25        4\n",
       "2010-07-04        4\n",
       "Name: fecha_alta, Length: 6756, dtype: int64"
      ]
     },
     "execution_count": 18,
     "metadata": {},
     "output_type": "execute_result"
    }
   ],
   "source": [
    "train[\"fecha_alta\"].value_counts()"
   ]
  },
  {
   "cell_type": "code",
   "execution_count": 19,
   "metadata": {
    "scrolled": false
   },
   "outputs": [
    {
     "data": {
      "text/plain": [
       "Timestamp('1995-01-16 00:00:00')"
      ]
     },
     "execution_count": 19,
     "metadata": {},
     "output_type": "execute_result"
    }
   ],
   "source": [
    "#최초거래일이 가장 빠른 고객의 날짜\n",
    "pd.to_datetime(train[\"fecha_alta\"]).min()"
   ]
  },
  {
   "cell_type": "code",
   "execution_count": 20,
   "metadata": {
    "scrolled": true
   },
   "outputs": [
    {
     "data": {
      "text/plain": [
       "Timestamp('2016-05-31 00:00:00')"
      ]
     },
     "execution_count": 20,
     "metadata": {},
     "output_type": "execute_result"
    }
   ],
   "source": [
    "#최초거래일이 가장 최근인 고객의 날짜\n",
    "pd.to_datetime(train[\"fecha_alta\"]).max()"
   ]
  },
  {
   "cell_type": "markdown",
   "metadata": {},
   "source": [
    "#### Comment\n",
    "fecha_alta(become_cus) : \n",
    "- str형태의 날짜 데이터\n",
    "- fecha_dato와 함께 두 번째 날짜 데이터"
   ]
  },
  {
   "cell_type": "markdown",
   "metadata": {},
   "source": [
    "## ind_nuevo"
   ]
  },
  {
   "cell_type": "code",
   "execution_count": 21,
   "metadata": {
    "scrolled": true
   },
   "outputs": [
    {
     "data": {
      "text/plain": [
       "0.0    12808368\n",
       "1.0      811207\n",
       "Name: ind_nuevo, dtype: int64"
      ]
     },
     "execution_count": 21,
     "metadata": {},
     "output_type": "execute_result"
    }
   ],
   "source": [
    "train[\"ind_nuevo\"].value_counts()"
   ]
  },
  {
   "cell_type": "markdown",
   "metadata": {},
   "source": [
    "#### Comment\n",
    "ind_nuevo(new_before_6) :\n",
    "- 0이 대부분 -> 대부분의 고객이 새 고객이 아님\n",
    "- 실수형 데이터"
   ]
  },
  {
   "cell_type": "markdown",
   "metadata": {},
   "source": [
    "## antiguedad"
   ]
  },
  {
   "cell_type": "code",
   "execution_count": 22,
   "metadata": {
    "scrolled": true
   },
   "outputs": [
    {
     "data": {
      "text/plain": [
       "0          134335\n",
       "1          130681\n",
       "12         130589\n",
       "3          125789\n",
       "2          125133\n",
       "5          122246\n",
       "     21    118544\n",
       "4          117501\n",
       "14         112959\n",
       "     12    112571\n",
       "6          111329\n",
       "17         109770\n",
       "16         109440\n",
       "7          109156\n",
       "15         108838\n",
       "13         107487\n",
       "24         104439\n",
       "10         104434\n",
       "18         104287\n",
       "26         103378\n",
       "     10    101731\n",
       "25          99037\n",
       "8           98171\n",
       "27          96927\n",
       "28          96575\n",
       "23          96281\n",
       "21          96251\n",
       "19          96000\n",
       "     33     95100\n",
       "38          93861\n",
       "            ...  \n",
       "    238      2948\n",
       "    215      2904\n",
       "    228      2876\n",
       "    203      2510\n",
       "    236      2378\n",
       "248          2271\n",
       "    230      2258\n",
       "    241      1980\n",
       "    226      1967\n",
       "      1      1898\n",
       "    233      1863\n",
       "    240      1854\n",
       "249          1777\n",
       "250          1512\n",
       "    227      1356\n",
       "    242      1148\n",
       "251          1071\n",
       "    239       872\n",
       "    243       713\n",
       "252           676\n",
       "    246       507\n",
       "    244       450\n",
       "253           416\n",
       "    245       360\n",
       "254           261\n",
       "255           179\n",
       "      0       149\n",
       "256           102\n",
       "-999999        26\n",
       "-999999        12\n",
       "Name: antiguedad, Length: 507, dtype: int64"
      ]
     },
     "execution_count": 22,
     "metadata": {},
     "output_type": "execute_result"
    }
   ],
   "source": [
    "train['antiguedad'].value_counts()"
   ]
  },
  {
   "cell_type": "code",
   "execution_count": 23,
   "metadata": {
    "collapsed": true
   },
   "outputs": [],
   "source": [
    "def func_for_antiguedad(x) :\n",
    "    if x == '     NA' :\n",
    "        result = None\n",
    "    else :\n",
    "        result = int(x)\n",
    "        \n",
    "    return result"
   ]
  },
  {
   "cell_type": "code",
   "execution_count": 24,
   "metadata": {
    "collapsed": true,
    "scrolled": true
   },
   "outputs": [],
   "source": [
    "train['antiguedad'] = train['antiguedad'].apply(func_for_antiguedad)"
   ]
  },
  {
   "cell_type": "markdown",
   "metadata": {},
   "source": [
    "#### Comment\n",
    "antiguedad(seniority) : \n",
    "- 공백이 있는 형태의 str 타입 \n",
    "- (-)가 있음을 발견(우선 방치)\n",
    "- ** numeric 전환 후, unique value 개수가 507 -> 259개로 감소('12'와  '     12' 같은 값들이 하나로 합쳐짐) **"
   ]
  },
  {
   "cell_type": "markdown",
   "metadata": {},
   "source": [
    "## indrel"
   ]
  },
  {
   "cell_type": "code",
   "execution_count": 25,
   "metadata": {},
   "outputs": [
    {
     "data": {
      "text/plain": [
       "1.0     13594782\n",
       "99.0       24793\n",
       "Name: indrel, dtype: int64"
      ]
     },
     "execution_count": 25,
     "metadata": {},
     "output_type": "execute_result"
    }
   ],
   "source": [
    "train[\"indrel\"].value_counts()"
   ]
  },
  {
   "cell_type": "markdown",
   "metadata": {},
   "source": [
    "#### Comment\n",
    "indrel(primary_or_not) : \n",
    "- 1 일 경우 월초 primary, 99 일 경우 월말에는 primary가 아님\n",
    "- 대부분이 월초 primary 상태\n"
   ]
  },
  {
   "cell_type": "markdown",
   "metadata": {},
   "source": [
    "## ult_fec_cli_1t"
   ]
  },
  {
   "cell_type": "code",
   "execution_count": 26,
   "metadata": {
    "scrolled": true
   },
   "outputs": [
    {
     "data": {
      "text/plain": [
       "2015-12-24    763\n",
       "2015-12-28    521\n",
       "2015-07-09    443\n",
       "2015-07-06    405\n",
       "2015-07-01    401\n",
       "2015-07-21    391\n",
       "2015-07-07    340\n",
       "2015-07-17    330\n",
       "2015-07-10    320\n",
       "2015-07-28    311\n",
       "2015-07-24    299\n",
       "2015-07-20    295\n",
       "2015-07-22    275\n",
       "2015-07-15    273\n",
       "2015-07-03    262\n",
       "2015-07-29    255\n",
       "2015-07-13    229\n",
       "2015-07-30    224\n",
       "2015-12-21    206\n",
       "2015-07-23    206\n",
       "2015-07-27    203\n",
       "2015-07-14    196\n",
       "2015-07-08    175\n",
       "2015-12-17    172\n",
       "2016-01-19    169\n",
       "2016-01-05    167\n",
       "2015-07-02    166\n",
       "2015-12-16    158\n",
       "2015-07-16    147\n",
       "2015-12-18    139\n",
       "             ... \n",
       "2016-02-25     65\n",
       "2016-02-18     64\n",
       "2015-12-07     64\n",
       "2015-08-25     63\n",
       "2016-04-20     63\n",
       "2015-08-12     62\n",
       "2016-04-22     62\n",
       "2015-09-03     61\n",
       "2015-08-21     61\n",
       "2016-05-05     61\n",
       "2015-08-24     61\n",
       "2015-11-26     61\n",
       "2015-08-07     59\n",
       "2015-08-18     59\n",
       "2015-08-20     59\n",
       "2016-03-03     59\n",
       "2016-04-07     58\n",
       "2015-09-21     57\n",
       "2016-04-14     57\n",
       "2016-05-13     55\n",
       "2016-03-07     55\n",
       "2015-11-06     54\n",
       "2015-08-14     51\n",
       "2016-03-24     49\n",
       "2016-03-23     46\n",
       "2015-08-19     44\n",
       "2016-04-28     44\n",
       "2015-08-06     41\n",
       "2016-01-04     34\n",
       "2015-12-23     27\n",
       "Name: ult_fec_cli_1t, Length: 223, dtype: int64"
      ]
     },
     "execution_count": 26,
     "metadata": {},
     "output_type": "execute_result"
    }
   ],
   "source": [
    "train[\"ult_fec_cli_1t\"].value_counts()"
   ]
  },
  {
   "cell_type": "markdown",
   "metadata": {},
   "source": [
    "#### Comment\n",
    "ult_fec_cli_1t(last_primary) :\n",
    "- 마지막으로 primary customer 였던 날짜\n",
    "- 대부분이 null"
   ]
  },
  {
   "cell_type": "markdown",
   "metadata": {},
   "source": [
    "## indrel_1mes"
   ]
  },
  {
   "cell_type": "code",
   "execution_count": 27,
   "metadata": {},
   "outputs": [
    {
     "data": {
      "text/plain": [
       "(13647309, 48)"
      ]
     },
     "execution_count": 27,
     "metadata": {},
     "output_type": "execute_result"
    }
   ],
   "source": [
    "train.shape"
   ]
  },
  {
   "cell_type": "code",
   "execution_count": 28,
   "metadata": {
    "scrolled": true
   },
   "outputs": [
    {
     "data": {
      "text/plain": [
       "1.0    7277607\n",
       "1.0    4017746\n",
       "1      2195328\n",
       "3.0       1804\n",
       "3.0       1409\n",
       "3         1137\n",
       "P          874\n",
       "2          483\n",
       "2.0        479\n",
       "2.0        355\n",
       "4.0        143\n",
       "4.0         93\n",
       "4           70\n",
       "Name: indrel_1mes, dtype: int64"
      ]
     },
     "execution_count": 28,
     "metadata": {},
     "output_type": "execute_result"
    }
   ],
   "source": [
    "train[\"indrel_1mes\"].value_counts()"
   ]
  },
  {
   "cell_type": "code",
   "execution_count": 29,
   "metadata": {
    "collapsed": true
   },
   "outputs": [],
   "source": [
    "#같은 값을 가져야 하지만, 타입이 달라 데이터가 분산되어 나옴 -> 통일\n",
    "# 'P'를 제외한 모든 값들을 int로 형 변환\n",
    "def func_for_indrel(x) :\n",
    "    number = \"0123456789\"\n",
    "    if type(x) == str :\n",
    "        if x[0] in number :\n",
    "            result = int(float(x))\n",
    "        else :\n",
    "            result = x\n",
    "    else :\n",
    "        result = x\n",
    "    \n",
    "    return result"
   ]
  },
  {
   "cell_type": "code",
   "execution_count": 30,
   "metadata": {
    "collapsed": true,
    "scrolled": true
   },
   "outputs": [],
   "source": [
    "train[\"indrel_1mes\"] = train[\"indrel_1mes\"].apply(func_for_indrel)"
   ]
  },
  {
   "cell_type": "markdown",
   "metadata": {},
   "source": [
    "#### Comment\n",
    "indrel_1mes(type_of_cus) : \n",
    "- 같은 값이나, 서로 다른 타입으로 되어있던 값들을 하나의 값으로 통일 시켜줌\n",
    "- 1이 압도적으로 많음\n"
   ]
  },
  {
   "cell_type": "markdown",
   "metadata": {},
   "source": [
    "## tiprel_1mes"
   ]
  },
  {
   "cell_type": "code",
   "execution_count": 31,
   "metadata": {
    "scrolled": true
   },
   "outputs": [
    {
     "data": {
      "text/plain": [
       "I    7304875\n",
       "A    6187123\n",
       "P       4656\n",
       "R        870\n",
       "N          4\n",
       "Name: tiprel_1mes, dtype: int64"
      ]
     },
     "execution_count": 31,
     "metadata": {},
     "output_type": "execute_result"
    }
   ],
   "source": [
    "train[\"tiprel_1mes\"].value_counts()"
   ]
  },
  {
   "cell_type": "markdown",
   "metadata": {},
   "source": [
    "#### Comment \n",
    "tiprel_1mes(relation_of_cus) : \n",
    "- 카테고리 설명에 없는 4개의 N 값 발견"
   ]
  },
  {
   "cell_type": "markdown",
   "metadata": {},
   "source": [
    "## indresi"
   ]
  },
  {
   "cell_type": "code",
   "execution_count": 32,
   "metadata": {},
   "outputs": [
    {
     "data": {
      "text/plain": [
       "S    13553711\n",
       "N       65864\n",
       "Name: indresi, dtype: int64"
      ]
     },
     "execution_count": 32,
     "metadata": {},
     "output_type": "execute_result"
    }
   ],
   "source": [
    "train[\"indresi\"].value_counts()"
   ]
  },
  {
   "cell_type": "code",
   "execution_count": 33,
   "metadata": {},
   "outputs": [
    {
     "data": {
      "text/plain": [
       "27734"
      ]
     },
     "execution_count": 33,
     "metadata": {},
     "output_type": "execute_result"
    }
   ],
   "source": [
    "train[\"indresi\"].isnull().sum()"
   ]
  },
  {
   "cell_type": "markdown",
   "metadata": {},
   "source": [
    "#### Comment\n",
    "indresi(same_country) : \n",
    "- 특이사항 없음"
   ]
  },
  {
   "cell_type": "markdown",
   "metadata": {},
   "source": [
    "## indext"
   ]
  },
  {
   "cell_type": "code",
   "execution_count": 34,
   "metadata": {},
   "outputs": [
    {
     "data": {
      "text/plain": [
       "N    12974839\n",
       "S      644736\n",
       "Name: indext, dtype: int64"
      ]
     },
     "execution_count": 34,
     "metadata": {},
     "output_type": "execute_result"
    }
   ],
   "source": [
    "train[\"indext\"].value_counts()"
   ]
  },
  {
   "cell_type": "code",
   "execution_count": 35,
   "metadata": {
    "scrolled": true
   },
   "outputs": [
    {
     "data": {
      "text/plain": [
       "27734"
      ]
     },
     "execution_count": 35,
     "metadata": {},
     "output_type": "execute_result"
    }
   ],
   "source": [
    "train[\"indext\"].isnull().sum()"
   ]
  },
  {
   "cell_type": "markdown",
   "metadata": {},
   "source": [
    "#### Comment\n",
    "- null 값이 27734로 동일한 칼럼이 많은 것을 발견"
   ]
  },
  {
   "cell_type": "code",
   "execution_count": 36,
   "metadata": {
    "collapsed": true
   },
   "outputs": [],
   "source": [
    "#row별 null  개수를 확인...하려했으나 어찌된 일인지 이것도 수행하지 못해서 우선 패스\n",
    "null_row = train.apply(lambda x: len(train.columns) - x.count(), axis=1)"
   ]
  },
  {
   "cell_type": "markdown",
   "metadata": {},
   "source": [
    "## conyuemp"
   ]
  },
  {
   "cell_type": "code",
   "execution_count": 37,
   "metadata": {},
   "outputs": [
    {
     "data": {
      "text/plain": [
       "N    1791\n",
       "S      17\n",
       "Name: conyuemp, dtype: int64"
      ]
     },
     "execution_count": 37,
     "metadata": {},
     "output_type": "execute_result"
    }
   ],
   "source": [
    "train[\"conyuemp\"].value_counts()"
   ]
  },
  {
   "cell_type": "markdown",
   "metadata": {},
   "source": [
    "#### Comment\n",
    "conyuemp(spouse) : \n",
    "-  배우자 여부이나, 대부분이 null"
   ]
  },
  {
   "cell_type": "markdown",
   "metadata": {},
   "source": [
    "## canal_entrada"
   ]
  },
  {
   "cell_type": "code",
   "execution_count": 38,
   "metadata": {
    "scrolled": true
   },
   "outputs": [
    {
     "data": {
      "text/plain": [
       "KHE    4055270\n",
       "KAT    3268209\n",
       "KFC    3098360\n",
       "KHQ     591039\n",
       "KFA     409669\n",
       "KHK     241084\n",
       "KHM     183924\n",
       "KHD     116891\n",
       "KHN     116608\n",
       "KAS      86221\n",
       "RED      75607\n",
       "KAG      74295\n",
       "KAY      67350\n",
       "KAA      66656\n",
       "KAB      62381\n",
       "KAE      50764\n",
       "KCC      49308\n",
       "KBZ      46446\n",
       "KHL      45128\n",
       "KFD      44461\n",
       "KAI      37699\n",
       "KEY      35146\n",
       "KAW      34275\n",
       "KAR      32686\n",
       "KAZ      32186\n",
       "KAF      30559\n",
       "007      29063\n",
       "013      27139\n",
       "KCI      26546\n",
       "KAH      24875\n",
       "        ...   \n",
       "004        210\n",
       "KCQ        198\n",
       "KDN        197\n",
       "KCR        196\n",
       "KDH        191\n",
       "KCO        179\n",
       "KEE        175\n",
       "KCP        158\n",
       "K00        152\n",
       "KBE        147\n",
       "KEQ        146\n",
       "KAV        107\n",
       "KFB        107\n",
       "KCT        105\n",
       "KBX        102\n",
       "KBP         85\n",
       "KEM         68\n",
       "KFV         67\n",
       "KCX         67\n",
       "KBN         61\n",
       "KHA         51\n",
       "KGC         28\n",
       "KGU         28\n",
       "KDI         17\n",
       "KDB         17\n",
       "KGN         17\n",
       "025         11\n",
       "KDL         11\n",
       "KHS          5\n",
       "KHR          1\n",
       "Name: canal_entrada, Length: 162, dtype: int64"
      ]
     },
     "execution_count": 38,
     "metadata": {},
     "output_type": "execute_result"
    }
   ],
   "source": [
    "train[\"canal_entrada\"].value_counts()"
   ]
  },
  {
   "cell_type": "code",
   "execution_count": 39,
   "metadata": {
    "scrolled": true
   },
   "outputs": [
    {
     "data": {
      "text/plain": [
       "186126"
      ]
     },
     "execution_count": 39,
     "metadata": {},
     "output_type": "execute_result"
    }
   ],
   "source": [
    "train[\"canal_entrada\"].isnull().sum()"
   ]
  },
  {
   "cell_type": "markdown",
   "metadata": {},
   "source": [
    "#### Comment\n",
    "canal_entrada(channel) :\n",
    "- 고객이 은행에 접촉하게 된 계기, 코드에 대한 이해는 아직 찾지 못함"
   ]
  },
  {
   "cell_type": "markdown",
   "metadata": {},
   "source": [
    "## indfall"
   ]
  },
  {
   "cell_type": "code",
   "execution_count": 40,
   "metadata": {},
   "outputs": [
    {
     "data": {
      "text/plain": [
       "N    13584813\n",
       "S       34762\n",
       "Name: indfall, dtype: int64"
      ]
     },
     "execution_count": 40,
     "metadata": {},
     "output_type": "execute_result"
    }
   ],
   "source": [
    "train[\"indfall\"].value_counts()"
   ]
  },
  {
   "cell_type": "code",
   "execution_count": 41,
   "metadata": {},
   "outputs": [
    {
     "data": {
      "text/plain": [
       "27734"
      ]
     },
     "execution_count": 41,
     "metadata": {},
     "output_type": "execute_result"
    }
   ],
   "source": [
    "train[\"indfall\"].isnull().sum()"
   ]
  },
  {
   "cell_type": "markdown",
   "metadata": {},
   "source": [
    "#### Comment\n",
    "indfall(dead) : \n",
    "- 고객이 죽었나 살았나.\n",
    "- 살아있는 사람이 대부분"
   ]
  },
  {
   "cell_type": "markdown",
   "metadata": {},
   "source": [
    "## tipodom"
   ]
  },
  {
   "cell_type": "code",
   "execution_count": 42,
   "metadata": {},
   "outputs": [
    {
     "data": {
      "text/plain": [
       "1.0    13619574\n",
       "Name: tipodom, dtype: int64"
      ]
     },
     "execution_count": 42,
     "metadata": {},
     "output_type": "execute_result"
    }
   ],
   "source": [
    "train[\"tipodom\"].value_counts()"
   ]
  },
  {
   "cell_type": "code",
   "execution_count": 43,
   "metadata": {},
   "outputs": [
    {
     "data": {
      "text/plain": [
       "27735"
      ]
     },
     "execution_count": 43,
     "metadata": {},
     "output_type": "execute_result"
    }
   ],
   "source": [
    "train[\"tipodom\"].isnull().sum()"
   ]
  },
  {
   "cell_type": "markdown",
   "metadata": {},
   "source": [
    "#### Comment\n",
    "tipodom(address) : \n",
    "- primary의 주소 타입, 전부 1\n",
    "-  null값을 제외하고 전부 1, 어떻게 활용할까"
   ]
  },
  {
   "cell_type": "markdown",
   "metadata": {},
   "source": [
    "## cod_prov"
   ]
  },
  {
   "cell_type": "code",
   "execution_count": 44,
   "metadata": {
    "scrolled": true
   },
   "outputs": [
    {
     "data": {
      "text/plain": [
       "28.0    4409600\n",
       "8.0     1275219\n",
       "46.0     682304\n",
       "41.0     605164\n",
       "15.0     429322\n",
       "30.0     396759\n",
       "29.0     367023\n",
       "50.0     342543\n",
       "3.0      313397\n",
       "11.0     294684\n",
       "36.0     280026\n",
       "33.0     265749\n",
       "47.0     238259\n",
       "35.0     235700\n",
       "6.0      192996\n",
       "48.0     185888\n",
       "45.0     183067\n",
       "18.0     178562\n",
       "37.0     164238\n",
       "39.0     155706\n",
       "14.0     144679\n",
       "10.0     129912\n",
       "7.0      124933\n",
       "21.0     122283\n",
       "13.0     119390\n",
       "2.0      114128\n",
       "12.0     104295\n",
       "43.0     100115\n",
       "9.0       97188\n",
       "17.0      90538\n",
       "31.0      88618\n",
       "26.0      85202\n",
       "27.0      84962\n",
       "32.0      84009\n",
       "24.0      83003\n",
       "25.0      79059\n",
       "20.0      71567\n",
       "38.0      70968\n",
       "19.0      64618\n",
       "23.0      64363\n",
       "4.0       60291\n",
       "16.0      57310\n",
       "49.0      50927\n",
       "34.0      49282\n",
       "40.0      42341\n",
       "22.0      40181\n",
       "5.0       38783\n",
       "1.0       37704\n",
       "44.0      22525\n",
       "42.0      17660\n",
       "52.0       9460\n",
       "51.0       7218\n",
       "Name: cod_prov, dtype: int64"
      ]
     },
     "execution_count": 44,
     "metadata": {},
     "output_type": "execute_result"
    }
   ],
   "source": [
    "train[\"cod_prov\"].value_counts()"
   ]
  },
  {
   "cell_type": "markdown",
   "metadata": {},
   "source": [
    "![santander_prov_code](C:\\Users\\ledes\\study\\DNA_TeamProject\\kang\\santander_prov_code.jpg)"
   ]
  },
  {
   "cell_type": "markdown",
   "metadata": {},
   "source": [
    "#### Comment\n",
    "cod_prov(prov_code) :\n",
    "- 스페인 각 지방의 고유 번호.\n",
    "- 은행과의 거리를 점쳐볼 수 있을 듯(santander bank는 스페인 전국에 3개가 있는 곳으로 추정)"
   ]
  },
  {
   "cell_type": "markdown",
   "metadata": {},
   "source": [
    "## nomprov"
   ]
  },
  {
   "cell_type": "code",
   "execution_count": 45,
   "metadata": {},
   "outputs": [
    {
     "data": {
      "text/plain": [
       "MADRID                    4409600\n",
       "BARCELONA                 1275219\n",
       "VALENCIA                   682304\n",
       "SEVILLA                    605164\n",
       "CORUÑA, A                  429322\n",
       "MURCIA                     396759\n",
       "MALAGA                     367023\n",
       "ZARAGOZA                   342543\n",
       "ALICANTE                   313397\n",
       "CADIZ                      294684\n",
       "PONTEVEDRA                 280026\n",
       "ASTURIAS                   265749\n",
       "VALLADOLID                 238259\n",
       "PALMAS, LAS                235700\n",
       "BADAJOZ                    192996\n",
       "BIZKAIA                    185888\n",
       "TOLEDO                     183067\n",
       "GRANADA                    178562\n",
       "SALAMANCA                  164238\n",
       "CANTABRIA                  155706\n",
       "CORDOBA                    144679\n",
       "CACERES                    129912\n",
       "BALEARS, ILLES             124933\n",
       "HUELVA                     122283\n",
       "CIUDAD REAL                119390\n",
       "ALBACETE                   114128\n",
       "CASTELLON                  104295\n",
       "TARRAGONA                  100115\n",
       "BURGOS                      97188\n",
       "GIRONA                      90538\n",
       "NAVARRA                     88618\n",
       "RIOJA, LA                   85202\n",
       "LUGO                        84962\n",
       "OURENSE                     84009\n",
       "LEON                        83003\n",
       "LERIDA                      79059\n",
       "GIPUZKOA                    71567\n",
       "SANTA CRUZ DE TENERIFE      70968\n",
       "GUADALAJARA                 64618\n",
       "JAEN                        64363\n",
       "ALMERIA                     60291\n",
       "CUENCA                      57310\n",
       "ZAMORA                      50927\n",
       "PALENCIA                    49282\n",
       "SEGOVIA                     42341\n",
       "HUESCA                      40181\n",
       "AVILA                       38783\n",
       "ALAVA                       37704\n",
       "TERUEL                      22525\n",
       "SORIA                       17660\n",
       "MELILLA                      9460\n",
       "CEUTA                        7218\n",
       "Name: nomprov, dtype: int64"
      ]
     },
     "execution_count": 45,
     "metadata": {},
     "output_type": "execute_result"
    }
   ],
   "source": [
    "train[\"nomprov\"].value_counts()"
   ]
  },
  {
   "cell_type": "markdown",
   "metadata": {},
   "source": [
    "#### Comment :\n",
    "nomprov(name_prov)\n",
    "- 스페인 각 지방 이름, 어떤 지방에 사는 고객인지\n",
    "- prov_code와 중복"
   ]
  },
  {
   "cell_type": "markdown",
   "metadata": {},
   "source": [
    "## ind_actividad_cliente"
   ]
  },
  {
   "cell_type": "code",
   "execution_count": 46,
   "metadata": {},
   "outputs": [
    {
     "data": {
      "text/plain": [
       "0.0    7384390\n",
       "1.0    6235185\n",
       "Name: ind_actividad_cliente, dtype: int64"
      ]
     },
     "execution_count": 46,
     "metadata": {},
     "output_type": "execute_result"
    }
   ],
   "source": [
    "train[\"ind_actividad_cliente\"].value_counts()"
   ]
  },
  {
   "cell_type": "code",
   "execution_count": 47,
   "metadata": {},
   "outputs": [
    {
     "data": {
      "text/plain": [
       "27734"
      ]
     },
     "execution_count": 47,
     "metadata": {},
     "output_type": "execute_result"
    }
   ],
   "source": [
    "train[\"ind_actividad_cliente\"].isnull().sum()"
   ]
  },
  {
   "cell_type": "markdown",
   "metadata": {},
   "source": [
    "## renta"
   ]
  },
  {
   "cell_type": "code",
   "execution_count": 48,
   "metadata": {
    "scrolled": true
   },
   "outputs": [
    {
     "data": {
      "text/plain": [
       "451931.22    5582\n",
       "463625.16    1743\n",
       "181042.20    1493\n",
       "128318.52    1404\n",
       "105260.88    1354\n",
       "488798.49    1332\n",
       "127141.50    1183\n",
       "283325.67    1148\n",
       "132335.73    1047\n",
       "236690.34    1009\n",
       "104563.80     954\n",
       "227267.49     896\n",
       "273387.54     886\n",
       "111933.69     844\n",
       "174407.10     823\n",
       "227397.72     813\n",
       "155930.43     804\n",
       "218030.01     794\n",
       "163432.47     712\n",
       "208961.79     680\n",
       "555605.55     677\n",
       "168733.62     669\n",
       "135522.15     657\n",
       "148736.19     653\n",
       "152601.99     649\n",
       "248233.11     627\n",
       "288997.44     625\n",
       "326853.09     624\n",
       "47550.39      607\n",
       "91673.25      586\n",
       "             ... \n",
       "31253.64        1\n",
       "73367.82        1\n",
       "46808.19        1\n",
       "179561.43       1\n",
       "108875.73       1\n",
       "128959.86       1\n",
       "39686.61        1\n",
       "192297.42       1\n",
       "74075.85        1\n",
       "55041.57        1\n",
       "65108.82        1\n",
       "86106.78        1\n",
       "144388.74       1\n",
       "156827.52       1\n",
       "80427.69        1\n",
       "195859.59       1\n",
       "97200.18        1\n",
       "65845.32        1\n",
       "130968.03       1\n",
       "19559.37        1\n",
       "147186.60       1\n",
       "102417.57       1\n",
       "79782.66        1\n",
       "75676.77        1\n",
       "238224.03       1\n",
       "167020.08       1\n",
       "127111.23       1\n",
       "70889.04        1\n",
       "94128.15        1\n",
       "106552.89       1\n",
       "Name: renta, Length: 520994, dtype: int64"
      ]
     },
     "execution_count": 48,
     "metadata": {},
     "output_type": "execute_result"
    }
   ],
   "source": [
    "train[\"renta\"].value_counts()"
   ]
  },
  {
   "cell_type": "markdown",
   "metadata": {},
   "source": [
    "#### Comment:\n",
    "renta(income) : \n",
    "- 수입, 실수형인데 중복되는 데이터가 5000개씩 되는가?\n",
    "- 아라님이 하신 EDA 부분을 봐야할 듯 "
   ]
  },
  {
   "cell_type": "markdown",
   "metadata": {},
   "source": [
    "## segmento"
   ]
  },
  {
   "cell_type": "code",
   "execution_count": 49,
   "metadata": {
    "scrolled": true
   },
   "outputs": [
    {
     "data": {
      "text/plain": [
       "02 - PARTICULARES     7960220\n",
       "03 - UNIVERSITARIO    4935579\n",
       "01 - TOP               562142\n",
       "Name: segmento, dtype: int64"
      ]
     },
     "execution_count": 49,
     "metadata": {},
     "output_type": "execute_result"
    }
   ],
   "source": [
    "train[\"segmento\"].value_counts()"
   ]
  },
  {
   "cell_type": "code",
   "execution_count": 50,
   "metadata": {},
   "outputs": [],
   "source": [
    "#숫자와 텍스트가 함께 있는 형태를 숫자로만 변환\n",
    "def func_for_segmento(x) :    \n",
    "    if type(x) != float :\n",
    "        if \"1\" in x :\n",
    "            result = 1\n",
    "        elif \"2\" in x :\n",
    "            result = 2\n",
    "        elif \"3\" in x :\n",
    "            result = 3\n",
    "    else : \n",
    "        result = None\n",
    "    return result"
   ]
  },
  {
   "cell_type": "code",
   "execution_count": 51,
   "metadata": {},
   "outputs": [],
   "source": [
    "train[\"segmento\"] = train[\"segmento\"].apply(func_for_segmento)"
   ]
  },
  {
   "cell_type": "code",
   "execution_count": 52,
   "metadata": {},
   "outputs": [
    {
     "data": {
      "text/plain": [
       "2.0    7960220\n",
       "3.0    4935579\n",
       "1.0     562142\n",
       "Name: segmento, dtype: int64"
      ]
     },
     "execution_count": 52,
     "metadata": {},
     "output_type": "execute_result"
    }
   ],
   "source": [
    "train[\"segmento\"].value_counts()"
   ]
  },
  {
   "cell_type": "markdown",
   "metadata": {},
   "source": [
    "#### Comment \n",
    "segmento(segment) : \n",
    "- 고객을 3가지로 구분"
   ]
  },
  {
   "cell_type": "markdown",
   "metadata": {},
   "source": [
    "## ind_ahor_fin_ult1"
   ]
  },
  {
   "cell_type": "code",
   "execution_count": 53,
   "metadata": {},
   "outputs": [
    {
     "data": {
      "text/plain": [
       "0    13645913\n",
       "1        1396\n",
       "Name: ind_ahor_fin_ult1, dtype: int64"
      ]
     },
     "execution_count": 53,
     "metadata": {},
     "output_type": "execute_result"
    }
   ],
   "source": [
    "train[\"ind_ahor_fin_ult1\"].value_counts()"
   ]
  },
  {
   "cell_type": "code",
   "execution_count": null,
   "metadata": {
    "collapsed": true
   },
   "outputs": [],
   "source": []
  },
  {
   "cell_type": "code",
   "execution_count": 54,
   "metadata": {},
   "outputs": [
    {
     "data": {
      "text/plain": [
       "0    13646993\n",
       "1         316\n",
       "Name: ind_aval_fin_ult1, dtype: int64"
      ]
     },
     "execution_count": 54,
     "metadata": {},
     "output_type": "execute_result"
    }
   ],
   "source": [
    "train[\"ind_aval_fin_ult1\"].value_counts()"
   ]
  }
 ],
 "metadata": {
  "kernelspec": {
   "display_name": "Python 3",
   "language": "python",
   "name": "python3"
  },
  "language_info": {
   "codemirror_mode": {
    "name": "ipython",
    "version": 3
   },
   "file_extension": ".py",
   "mimetype": "text/x-python",
   "name": "python",
   "nbconvert_exporter": "python",
   "pygments_lexer": "ipython3",
   "version": "3.6.3"
  }
 },
 "nbformat": 4,
 "nbformat_minor": 2
}
