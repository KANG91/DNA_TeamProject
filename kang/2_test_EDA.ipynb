{
 "cells": [
  {
   "cell_type": "markdown",
   "metadata": {},
   "source": [
    "# test data EDA\n",
    "\n",
    "- train 데이터와 test 데이터 비교"
   ]
  },
  {
   "cell_type": "code",
   "execution_count": 31,
   "metadata": {
    "collapsed": true
   },
   "outputs": [
    {
     "name": "stderr",
     "output_type": "stream",
     "text": [
      "/home/kang/anaconda3/lib/python3.6/site-packages/ipykernel_launcher.py:7: UserWarning: \n",
      "This call to matplotlib.use() has no effect because the backend has already\n",
      "been chosen; matplotlib.use() must be called *before* pylab, matplotlib.pyplot,\n",
      "or matplotlib.backends is imported for the first time.\n",
      "\n",
      "The backend was *originally* set to 'module://ipykernel.pylab.backend_inline' by the following code:\n",
      "  File \"/home/kang/anaconda3/lib/python3.6/runpy.py\", line 193, in _run_module_as_main\n",
      "    \"__main__\", mod_spec)\n",
      "  File \"/home/kang/anaconda3/lib/python3.6/runpy.py\", line 85, in _run_code\n",
      "    exec(code, run_globals)\n",
      "  File \"/home/kang/anaconda3/lib/python3.6/site-packages/ipykernel_launcher.py\", line 16, in <module>\n",
      "    app.launch_new_instance()\n",
      "  File \"/home/kang/anaconda3/lib/python3.6/site-packages/traitlets/config/application.py\", line 657, in launch_instance\n",
      "    app.initialize(argv)\n",
      "  File \"<decorator-gen-123>\", line 2, in initialize\n",
      "  File \"/home/kang/anaconda3/lib/python3.6/site-packages/traitlets/config/application.py\", line 87, in catch_config_error\n",
      "    return method(app, *args, **kwargs)\n",
      "  File \"/home/kang/anaconda3/lib/python3.6/site-packages/ipykernel/kernelapp.py\", line 462, in initialize\n",
      "    self.init_gui_pylab()\n",
      "  File \"/home/kang/anaconda3/lib/python3.6/site-packages/ipykernel/kernelapp.py\", line 403, in init_gui_pylab\n",
      "    InteractiveShellApp.init_gui_pylab(self)\n",
      "  File \"/home/kang/anaconda3/lib/python3.6/site-packages/IPython/core/shellapp.py\", line 207, in init_gui_pylab\n",
      "    r = enable(key)\n",
      "  File \"/home/kang/anaconda3/lib/python3.6/site-packages/IPython/core/interactiveshell.py\", line 2930, in enable_matplotlib\n",
      "    pt.activate_matplotlib(backend)\n",
      "  File \"/home/kang/anaconda3/lib/python3.6/site-packages/IPython/core/pylabtools.py\", line 307, in activate_matplotlib\n",
      "    matplotlib.pyplot.switch_backend(backend)\n",
      "  File \"/home/kang/anaconda3/lib/python3.6/site-packages/matplotlib/pyplot.py\", line 229, in switch_backend\n",
      "    matplotlib.use(newbackend, warn=False, force=True)\n",
      "  File \"/home/kang/anaconda3/lib/python3.6/site-packages/matplotlib/__init__.py\", line 1305, in use\n",
      "    reload(sys.modules['matplotlib.backends'])\n",
      "  File \"/home/kang/anaconda3/lib/python3.6/importlib/__init__.py\", line 166, in reload\n",
      "    _bootstrap._exec(spec, module)\n",
      "  File \"/home/kang/anaconda3/lib/python3.6/site-packages/matplotlib/backends/__init__.py\", line 14, in <module>\n",
      "    line for line in traceback.format_stack()\n",
      "\n",
      "\n",
      "  import sys\n",
      "/home/kang/anaconda3/lib/python3.6/site-packages/statsmodels/compat/pandas.py:56: FutureWarning: The pandas.core.datetools module is deprecated and will be removed in a future version. Please use the pandas.tseries module instead.\n",
      "  from pandas.core import datetools\n"
     ]
    }
   ],
   "source": [
    "import MySQLdb\n",
    "import numpy as np\n",
    "import pandas as pd\n",
    "import scipy as sp\n",
    "import sklearn as sk\n",
    "import matplotlib as mpl\n",
    "mpl.use('Agg')\n",
    "import matplotlib.pylab as plt\n",
    "from mpl_toolkits.mplot3d import Axes3D\n",
    "%matplotlib inline\n",
    "import seaborn as sns\n",
    "import statsmodels as sm\n",
    "import statsmodels.api"
   ]
  },
  {
   "cell_type": "code",
   "execution_count": 3,
   "metadata": {
    "collapsed": true
   },
   "outputs": [],
   "source": [
    "# write ubuntu test popular\n",
    "db = MySQLdb.connect(\n",
    "    \"13.125.205.254\",\n",
    "    \"user\",\n",
    "     \"1111\",\n",
    "    \"SPR\",\n",
    "    charset='utf8',\n",
    ")"
   ]
  },
  {
   "cell_type": "code",
   "execution_count": 4,
   "metadata": {
    "collapsed": true
   },
   "outputs": [],
   "source": [
    "# SQL_QUERY = \"\"\"\n",
    "#     SELECT *\n",
    "#     FROM spr_test_data;\n",
    "# \"\"\"\n",
    "# curs = db.cursor()\n",
    "# count = curs.execute(SQL_QUERY)\n",
    "# rows = curs.fetchall()\n",
    "\n",
    "# df = pd.read_sql(SQL_QUERY, db)"
   ]
  },
  {
   "cell_type": "code",
   "execution_count": 6,
   "metadata": {},
   "outputs": [],
   "source": [
    "df.to_csv(\"test_by_wk.csv\", index = False)"
   ]
  },
  {
   "cell_type": "code",
   "execution_count": 11,
   "metadata": {
    "collapsed": true
   },
   "outputs": [
    {
     "name": "stderr",
     "output_type": "stream",
     "text": [
      "/home/kang/anaconda3/lib/python3.6/site-packages/IPython/core/interactiveshell.py:2698: DtypeWarning: Columns (16) have mixed types. Specify dtype option on import or set low_memory=False.\n",
      "  interactivity=interactivity, compiler=compiler, result=result)\n"
     ]
    }
   ],
   "source": [
    "df = pd.read_csv(\"test_by_wk.csv\", )"
   ]
  },
  {
   "cell_type": "code",
   "execution_count": 13,
   "metadata": {},
   "outputs": [],
   "source": [
    "del df[\"index\"]"
   ]
  },
  {
   "cell_type": "code",
   "execution_count": 14,
   "metadata": {
    "scrolled": false
   },
   "outputs": [
    {
     "data": {
      "text/html": [
       "<div>\n",
       "<style>\n",
       "    .dataframe thead tr:only-child th {\n",
       "        text-align: right;\n",
       "    }\n",
       "\n",
       "    .dataframe thead th {\n",
       "        text-align: left;\n",
       "    }\n",
       "\n",
       "    .dataframe tbody tr th {\n",
       "        vertical-align: top;\n",
       "    }\n",
       "</style>\n",
       "<table border=\"1\" class=\"dataframe\">\n",
       "  <thead>\n",
       "    <tr style=\"text-align: right;\">\n",
       "      <th></th>\n",
       "      <th>fecha_dato</th>\n",
       "      <th>ncodpers</th>\n",
       "      <th>ind_empleado</th>\n",
       "      <th>pais_residencia</th>\n",
       "      <th>sexo</th>\n",
       "      <th>age</th>\n",
       "      <th>fecha_alta</th>\n",
       "      <th>ind_nuevo</th>\n",
       "      <th>antiguedad</th>\n",
       "      <th>indrel</th>\n",
       "      <th>...</th>\n",
       "      <th>indext</th>\n",
       "      <th>conyuemp</th>\n",
       "      <th>canal_entrada</th>\n",
       "      <th>indfall</th>\n",
       "      <th>tipodom</th>\n",
       "      <th>cod_prov</th>\n",
       "      <th>nomprov</th>\n",
       "      <th>ind_actividad_cliente</th>\n",
       "      <th>renta</th>\n",
       "      <th>segmento</th>\n",
       "    </tr>\n",
       "  </thead>\n",
       "  <tbody>\n",
       "    <tr>\n",
       "      <th>0</th>\n",
       "      <td>2016-06-28</td>\n",
       "      <td>15889</td>\n",
       "      <td>F</td>\n",
       "      <td>ES</td>\n",
       "      <td>V</td>\n",
       "      <td>56</td>\n",
       "      <td>1995-01-16</td>\n",
       "      <td>0</td>\n",
       "      <td>256</td>\n",
       "      <td>1</td>\n",
       "      <td>...</td>\n",
       "      <td>N</td>\n",
       "      <td>N</td>\n",
       "      <td>KAT</td>\n",
       "      <td>N</td>\n",
       "      <td>1</td>\n",
       "      <td>28.0</td>\n",
       "      <td>MADRID</td>\n",
       "      <td>1</td>\n",
       "      <td>326124.90</td>\n",
       "      <td>01-TOP</td>\n",
       "    </tr>\n",
       "    <tr>\n",
       "      <th>1</th>\n",
       "      <td>2016-06-28</td>\n",
       "      <td>1170544</td>\n",
       "      <td>N</td>\n",
       "      <td>ES</td>\n",
       "      <td>H</td>\n",
       "      <td>36</td>\n",
       "      <td>2013-08-28</td>\n",
       "      <td>0</td>\n",
       "      <td>34</td>\n",
       "      <td>1</td>\n",
       "      <td>...</td>\n",
       "      <td>N</td>\n",
       "      <td>NaN</td>\n",
       "      <td>KAT</td>\n",
       "      <td>N</td>\n",
       "      <td>1</td>\n",
       "      <td>3.0</td>\n",
       "      <td>ALICANTE</td>\n",
       "      <td>0</td>\n",
       "      <td>NaN</td>\n",
       "      <td>02-PARTICULARES</td>\n",
       "    </tr>\n",
       "    <tr>\n",
       "      <th>2</th>\n",
       "      <td>2016-06-28</td>\n",
       "      <td>1170545</td>\n",
       "      <td>N</td>\n",
       "      <td>ES</td>\n",
       "      <td>V</td>\n",
       "      <td>22</td>\n",
       "      <td>2013-08-28</td>\n",
       "      <td>0</td>\n",
       "      <td>34</td>\n",
       "      <td>1</td>\n",
       "      <td>...</td>\n",
       "      <td>N</td>\n",
       "      <td>NaN</td>\n",
       "      <td>KHE</td>\n",
       "      <td>N</td>\n",
       "      <td>1</td>\n",
       "      <td>15.0</td>\n",
       "      <td>CORUÑA, A</td>\n",
       "      <td>1</td>\n",
       "      <td>NaN</td>\n",
       "      <td>03-UNIVERSITARIO</td>\n",
       "    </tr>\n",
       "    <tr>\n",
       "      <th>3</th>\n",
       "      <td>2016-06-28</td>\n",
       "      <td>1170547</td>\n",
       "      <td>N</td>\n",
       "      <td>ES</td>\n",
       "      <td>H</td>\n",
       "      <td>22</td>\n",
       "      <td>2013-08-28</td>\n",
       "      <td>0</td>\n",
       "      <td>34</td>\n",
       "      <td>1</td>\n",
       "      <td>...</td>\n",
       "      <td>N</td>\n",
       "      <td>NaN</td>\n",
       "      <td>KHE</td>\n",
       "      <td>N</td>\n",
       "      <td>1</td>\n",
       "      <td>8.0</td>\n",
       "      <td>BARCELONA</td>\n",
       "      <td>0</td>\n",
       "      <td>148402.98</td>\n",
       "      <td>03-UNIVERSITARIO</td>\n",
       "    </tr>\n",
       "    <tr>\n",
       "      <th>4</th>\n",
       "      <td>2016-06-28</td>\n",
       "      <td>1170548</td>\n",
       "      <td>N</td>\n",
       "      <td>ES</td>\n",
       "      <td>H</td>\n",
       "      <td>22</td>\n",
       "      <td>2013-08-28</td>\n",
       "      <td>0</td>\n",
       "      <td>34</td>\n",
       "      <td>1</td>\n",
       "      <td>...</td>\n",
       "      <td>N</td>\n",
       "      <td>NaN</td>\n",
       "      <td>KHE</td>\n",
       "      <td>N</td>\n",
       "      <td>1</td>\n",
       "      <td>7.0</td>\n",
       "      <td>BALEARS, ILLES</td>\n",
       "      <td>0</td>\n",
       "      <td>106885.80</td>\n",
       "      <td>03-UNIVERSITARIO</td>\n",
       "    </tr>\n",
       "  </tbody>\n",
       "</table>\n",
       "<p>5 rows × 24 columns</p>\n",
       "</div>"
      ],
      "text/plain": [
       "   fecha_dato  ncodpers ind_empleado pais_residencia sexo  age  fecha_alta  \\\n",
       "0  2016-06-28     15889            F              ES    V   56  1995-01-16   \n",
       "1  2016-06-28   1170544            N              ES    H   36  2013-08-28   \n",
       "2  2016-06-28   1170545            N              ES    V   22  2013-08-28   \n",
       "3  2016-06-28   1170547            N              ES    H   22  2013-08-28   \n",
       "4  2016-06-28   1170548            N              ES    H   22  2013-08-28   \n",
       "\n",
       "   ind_nuevo  antiguedad  indrel        ...        indext  conyuemp  \\\n",
       "0          0         256       1        ...             N         N   \n",
       "1          0          34       1        ...             N       NaN   \n",
       "2          0          34       1        ...             N       NaN   \n",
       "3          0          34       1        ...             N       NaN   \n",
       "4          0          34       1        ...             N       NaN   \n",
       "\n",
       "  canal_entrada indfall tipodom cod_prov         nomprov  \\\n",
       "0           KAT       N       1     28.0          MADRID   \n",
       "1           KAT       N       1      3.0        ALICANTE   \n",
       "2           KHE       N       1     15.0       CORUÑA, A   \n",
       "3           KHE       N       1      8.0       BARCELONA   \n",
       "4           KHE       N       1      7.0  BALEARS, ILLES   \n",
       "\n",
       "  ind_actividad_cliente      renta          segmento  \n",
       "0                     1  326124.90            01-TOP  \n",
       "1                     0        NaN   02-PARTICULARES  \n",
       "2                     1        NaN  03-UNIVERSITARIO  \n",
       "3                     0  148402.98  03-UNIVERSITARIO  \n",
       "4                     0  106885.80  03-UNIVERSITARIO  \n",
       "\n",
       "[5 rows x 24 columns]"
      ]
     },
     "execution_count": 14,
     "metadata": {},
     "output_type": "execute_result"
    }
   ],
   "source": [
    "df.head()"
   ]
  },
  {
   "cell_type": "code",
   "execution_count": 62,
   "metadata": {},
   "outputs": [
    {
     "data": {
      "text/plain": [
       "fecha_dato                    0\n",
       "ncodpers                      0\n",
       "ind_empleado                  0\n",
       "pais_residencia               0\n",
       "sexo                          5\n",
       "age                           0\n",
       "fecha_alta                    0\n",
       "ind_nuevo                     0\n",
       "antiguedad                    0\n",
       "indrel                        0\n",
       "ult_fec_cli_1t           927932\n",
       "indrel_1mes                  23\n",
       "tiprel_1mes                  23\n",
       "indresi                       0\n",
       "indext                        0\n",
       "conyuemp                 929511\n",
       "canal_entrada              2081\n",
       "indfall                       0\n",
       "tipodom                       0\n",
       "cod_prov                   3996\n",
       "nomprov                    3996\n",
       "ind_actividad_cliente         0\n",
       "renta                    227965\n",
       "segmento                   2248\n",
       "dtype: int64"
      ]
     },
     "execution_count": 62,
     "metadata": {},
     "output_type": "execute_result"
    }
   ],
   "source": [
    "df.isnull().sum()"
   ]
  },
  {
   "cell_type": "markdown",
   "metadata": {},
   "source": [
    "## fecha_dato"
   ]
  },
  {
   "cell_type": "code",
   "execution_count": 16,
   "metadata": {},
   "outputs": [
    {
     "data": {
      "text/plain": [
       "2016-06-28    929615\n",
       "Name: fecha_dato, dtype: int64"
      ]
     },
     "execution_count": 16,
     "metadata": {},
     "output_type": "execute_result"
    }
   ],
   "source": [
    "df[\"fecha_dato\"].value_counts()"
   ]
  },
  {
   "cell_type": "markdown",
   "metadata": {},
   "source": [
    "#### Comment\n",
    "fecha_dato : \n",
    "- 6월 28일 데이터만 존재"
   ]
  },
  {
   "cell_type": "markdown",
   "metadata": {},
   "source": [
    "## ncodpers"
   ]
  },
  {
   "cell_type": "code",
   "execution_count": 17,
   "metadata": {
    "scrolled": true
   },
   "outputs": [
    {
     "data": {
      "text/plain": [
       "18423      1\n",
       "1382391    1\n",
       "733232     1\n",
       "772143     1\n",
       "780331     1\n",
       "778282     1\n",
       "763939     1\n",
       "768033     1\n",
       "765984     1\n",
       "673823     1\n",
       "671774     1\n",
       "682011     1\n",
       "679962     1\n",
       "686105     1\n",
       "684056     1\n",
       "657431     1\n",
       "659476     1\n",
       "704526     1\n",
       "718857     1\n",
       "698371     1\n",
       "702465     1\n",
       "1400830    1\n",
       "1394685    1\n",
       "1396732    1\n",
       "1406971    1\n",
       "1409018    1\n",
       "1402873    1\n",
       "735281     1\n",
       "729138     1\n",
       "725044     1\n",
       "          ..\n",
       "860942     1\n",
       "983882     1\n",
       "996172     1\n",
       "971632     1\n",
       "1026911    1\n",
       "928623     1\n",
       "926574     1\n",
       "930668     1\n",
       "920427     1\n",
       "918378     1\n",
       "924521     1\n",
       "922472     1\n",
       "942950     1\n",
       "949093     1\n",
       "940897     1\n",
       "938848     1\n",
       "1024862    1\n",
       "998221     1\n",
       "1031005    1\n",
       "1018715    1\n",
       "1016666    1\n",
       "1022809    1\n",
       "1020760    1\n",
       "1043287    1\n",
       "1041238    1\n",
       "1045332    1\n",
       "1035091    1\n",
       "1037136    1\n",
       "994127     1\n",
       "26637      1\n",
       "Name: ncodpers, Length: 929615, dtype: int64"
      ]
     },
     "execution_count": 17,
     "metadata": {},
     "output_type": "execute_result"
    }
   ],
   "source": [
    "df[\"ncodpers\"].value_counts()"
   ]
  },
  {
   "cell_type": "markdown",
   "metadata": {},
   "source": [
    "#### Comment :\n",
    "ncodpers :\n",
    "- 중복없음"
   ]
  },
  {
   "cell_type": "markdown",
   "metadata": {},
   "source": [
    "## ind_empleado"
   ]
  },
  {
   "cell_type": "code",
   "execution_count": 18,
   "metadata": {},
   "outputs": [
    {
     "data": {
      "text/plain": [
       "N    929096\n",
       "B       218\n",
       "F       152\n",
       "A       148\n",
       "S         1\n",
       "Name: ind_empleado, dtype: int64"
      ]
     },
     "execution_count": 18,
     "metadata": {},
     "output_type": "execute_result"
    }
   ],
   "source": [
    "df[\"ind_empleado\"].value_counts()"
   ]
  },
  {
   "cell_type": "markdown",
   "metadata": {},
   "source": [
    "#### Comment \n",
    "ind_empleado : \n",
    "- train 데이터와 유사"
   ]
  },
  {
   "cell_type": "code",
   "execution_count": 24,
   "metadata": {
    "scrolled": true
   },
   "outputs": [
    {
     "data": {
      "text/plain": [
       "ES    925619\n",
       "FR       311\n",
       "AR       288\n",
       "GB       286\n",
       "DE       281\n",
       "US       231\n",
       "CO       211\n",
       "IT       179\n",
       "RO       175\n",
       "MX       156\n",
       "BR       141\n",
       "VE       136\n",
       "EC       130\n",
       "CH       124\n",
       "BE        93\n",
       "BO        93\n",
       "PT        90\n",
       "PY        87\n",
       "CL        59\n",
       "PE        54\n",
       "NL        47\n",
       "RU        45\n",
       "CU        44\n",
       "PL        38\n",
       "SE        37\n",
       "CN        33\n",
       "UY        30\n",
       "UA        29\n",
       "AT        29\n",
       "BG        28\n",
       "       ...  \n",
       "ET         2\n",
       "TW         2\n",
       "GW         2\n",
       "CG         2\n",
       "PH         2\n",
       "BA         2\n",
       "SL         1\n",
       "GI         1\n",
       "IS         1\n",
       "MT         1\n",
       "CD         1\n",
       "MM         1\n",
       "DJ         1\n",
       "BM         1\n",
       "TN         1\n",
       "ML         1\n",
       "BZ         1\n",
       "TG         1\n",
       "KZ         1\n",
       "GE         1\n",
       "CF         1\n",
       "GH         1\n",
       "GM         1\n",
       "LB         1\n",
       "LY         1\n",
       "AL         1\n",
       "KW         1\n",
       "ZW         1\n",
       "KH         1\n",
       "LV         1\n",
       "Name: pais_residencia, Length: 118, dtype: int64"
      ]
     },
     "execution_count": 24,
     "metadata": {},
     "output_type": "execute_result"
    }
   ],
   "source": [
    "df[df.columns[3]].value_counts()"
   ]
  },
  {
   "cell_type": "markdown",
   "metadata": {},
   "source": [
    "#### Comment : \n",
    "ind_empleado :\n",
    "- train 데이터와 유사"
   ]
  },
  {
   "cell_type": "markdown",
   "metadata": {},
   "source": [
    "## sexo"
   ]
  },
  {
   "cell_type": "code",
   "execution_count": 25,
   "metadata": {
    "scrolled": true
   },
   "outputs": [
    {
     "data": {
      "text/plain": [
       "V    504515\n",
       "H    425095\n",
       "Name: sexo, dtype: int64"
      ]
     },
     "execution_count": 25,
     "metadata": {},
     "output_type": "execute_result"
    }
   ],
   "source": [
    "df[df.columns[4]].value_counts()"
   ]
  },
  {
   "cell_type": "markdown",
   "metadata": {},
   "source": [
    "#### Comment : \n",
    "sexo :\n",
    "- V가 더 많음 -> train과 유사"
   ]
  },
  {
   "cell_type": "markdown",
   "metadata": {},
   "source": [
    "## age"
   ]
  },
  {
   "cell_type": "code",
   "execution_count": 29,
   "metadata": {
    "scrolled": true
   },
   "outputs": [
    {
     "data": {
      "text/plain": [
       "24     50706\n",
       "23     49604\n",
       "22     47674\n",
       "21     46322\n",
       "25     41429\n",
       "26     26672\n",
       "43     21592\n",
       "20     21509\n",
       "44     21242\n",
       "45     21132\n",
       "27     21095\n",
       "42     20843\n",
       "46     20450\n",
       "41     20252\n",
       "47     19285\n",
       "48     18672\n",
       "40     18368\n",
       "28     17755\n",
       "49     17365\n",
       "39     16637\n",
       "50     16086\n",
       "29     15496\n",
       "51     15253\n",
       "38     15181\n",
       "52     14416\n",
       "37     14327\n",
       "53     13630\n",
       "30     13587\n",
       "36     13214\n",
       "54     12888\n",
       "       ...  \n",
       "98       376\n",
       "9        338\n",
       "8        281\n",
       "99       261\n",
       "100      246\n",
       "7        239\n",
       "6        232\n",
       "101      197\n",
       "5        191\n",
       "102      165\n",
       "103      151\n",
       "4        132\n",
       "104      120\n",
       "3        114\n",
       "105       90\n",
       "106       72\n",
       "107       52\n",
       "2         47\n",
       "108       38\n",
       "109       26\n",
       "110       20\n",
       "111       17\n",
       "112       16\n",
       "113       10\n",
       "116        7\n",
       "114        6\n",
       "127        1\n",
       "117        1\n",
       "118        1\n",
       "164        1\n",
       "Name: age, Length: 118, dtype: int64"
      ]
     },
     "execution_count": 29,
     "metadata": {},
     "output_type": "execute_result"
    }
   ],
   "source": [
    "df[df.columns[5]].value_counts()"
   ]
  },
  {
   "cell_type": "code",
   "execution_count": 35,
   "metadata": {},
   "outputs": [
    {
     "data": {
      "text/plain": [
       "(array([  0,   1,   2,   3,   4,   5,   6,   7,   8,   9,  10,  11,  12,\n",
       "         13,  14,  15,  16,  17,  18,  19,  20,  21,  22,  23,  24,  25,\n",
       "         26,  27,  28,  29,  30,  31,  32,  33,  34,  35,  36,  37,  38,\n",
       "         39,  40,  41,  42,  43,  44,  45,  46,  47,  48,  49,  50,  51,\n",
       "         52,  53,  54,  55,  56,  57,  58,  59,  60,  61,  62,  63,  64,\n",
       "         65,  66,  67,  68,  69,  70,  71,  72,  73,  74,  75,  76,  77,\n",
       "         78,  79,  80,  81,  82,  83,  84,  85,  86,  87,  88,  89,  90,\n",
       "         91,  92,  93,  94,  95,  96,  97,  98,  99, 100, 101, 102, 103,\n",
       "        104, 105, 106, 107, 108, 109, 110, 111, 112, 113, 114, 115, 116, 117]),\n",
       " <a list of 118 Text xticklabel objects>)"
      ]
     },
     "execution_count": 35,
     "metadata": {},
     "output_type": "execute_result"
    },
    {
     "data": {
      "image/png": "[encoded data removed]",
      "text/plain": [
       "<matplotlib.figure.Figure at 0x7fe36a545b70>"
      ]
     },
     "metadata": {
      "image/png": {
       "height": 599,
       "width": 1184
      }
     },
     "output_type": "display_data"
    }
   ],
   "source": [
    "plt.figure(figsize=(20,10))\n",
    "ax = sns.countplot(x='age', data=df, order=df['age'].value_counts().index)\n",
    "plt.xticks(rotation=90)"
   ]
  },
  {
   "cell_type": "markdown",
   "metadata": {},
   "source": [
    "#### Comment \n",
    "age : \n",
    "- train과 유사"
   ]
  },
  {
   "cell_type": "markdown",
   "metadata": {},
   "source": [
    "## fecha_alta"
   ]
  },
  {
   "cell_type": "code",
   "execution_count": 37,
   "metadata": {
    "scrolled": true
   },
   "outputs": [
    {
     "data": {
      "text/plain": [
       "2014-07-28    3421\n",
       "2014-10-03    3355\n",
       "2014-08-04    2787\n",
       "2013-10-14    2633\n",
       "2013-08-03    2013\n",
       "2015-08-01    1826\n",
       "2015-07-25    1773\n",
       "2015-10-10    1728\n",
       "2012-08-06    1594\n",
       "2014-07-21    1577\n",
       "2012-08-03    1537\n",
       "2012-08-02    1514\n",
       "2013-10-11    1509\n",
       "2015-10-19    1457\n",
       "2015-09-16    1436\n",
       "2013-08-10    1431\n",
       "2015-09-23    1418\n",
       "2015-09-15    1403\n",
       "2015-10-09    1399\n",
       "2014-09-17    1396\n",
       "2014-08-06    1393\n",
       "2014-09-24    1388\n",
       "2012-08-01    1383\n",
       "2015-09-21    1374\n",
       "2014-07-30    1364\n",
       "2015-07-21    1354\n",
       "2012-08-09    1346\n",
       "2015-09-22    1345\n",
       "2013-07-22    1337\n",
       "2012-08-07    1335\n",
       "              ... \n",
       "2011-08-28       1\n",
       "2013-11-03       1\n",
       "2010-12-08       1\n",
       "1997-09-09       1\n",
       "2011-09-18       1\n",
       "1995-04-12       1\n",
       "2012-04-29       1\n",
       "1995-04-23       1\n",
       "2013-01-26       1\n",
       "2014-06-22       1\n",
       "2014-09-06       1\n",
       "2010-12-18       1\n",
       "2011-04-22       1\n",
       "2010-10-31       1\n",
       "2013-01-01       1\n",
       "2014-11-02       1\n",
       "2013-09-21       1\n",
       "2014-08-10       1\n",
       "2013-06-09       1\n",
       "2014-06-21       1\n",
       "2013-05-11       1\n",
       "1995-02-15       1\n",
       "2012-04-08       1\n",
       "2012-03-17       1\n",
       "2010-12-12       1\n",
       "2014-08-09       1\n",
       "2012-01-01       1\n",
       "2012-06-16       1\n",
       "2011-03-12       1\n",
       "2015-06-06       1\n",
       "Name: fecha_alta, Length: 6750, dtype: int64"
      ]
     },
     "execution_count": 37,
     "metadata": {},
     "output_type": "execute_result"
    }
   ],
   "source": [
    "df[df.columns[6]].value_counts()"
   ]
  },
  {
   "cell_type": "markdown",
   "metadata": {},
   "source": [
    "#### Comment : \n",
    "fecha_alta : \n",
    "- train과 유사"
   ]
  },
  {
   "cell_type": "markdown",
   "metadata": {},
   "source": [
    "## ind_nuevo"
   ]
  },
  {
   "cell_type": "code",
   "execution_count": 39,
   "metadata": {},
   "outputs": [
    {
     "data": {
      "text/plain": [
       "0    903726\n",
       "1     25889\n",
       "Name: ind_nuevo, dtype: int64"
      ]
     },
     "execution_count": 39,
     "metadata": {},
     "output_type": "execute_result"
    }
   ],
   "source": [
    "df[df.columns[7]].value_counts()"
   ]
  },
  {
   "cell_type": "markdown",
   "metadata": {},
   "source": [
    "#### Comment : \n",
    "ind_nuevo : \n",
    "- 최근 6개월간 신규 가입자\n",
    "- 0이 다수, train과 유사"
   ]
  },
  {
   "cell_type": "markdown",
   "metadata": {},
   "source": [
    "## antiguedad"
   ]
  },
  {
   "cell_type": "code",
   "execution_count": 40,
   "metadata": {
    "scrolled": true
   },
   "outputs": [
    {
     "data": {
      "text/plain": [
       " 8         26335\n",
       " 32        23415\n",
       " 9         22972\n",
       " 20        21108\n",
       " 11        20420\n",
       " 44        18531\n",
       " 21        17923\n",
       " 56        16238\n",
       " 23        15940\n",
       " 34        15559\n",
       " 19        15137\n",
       " 55        14530\n",
       " 43        13959\n",
       " 7         13932\n",
       " 46        13587\n",
       " 47        13434\n",
       " 45        13428\n",
       " 31        13225\n",
       " 33        12710\n",
       " 57        12156\n",
       " 35        11379\n",
       " 22         9970\n",
       " 10         9944\n",
       " 58         9489\n",
       " 54         9369\n",
       " 18         8625\n",
       " 59         7047\n",
       " 5          6762\n",
       " 175        6244\n",
       " 4          6124\n",
       "           ...  \n",
       " 84          806\n",
       " 230         800\n",
       " 229         800\n",
       " 225         772\n",
       " 245         761\n",
       " 78          760\n",
       " 246         722\n",
       " 240         711\n",
       " 239         706\n",
       " 85          702\n",
       " 86          674\n",
       " 226         668\n",
       " 249         631\n",
       " 243         604\n",
       " 247         599\n",
       " 214         542\n",
       " 244         512\n",
       " 241         504\n",
       " 237         459\n",
       " 252         443\n",
       " 251         419\n",
       " 238         325\n",
       " 253         244\n",
       " 250         191\n",
       " 254         152\n",
       " 0           129\n",
       " 257         102\n",
       " 255          84\n",
       " 256          77\n",
       "-999999        3\n",
       "Name: antiguedad, Length: 259, dtype: int64"
      ]
     },
     "execution_count": 40,
     "metadata": {},
     "output_type": "execute_result"
    }
   ],
   "source": [
    "df[df.columns[8]].value_counts()"
   ]
  },
  {
   "cell_type": "code",
   "execution_count": 42,
   "metadata": {},
   "outputs": [
    {
     "data": {
      "text/plain": [
       "(array([  0,   1,   2,   3,   4,   5,   6,   7,   8,   9,  10,  11,  12,\n",
       "         13,  14,  15,  16,  17,  18,  19,  20,  21,  22,  23,  24,  25,\n",
       "         26,  27,  28,  29,  30,  31,  32,  33,  34,  35,  36,  37,  38,\n",
       "         39,  40,  41,  42,  43,  44,  45,  46,  47,  48,  49,  50,  51,\n",
       "         52,  53,  54,  55,  56,  57,  58,  59,  60,  61,  62,  63,  64,\n",
       "         65,  66,  67,  68,  69,  70,  71,  72,  73,  74,  75,  76,  77,\n",
       "         78,  79,  80,  81,  82,  83,  84,  85,  86,  87,  88,  89,  90,\n",
       "         91,  92,  93,  94,  95,  96,  97,  98,  99, 100, 101, 102, 103,\n",
       "        104, 105, 106, 107, 108, 109, 110, 111, 112, 113, 114, 115, 116,\n",
       "        117, 118, 119, 120, 121, 122, 123, 124, 125, 126, 127, 128, 129,\n",
       "        130, 131, 132, 133, 134, 135, 136, 137, 138, 139, 140, 141, 142,\n",
       "        143, 144, 145, 146, 147, 148, 149, 150, 151, 152, 153, 154, 155,\n",
       "        156, 157, 158, 159, 160, 161, 162, 163, 164, 165, 166, 167, 168,\n",
       "        169, 170, 171, 172, 173, 174, 175, 176, 177, 178, 179, 180, 181,\n",
       "        182, 183, 184, 185, 186, 187, 188, 189, 190, 191, 192, 193, 194,\n",
       "        195, 196, 197, 198, 199, 200, 201, 202, 203, 204, 205, 206, 207,\n",
       "        208, 209, 210, 211, 212, 213, 214, 215, 216, 217, 218, 219, 220,\n",
       "        221, 222, 223, 224, 225, 226, 227, 228, 229, 230, 231, 232, 233,\n",
       "        234, 235, 236, 237, 238, 239, 240, 241, 242, 243, 244, 245, 246,\n",
       "        247, 248, 249, 250, 251, 252, 253, 254, 255, 256, 257, 258]),\n",
       " <a list of 259 Text xticklabel objects>)"
      ]
     },
     "execution_count": 42,
     "metadata": {},
     "output_type": "execute_result"
    },
    {
     "data": {
      "image/png": "[encoded data removed]",
      "text/plain": [
       "<matplotlib.figure.Figure at 0x7fe36a1d5c88>"
      ]
     },
     "metadata": {
      "image/png": {
       "height": 622,
       "width": 1464
      }
     },
     "output_type": "display_data"
    }
   ],
   "source": [
    "plt.figure(figsize=(25,10))\n",
    "ax = sns.countplot(x='antiguedad', data=df)\n",
    "plt.xticks(rotation=90)"
   ]
  },
  {
   "cell_type": "markdown",
   "metadata": {},
   "source": [
    "#### Comment  \n",
    "antiguedad : \n",
    "- 고객 연공서열\n",
    "- train과 유사"
   ]
  },
  {
   "cell_type": "markdown",
   "metadata": {},
   "source": [
    "## indrel"
   ]
  },
  {
   "cell_type": "code",
   "execution_count": 44,
   "metadata": {},
   "outputs": [
    {
     "data": {
      "text/plain": [
       "1     927932\n",
       "99      1683\n",
       "Name: indrel, dtype: int64"
      ]
     },
     "execution_count": 44,
     "metadata": {},
     "output_type": "execute_result"
    }
   ],
   "source": [
    "df[df.columns[9]].value_counts()"
   ]
  },
  {
   "cell_type": "markdown",
   "metadata": {},
   "source": [
    "#### Comment  \n",
    "indrel : \n",
    "- 주고객층 여부\n",
    "- train과 유사\n"
   ]
  },
  {
   "cell_type": "code",
   "execution_count": 47,
   "metadata": {},
   "outputs": [
    {
     "data": {
      "text/plain": [
       "Index(['fecha_dato', 'ncodpers', 'ind_empleado', 'pais_residencia', 'sexo',\n",
       "       'age', 'fecha_alta', 'ind_nuevo', 'antiguedad', 'indrel',\n",
       "       'ult_fec_cli_1t', 'indrel_1mes', 'tiprel_1mes', 'indresi', 'indext',\n",
       "       'conyuemp', 'canal_entrada', 'indfall', 'tipodom', 'cod_prov',\n",
       "       'nomprov', 'ind_actividad_cliente', 'renta', 'segmento'],\n",
       "      dtype='object')"
      ]
     },
     "execution_count": 47,
     "metadata": {},
     "output_type": "execute_result"
    }
   ],
   "source": [
    "df.columns"
   ]
  },
  {
   "cell_type": "markdown",
   "metadata": {},
   "source": [
    "## ult_fec_cli_1t"
   ]
  },
  {
   "cell_type": "code",
   "execution_count": 45,
   "metadata": {
    "scrolled": true
   },
   "outputs": [
    {
     "data": {
      "text/plain": [
       "2016-06-01    138\n",
       "2016-06-10    133\n",
       "2016-06-03    110\n",
       "2016-06-07    102\n",
       "2016-06-06    101\n",
       "2016-06-20     84\n",
       "2016-06-13     84\n",
       "2016-06-17     78\n",
       "2016-06-15     78\n",
       "2016-06-23     78\n",
       "2016-06-14     76\n",
       "2016-06-02     75\n",
       "2016-06-09     75\n",
       "2016-06-22     72\n",
       "2016-06-21     70\n",
       "2016-06-24     64\n",
       "2016-06-16     62\n",
       "2016-06-08     60\n",
       "2016-06-27     58\n",
       "2016-06-28     49\n",
       "2016-06-29     36\n",
       "Name: ult_fec_cli_1t, dtype: int64"
      ]
     },
     "execution_count": 45,
     "metadata": {},
     "output_type": "execute_result"
    }
   ],
   "source": [
    "df[df.columns[10]].value_counts()"
   ]
  },
  {
   "cell_type": "code",
   "execution_count": 49,
   "metadata": {},
   "outputs": [
    {
     "data": {
      "text/plain": [
       "927932"
      ]
     },
     "execution_count": 49,
     "metadata": {},
     "output_type": "execute_result"
    }
   ],
   "source": [
    "df[\"ult_fec_cli_1t\"].isnull().sum()"
   ]
  },
  {
   "cell_type": "markdown",
   "metadata": {},
   "source": [
    "#### Comment  \n",
    "ult_fec_cli_1t :\n",
    "- 주고객층이었던 마지막 날짜\n",
    "- train과 유사, ** 대부분이 null **"
   ]
  },
  {
   "cell_type": "markdown",
   "metadata": {},
   "source": [
    "## indrel_1mes"
   ]
  },
  {
   "cell_type": "code",
   "execution_count": 52,
   "metadata": {
    "scrolled": true
   },
   "outputs": [
    {
     "data": {
      "text/plain": [
       "1.0    929565\n",
       "3.0        27\n",
       "Name: indrel_1mes, dtype: int64"
      ]
     },
     "execution_count": 52,
     "metadata": {},
     "output_type": "execute_result"
    }
   ],
   "source": [
    "df[df.columns[11]].value_counts()"
   ]
  },
  {
   "cell_type": "markdown",
   "metadata": {},
   "source": [
    "#### Comment  \n",
    "indrel_1mes :\n",
    "- 고객 타입\n",
    "- ** 1, 3만 존재, train은 1,2,3,4, P 전부 존재 **"
   ]
  },
  {
   "cell_type": "markdown",
   "metadata": {},
   "source": [
    "## tiprel_1mes"
   ]
  },
  {
   "cell_type": "code",
   "execution_count": 54,
   "metadata": {},
   "outputs": [
    {
     "data": {
      "text/plain": [
       "I    535943\n",
       "A    393622\n",
       "P        27\n",
       "Name: tiprel_1mes, dtype: int64"
      ]
     },
     "execution_count": 54,
     "metadata": {},
     "output_type": "execute_result"
    }
   ],
   "source": [
    "df[df.columns[12]].value_counts()"
   ]
  },
  {
   "cell_type": "markdown",
   "metadata": {},
   "source": [
    "#### Comment  \n",
    "tiprel_1mes :\n",
    "- 월초 고객 타입\n",
    "- ** R, N이 사라짐 **"
   ]
  },
  {
   "cell_type": "markdown",
   "metadata": {},
   "source": [
    "## indresi"
   ]
  },
  {
   "cell_type": "code",
   "execution_count": 55,
   "metadata": {
    "scrolled": true
   },
   "outputs": [
    {
     "data": {
      "text/plain": [
       "S    925620\n",
       "N      3995\n",
       "Name: indresi, dtype: int64"
      ]
     },
     "execution_count": 55,
     "metadata": {},
     "output_type": "execute_result"
    }
   ],
   "source": [
    "df[df.columns[13]].value_counts()"
   ]
  },
  {
   "cell_type": "markdown",
   "metadata": {},
   "source": [
    "#### Comment  \n",
    "indresi :\n",
    "- train과 유사"
   ]
  },
  {
   "cell_type": "markdown",
   "metadata": {},
   "source": [
    "## indext"
   ]
  },
  {
   "cell_type": "code",
   "execution_count": 56,
   "metadata": {
    "scrolled": true
   },
   "outputs": [
    {
     "data": {
      "text/plain": [
       "N    883548\n",
       "S     46067\n",
       "Name: indext, dtype: int64"
      ]
     },
     "execution_count": 56,
     "metadata": {},
     "output_type": "execute_result"
    }
   ],
   "source": [
    "df[df.columns[14]].value_counts()"
   ]
  },
  {
   "cell_type": "markdown",
   "metadata": {},
   "source": [
    "#### Comment  \n",
    "indext :\n",
    "- train과 유사"
   ]
  },
  {
   "cell_type": "markdown",
   "metadata": {},
   "source": [
    "## conyuemp"
   ]
  },
  {
   "cell_type": "code",
   "execution_count": 57,
   "metadata": {
    "scrolled": true
   },
   "outputs": [
    {
     "data": {
      "text/plain": [
       "N    103\n",
       "S      1\n",
       "Name: conyuemp, dtype: int64"
      ]
     },
     "execution_count": 57,
     "metadata": {},
     "output_type": "execute_result"
    }
   ],
   "source": [
    "df[df.columns[15]].value_counts()"
   ]
  },
  {
   "cell_type": "markdown",
   "metadata": {},
   "source": [
    "#### Comment  \n",
    "conyuemp :\n",
    "- train과 유사, ** 대부분이 null **"
   ]
  },
  {
   "cell_type": "markdown",
   "metadata": {},
   "source": [
    "## canal_entrada"
   ]
  },
  {
   "cell_type": "code",
   "execution_count": 58,
   "metadata": {
    "scrolled": true
   },
   "outputs": [
    {
     "data": {
      "text/plain": [
       "KHE    251665\n",
       "KAT    205833\n",
       "KFC    200697\n",
       "KHQ     74969\n",
       "KHM     33384\n",
       "KFA     25653\n",
       "KHN     18131\n",
       "KHK     16918\n",
       "KHD      7390\n",
       "RED      6328\n",
       "KAS      5584\n",
       "KAG      4663\n",
       "KAY      4441\n",
       "KAA      4295\n",
       "KAB      4014\n",
       "KAE      3293\n",
       "KCC      3119\n",
       "KBZ      3009\n",
       "KFD      2951\n",
       "KHL      2948\n",
       "KAI      2428\n",
       "KEY      2273\n",
       "KAW      2206\n",
       "007      2197\n",
       "KAZ      2139\n",
       "KAR      2136\n",
       "KAF      1913\n",
       "KCI      1777\n",
       "KAJ      1670\n",
       "013      1659\n",
       "        ...  \n",
       "KAU        15\n",
       "KDH        13\n",
       "KDN        13\n",
       "KCJ        13\n",
       "KCO        13\n",
       "KCQ        12\n",
       "KEE        11\n",
       "KCP        10\n",
       "KEQ        10\n",
       "K00        10\n",
       "KCR        10\n",
       "KBE         9\n",
       "KCT         9\n",
       "KFB         7\n",
       "KBX         6\n",
       "KAV         6\n",
       "KFV         5\n",
       "KBN         5\n",
       "KBP         5\n",
       "KCX         5\n",
       "KEM         4\n",
       "KHA         3\n",
       "KGU         2\n",
       "KGC         2\n",
       "KGN         1\n",
       "025         1\n",
       "KDI         1\n",
       "KDB         1\n",
       "KDL         1\n",
       "KHR         1\n",
       "Name: canal_entrada, Length: 162, dtype: int64"
      ]
     },
     "execution_count": 58,
     "metadata": {},
     "output_type": "execute_result"
    }
   ],
   "source": [
    "df[df.columns[16]].value_counts()"
   ]
  },
  {
   "cell_type": "markdown",
   "metadata": {},
   "source": [
    "#### Comment  \n",
    "canal_entrada :\n",
    "- train과 유사"
   ]
  },
  {
   "cell_type": "markdown",
   "metadata": {},
   "source": [
    "## indfall"
   ]
  },
  {
   "cell_type": "code",
   "execution_count": 60,
   "metadata": {},
   "outputs": [
    {
     "data": {
      "text/plain": [
       "N    927215\n",
       "S      2400\n",
       "Name: indfall, dtype: int64"
      ]
     },
     "execution_count": 60,
     "metadata": {},
     "output_type": "execute_result"
    }
   ],
   "source": [
    "df[df.columns[17]].value_counts()"
   ]
  },
  {
   "cell_type": "markdown",
   "metadata": {},
   "source": [
    "#### Comment  \n",
    "indfall :\n",
    "- train과 유사"
   ]
  },
  {
   "cell_type": "code",
   "execution_count": 61,
   "metadata": {},
   "outputs": [
    {
     "data": {
      "text/plain": [
       "1    929615\n",
       "Name: tipodom, dtype: int64"
      ]
     },
     "execution_count": 61,
     "metadata": {},
     "output_type": "execute_result"
    }
   ],
   "source": [
    "df[df.columns[18]].value_counts()"
   ]
  },
  {
   "cell_type": "code",
   "execution_count": null,
   "metadata": {
    "collapsed": true
   },
   "outputs": [],
   "source": []
  }
 ],
 "metadata": {
  "kernelspec": {
   "display_name": "Python 3",
   "language": "python",
   "name": "python3"
  },
  "language_info": {
   "codemirror_mode": {
    "name": "ipython",
    "version": 3
   },
   "file_extension": ".py",
   "mimetype": "text/x-python",
   "name": "python",
   "nbconvert_exporter": "python",
   "pygments_lexer": "ipython3",
   "version": "3.6.3"
  }
 },
 "nbformat": 4,
 "nbformat_minor": 2
}
