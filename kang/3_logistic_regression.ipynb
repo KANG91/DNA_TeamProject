{
 "cells": [
  {
   "cell_type": "markdown",
   "metadata": {},
   "source": [
    "## santander product recommendation by logistic regression"
   ]
  },
  {
   "cell_type": "markdown",
   "metadata": {},
   "source": [
    "## logistic regression"
   ]
  },
  {
   "cell_type": "markdown",
   "metadata": {},
   "source": [
    "### import packages"
   ]
  },
  {
   "cell_type": "code",
   "execution_count": 1,
   "metadata": {},
   "outputs": [
    {
     "name": "stderr",
     "output_type": "stream",
     "text": [
      "C:\\Users\\ledes\\Anaconda3\\lib\\site-packages\\statsmodels\\compat\\pandas.py:56: FutureWarning: The pandas.core.datetools module is deprecated and will be removed in a future version. Please use the pandas.tseries module instead.\n",
      "  from pandas.core import datetools\n"
     ]
    }
   ],
   "source": [
    "import time\n",
    "import numpy as np\n",
    "import pandas as pd\n",
    "from sklearn.model_selection import train_test_split, KFold\n",
    "import multiprocessing\n",
    "from scipy import sparse\n",
    "import scipy as sp\n",
    "import statsmodels.api as sm\n",
    "import seaborn as sns\n",
    "import matplotlib as mpl\n",
    "import matplotlib.pylab as plt\n",
    "import statsmodels.stats.api as sms\n",
    "%matplotlib inline\n",
    "import warnings\n",
    "from scipy import stats\n",
    "from sklearn.linear_model import LogisticRegression\n",
    "from sklearn.metrics import *\n",
    "\n",
    "warnings.filterwarnings('ignore')\n",
    "\n",
    "pd.set_option(\"display.max_columns\", None)\n",
    "\n"
   ]
  },
  {
   "cell_type": "markdown",
   "metadata": {},
   "source": [
    "### feature selection\n",
    "- 날짜데이터 2개 제외 : antiguedad에 포함 되어있음\n",
    "- 대부분이 null값인 column 2개 제외\n",
    "- 중복되는 칼럼 제외"
   ]
  },
  {
   "cell_type": "code",
   "execution_count": 2,
   "metadata": {
    "collapsed": true
   },
   "outputs": [],
   "source": [
    "X_features= [\"ncodpers\",\n",
    " 'ind_empleado','pais_residencia','sexo','age','ind_nuevo','antiguedad','indrel',\n",
    " 'indrel_1mes','tiprel_1mes','indresi','indext','canal_entrada','indfall',\n",
    " 'tipodom','cod_prov','ind_actividad_cliente','renta','segmento']\n",
    "\n",
    "notuse = [\"ult_fec_cli_1t\",\"nomprov\", \"conyuemp\", \"fecha_dato\", \"fecha_alta\"]\n",
    "\n",
    "y_features = [\n",
    " 'ind_ahor_fin_ult1','ind_aval_fin_ult1','ind_cco_fin_ult1','ind_cder_fin_ult1','ind_cno_fin_ult1','ind_ctju_fin_ult1',\n",
    " 'ind_ctma_fin_ult1','ind_ctop_fin_ult1','ind_ctpp_fin_ult1','ind_deco_fin_ult1','ind_deme_fin_ult1',\n",
    " 'ind_dela_fin_ult1','ind_ecue_fin_ult1','ind_fond_fin_ult1','ind_hip_fin_ult1','ind_plan_fin_ult1',\n",
    " 'ind_pres_fin_ult1','ind_reca_fin_ult1','ind_tjcr_fin_ult1','ind_valo_fin_ult1','ind_viv_fin_ult1','ind_nomina_ult1',\n",
    " 'ind_nom_pens_ult1','ind_recibo_ult1']\n",
    "\n",
    "train_cols = X_features + y_features"
   ]
  },
  {
   "cell_type": "code",
   "execution_count": 3,
   "metadata": {
    "collapsed": true
   },
   "outputs": [],
   "source": [
    "df_train = pd.read_csv(\"all_clean.csv\", usecols = train_cols, nrows = 1000000)"
   ]
  },
  {
   "cell_type": "code",
   "execution_count": 4,
   "metadata": {
    "collapsed": true
   },
   "outputs": [],
   "source": [
    "df_test = pd.read_csv(\"test_ver2.csv\", usecols = X_features)"
   ]
  },
  {
   "cell_type": "markdown",
   "metadata": {},
   "source": [
    "## train - null clear"
   ]
  },
  {
   "cell_type": "code",
   "execution_count": 5,
   "metadata": {
    "collapsed": true
   },
   "outputs": [],
   "source": [
    "df_train = df_train[df_train['ind_nuevo'] == 0]\n",
    "df_train = df_train[df_train['antiguedad'] != -999999]\n",
    "df_train = df_train[df_train['indrel'] == 1]\n",
    "df_train = df_train[df_train['indresi'] == 'S']\n",
    "df_train = df_train[df_train['indfall'] == 'N']\n",
    "df_train = df_train[df_train['tipodom'] == 1]\n",
    "df_train = df_train[df_train['ind_empleado'] == 'N']\n",
    "df_train = df_train[df_train['pais_residencia'] == 'ES']\n",
    "df_train = df_train[df_train['indrel_1mes'] == 1]\n",
    "df_train = df_train[df_train['tiprel_1mes'] == ('A' or 'I')]\n",
    "df_train = df_train[df_train['indext'] == 'N']\n",
    "\n",
    "# null - 최빈값\n",
    "df_train[\"canal_entrada\"] = df_train[\"canal_entrada\"].fillna(df_train[\"canal_entrada\"].value_counts().index[0])\n",
    "# null - 평균값\n",
    "df_train[\"renta\"] = df_train[\"renta\"].fillna(df_train[\"renta\"].mean())\n",
    "# null - 최빈값\n",
    "df_train[\"segmento\"] = df_train[\"segmento\"].fillna(df_train[\"segmento\"].value_counts().index[0])"
   ]
  },
  {
   "cell_type": "markdown",
   "metadata": {},
   "source": [
    "## train - dtype clear\n",
    "- to int"
   ]
  },
  {
   "cell_type": "code",
   "execution_count": 6,
   "metadata": {
    "collapsed": true
   },
   "outputs": [],
   "source": [
    "#segmento - dtype 변형\n",
    "def func_for_segmento(x) :    \n",
    "    if type(x) != float :\n",
    "        if \"1\" in x :\n",
    "            result = 1\n",
    "        elif \"2\" in x :\n",
    "            result = 2\n",
    "        elif \"3\" in x :\n",
    "            result = 3\n",
    "    else : \n",
    "        result = None\n",
    "    return result\n",
    "\n",
    "df_train[\"segmento\"] = df_train[\"segmento\"].apply(func_for_segmento)\n",
    "\n",
    "#canal_entrada - 상위 4개 제외, 그 이외 vlaue는 5번째껄로 통일\n",
    "target_values = [\"KHE\", \"KAT\", \"KFC\", \"KHQ\"]\n",
    "\n",
    "df_train[\"canal_entrada\"] = df_train[\"canal_entrada\"].apply(lambda x : \"KHM\" if x not in target_values else x)"
   ]
  },
  {
   "cell_type": "markdown",
   "metadata": {},
   "source": [
    "## test - null clear"
   ]
  },
  {
   "cell_type": "code",
   "execution_count": null,
   "metadata": {},
   "outputs": [],
   "source": [
    "df_test = df_test[df_test['ind_nuevo'] == 0]\n",
    "df_test = df_test[df_test['antiguedad'] != -999999]\n",
    "df_test = df_test[df_test['indrel'] == 1]\n",
    "df_test = df_test[df_test['indresi'] == 'S']\n",
    "df_test = df_test[df_test['indfall'] == 'N']\n",
    "df_test = df_test[df_test['tipodom'] == 1]\n",
    "df_test = df_test[df_test['ind_empleado'] == 'N']\n",
    "df_test = df_test[df_test['pais_residencia'] == 'ES']\n",
    "df_test = df_test[df_test['indrel_1mes'] == 1]\n",
    "df_test = df_test[df_test['tiprel_1mes'] == ('A' or 'I')]\n",
    "df_test = df_test[df_test['indext'] == 'N']\n",
    "\n",
    "# null - 최빈값\n",
    "df_test[\"canal_entrada\"] = df_test[\"canal_entrada\"].fillna(df_test[\"canal_entrada\"].value_counts().index[0])\n",
    "# null - 평균값\n",
    "df_test[\"renta\"] = df_test[\"renta\"].fillna(df_test[\"renta\"].mean())\n",
    "# null - 최빈값\n",
    "df_test[\"segmento\"] = df_test[\"segmento\"].fillna(df_test[\"segmento\"].value_counts().index[0])"
   ]
  },
  {
   "cell_type": "code",
   "execution_count": null,
   "metadata": {
    "collapsed": true
   },
   "outputs": [],
   "source": [
    "#segmento - dtype 변형\n",
    "df_test[\"segmento\"] = df_test[\"segmento\"].apply(func_for_segmento)\n",
    "\n",
    "#canal_entrada - 상위 4개 제외, 그 이외 vlaue는 5번째껄로 통일\n",
    "df_test[\"canal_entrada\"] = df_test[\"canal_entrada\"].apply(lambda x : \"KHM\" if x not in target_values else x)"
   ]
  },
  {
   "cell_type": "code",
   "execution_count": null,
   "metadata": {
    "collapsed": true
   },
   "outputs": [],
   "source": [
    "dummy_col = [ \"ind_empleado\", \"indresi\", \"indext\", \"canal_entrada\", \"indfall\", \"tiprel_1mes\", \"sexo\", \"pais_residencia\"]\n",
    "\n",
    "X_train = pd.get_dummies(df_train, prefix = dummy_col, columns = dummy_col)\n",
    "y_test = pd.get_dummies(df_test, prefix = dummy_col, columns = dummy_col)"
   ]
  },
  {
   "cell_type": "code",
   "execution_count": null,
   "metadata": {
    "collapsed": true
   },
   "outputs": [],
   "source": [
    "#y_features 제거\n",
    "X_train = X_train.drop(columns = y_features + [\"ncodpers\"])\n",
    "y_train = df_train[y_features]\n",
    "y_test = y_test.drop(columns = \"ncodpers\")"
   ]
  },
  {
   "cell_type": "code",
   "execution_count": null,
   "metadata": {
    "scrolled": true
   },
   "outputs": [],
   "source": [
    "sum(X_train.isnull().sum())"
   ]
  },
  {
   "cell_type": "code",
   "execution_count": null,
   "metadata": {},
   "outputs": [],
   "source": [
    "y_test.head()"
   ]
  },
  {
   "cell_type": "code",
   "execution_count": null,
   "metadata": {
    "collapsed": true
   },
   "outputs": [],
   "source": [
    "#train model\n",
    "model = LogisticRegression().fit(X_train, y_train[y_train.columns[0]])"
   ]
  },
  {
   "cell_type": "code",
   "execution_count": null,
   "metadata": {
    "collapsed": true,
    "scrolled": true
   },
   "outputs": [],
   "source": [
    "y_pred = model.predict(X_train)"
   ]
  },
  {
   "cell_type": "code",
   "execution_count": null,
   "metadata": {
    "collapsed": true,
    "scrolled": true
   },
   "outputs": [],
   "source": [
    "confusion_matrix(y_train[y_train.columns[0]], y_pred)"
   ]
  },
  {
   "cell_type": "code",
   "execution_count": null,
   "metadata": {
    "collapsed": true,
    "scrolled": true
   },
   "outputs": [],
   "source": [
    "print(roc_auc_score(y_train[y_train.columns[0]], y_pred))"
   ]
  },
  {
   "cell_type": "code",
   "execution_count": null,
   "metadata": {
    "collapsed": true
   },
   "outputs": [],
   "source": [
    "sample = pd.read_csv(\"sample_submission.csv\")"
   ]
  },
  {
   "cell_type": "code",
   "execution_count": null,
   "metadata": {
    "collapsed": true
   },
   "outputs": [],
   "source": [
    "sample.head()"
   ]
  },
  {
   "cell_type": "code",
   "execution_count": null,
   "metadata": {
    "collapsed": true
   },
   "outputs": [],
   "source": [
    "df_test.head()"
   ]
  }
 ],
 "metadata": {
  "kernelspec": {
   "display_name": "Python 3",
   "language": "python",
   "name": "python3"
  },
  "language_info": {
   "codemirror_mode": {
    "name": "ipython",
    "version": 3
   },
   "file_extension": ".py",
   "mimetype": "text/x-python",
   "name": "python",
   "nbconvert_exporter": "python",
   "pygments_lexer": "ipython3",
   "version": "3.6.3"
  }
 },
 "nbformat": 4,
 "nbformat_minor": 2
}
